{
  "nbformat": 4,
  "nbformat_minor": 0,
  "metadata": {
    "colab": {
      "provenance": [],
      "include_colab_link": true
    },
    "kernelspec": {
      "name": "python3",
      "display_name": "Python 3"
    },
    "language_info": {
      "name": "python"
    }
  },
  "cells": [
    {
      "cell_type": "markdown",
      "metadata": {
        "id": "view-in-github",
        "colab_type": "text"
      },
      "source": [
        "<a href=\"https://colab.research.google.com/github/agenorrneto/prs_plots/blob/master/gr%C3%A1ficos_prs.ipynb\" target=\"_parent\"><img src=\"https://colab.research.google.com/assets/colab-badge.svg\" alt=\"Open In Colab\"/></a>"
      ]
    },
    {
      "cell_type": "code",
      "execution_count": 1,
      "metadata": {
        "id": "MGTmIh8RLXXx"
      },
      "outputs": [],
      "source": [
        "from numpy import random\n",
        "import numpy as np\n",
        "import pandas as pd\n",
        "import plotly.express as px\n",
        "import seaborn as sns\n",
        "import matplotlib.pyplot as plt"
      ]
    },
    {
      "cell_type": "markdown",
      "source": [
        "##Random numbers (training)"
      ],
      "metadata": {
        "id": "PB0pFcDBlUKg"
      }
    },
    {
      "cell_type": "code",
      "source": [
        "random.randint(100)"
      ],
      "metadata": {
        "colab": {
          "base_uri": "https://localhost:8080/"
        },
        "id": "YRjGQ_T6Ledw",
        "outputId": "ba7c8f92-a0d1-4b8e-b409-034dae106bc8"
      },
      "execution_count": 2,
      "outputs": [
        {
          "output_type": "execute_result",
          "data": {
            "text/plain": [
              "65"
            ]
          },
          "metadata": {},
          "execution_count": 2
        }
      ]
    },
    {
      "cell_type": "code",
      "source": [
        "z = random.randint(100, size=10)\n",
        "print(z)"
      ],
      "metadata": {
        "colab": {
          "base_uri": "https://localhost:8080/"
        },
        "id": "reKVCZwqL4TY",
        "outputId": "5bcceddb-4771-4cf5-ea04-b27f17e74d57"
      },
      "execution_count": 3,
      "outputs": [
        {
          "output_type": "stream",
          "name": "stdout",
          "text": [
            "[63 14 99 65 49 60 31 14 85 51]\n"
          ]
        }
      ]
    },
    {
      "cell_type": "code",
      "source": [
        "z_bi = random.randint(100, size=(10, 20))\n",
        "print(z_bi)"
      ],
      "metadata": {
        "colab": {
          "base_uri": "https://localhost:8080/"
        },
        "id": "oPGGqCPPMUti",
        "outputId": "a57d40dd-328b-4bb3-e73a-b10ae96ab705"
      },
      "execution_count": 4,
      "outputs": [
        {
          "output_type": "stream",
          "name": "stdout",
          "text": [
            "[[71 89  5 68 44 11 37 15 63 71 28  9  4 85 40 26 77 45 80  2]\n",
            " [71 52 37 64  7  6 49 76 69 99 74 71 64 51 71 75 59 75 78 87]\n",
            " [99  3 80 40 64 80 47 70 46 31 85 36 52 90 90 41 92 57 77 84]\n",
            " [ 6 30 99 65 68  3 43 45 46 20 19 41  3 12 68 40 88 46  0  4]\n",
            " [75 13 81 67 62 99  0 96  1 95 41  0 21 14 29 91 59 79 59 83]\n",
            " [ 4 34 94 15 65 58 11 86 29 32 98 10 70  5 73 94 61 95 57 77]\n",
            " [25 57 26 93 82 62 61 96 39 60 92 66  4 89 51 15 20 64 26 75]\n",
            " [57  9 89 82 28 31 68 95 89 85 87 35 58 92 12 17 90  9 85 47]\n",
            " [43 30 84 66 48 68 86 84 52 97 19 20 49 30  8 62  5 74 44 52]\n",
            " [58 29 48 68 71 17 83 57 45  2 11 29 56 63 85 15 41 66 50 31]]\n"
          ]
        }
      ]
    },
    {
      "cell_type": "code",
      "source": [
        "a = random.rand(10)\n",
        "print(a)"
      ],
      "metadata": {
        "colab": {
          "base_uri": "https://localhost:8080/"
        },
        "id": "xH5wWARbMbnX",
        "outputId": "ceec58d4-7e73-4ed1-ccb3-681eee3b01b1"
      },
      "execution_count": 5,
      "outputs": [
        {
          "output_type": "stream",
          "name": "stdout",
          "text": [
            "[0.5174873  0.59644641 0.74239633 0.69876083 0.67364422 0.69463052\n",
            " 0.44792596 0.29712287 0.74958773 0.1778714 ]\n"
          ]
        }
      ]
    },
    {
      "cell_type": "markdown",
      "source": [
        "##Generating random data"
      ],
      "metadata": {
        "id": "nCCMPJFrlbMf"
      }
    },
    {
      "cell_type": "code",
      "source": [
        "#Primeiramente, precisamos gerar dados simulados para a plotagem dos gráficos. Aqui é gerado um dataframe com duas colunas: uma coluna com valores de IMC\n",
        "# e outras com valores de PRS (polygenic risk score)\n",
        "prs_data = pd.DataFrame({\"imc\": random.normal(27.0, 3, size=1000),\n",
        "                         \"prs\": random.normal(2.5, 1, size=1000)})"
      ],
      "metadata": {
        "id": "_GwaHoKicC7p"
      },
      "execution_count": 6,
      "outputs": []
    },
    {
      "cell_type": "code",
      "source": [
        "prs_data"
      ],
      "metadata": {
        "colab": {
          "base_uri": "https://localhost:8080/",
          "height": 0
        },
        "id": "AAWk7eeUcXFq",
        "outputId": "defeff6f-c0ce-44d3-9ff1-319694693a81"
      },
      "execution_count": 7,
      "outputs": [
        {
          "output_type": "execute_result",
          "data": {
            "text/plain": [
              "           imc       prs\n",
              "0    25.581212  1.190600\n",
              "1    22.889882  3.456974\n",
              "2    23.894118  1.523977\n",
              "3    28.758104  3.789539\n",
              "4    29.613595  3.229053\n",
              "..         ...       ...\n",
              "995  30.377202  1.890787\n",
              "996  25.898121  3.177605\n",
              "997  27.086962  2.858559\n",
              "998  28.444945  2.101281\n",
              "999  27.043901  2.296545\n",
              "\n",
              "[1000 rows x 2 columns]"
            ],
            "text/html": [
              "\n",
              "  <div id=\"df-4a6f0a61-d71b-4b65-8629-c60758de3ab4\">\n",
              "    <div class=\"colab-df-container\">\n",
              "      <div>\n",
              "<style scoped>\n",
              "    .dataframe tbody tr th:only-of-type {\n",
              "        vertical-align: middle;\n",
              "    }\n",
              "\n",
              "    .dataframe tbody tr th {\n",
              "        vertical-align: top;\n",
              "    }\n",
              "\n",
              "    .dataframe thead th {\n",
              "        text-align: right;\n",
              "    }\n",
              "</style>\n",
              "<table border=\"1\" class=\"dataframe\">\n",
              "  <thead>\n",
              "    <tr style=\"text-align: right;\">\n",
              "      <th></th>\n",
              "      <th>imc</th>\n",
              "      <th>prs</th>\n",
              "    </tr>\n",
              "  </thead>\n",
              "  <tbody>\n",
              "    <tr>\n",
              "      <th>0</th>\n",
              "      <td>25.581212</td>\n",
              "      <td>1.190600</td>\n",
              "    </tr>\n",
              "    <tr>\n",
              "      <th>1</th>\n",
              "      <td>22.889882</td>\n",
              "      <td>3.456974</td>\n",
              "    </tr>\n",
              "    <tr>\n",
              "      <th>2</th>\n",
              "      <td>23.894118</td>\n",
              "      <td>1.523977</td>\n",
              "    </tr>\n",
              "    <tr>\n",
              "      <th>3</th>\n",
              "      <td>28.758104</td>\n",
              "      <td>3.789539</td>\n",
              "    </tr>\n",
              "    <tr>\n",
              "      <th>4</th>\n",
              "      <td>29.613595</td>\n",
              "      <td>3.229053</td>\n",
              "    </tr>\n",
              "    <tr>\n",
              "      <th>...</th>\n",
              "      <td>...</td>\n",
              "      <td>...</td>\n",
              "    </tr>\n",
              "    <tr>\n",
              "      <th>995</th>\n",
              "      <td>30.377202</td>\n",
              "      <td>1.890787</td>\n",
              "    </tr>\n",
              "    <tr>\n",
              "      <th>996</th>\n",
              "      <td>25.898121</td>\n",
              "      <td>3.177605</td>\n",
              "    </tr>\n",
              "    <tr>\n",
              "      <th>997</th>\n",
              "      <td>27.086962</td>\n",
              "      <td>2.858559</td>\n",
              "    </tr>\n",
              "    <tr>\n",
              "      <th>998</th>\n",
              "      <td>28.444945</td>\n",
              "      <td>2.101281</td>\n",
              "    </tr>\n",
              "    <tr>\n",
              "      <th>999</th>\n",
              "      <td>27.043901</td>\n",
              "      <td>2.296545</td>\n",
              "    </tr>\n",
              "  </tbody>\n",
              "</table>\n",
              "<p>1000 rows × 2 columns</p>\n",
              "</div>\n",
              "      <button class=\"colab-df-convert\" onclick=\"convertToInteractive('df-4a6f0a61-d71b-4b65-8629-c60758de3ab4')\"\n",
              "              title=\"Convert this dataframe to an interactive table.\"\n",
              "              style=\"display:none;\">\n",
              "        \n",
              "  <svg xmlns=\"http://www.w3.org/2000/svg\" height=\"24px\"viewBox=\"0 0 24 24\"\n",
              "       width=\"24px\">\n",
              "    <path d=\"M0 0h24v24H0V0z\" fill=\"none\"/>\n",
              "    <path d=\"M18.56 5.44l.94 2.06.94-2.06 2.06-.94-2.06-.94-.94-2.06-.94 2.06-2.06.94zm-11 1L8.5 8.5l.94-2.06 2.06-.94-2.06-.94L8.5 2.5l-.94 2.06-2.06.94zm10 10l.94 2.06.94-2.06 2.06-.94-2.06-.94-.94-2.06-.94 2.06-2.06.94z\"/><path d=\"M17.41 7.96l-1.37-1.37c-.4-.4-.92-.59-1.43-.59-.52 0-1.04.2-1.43.59L10.3 9.45l-7.72 7.72c-.78.78-.78 2.05 0 2.83L4 21.41c.39.39.9.59 1.41.59.51 0 1.02-.2 1.41-.59l7.78-7.78 2.81-2.81c.8-.78.8-2.07 0-2.86zM5.41 20L4 18.59l7.72-7.72 1.47 1.35L5.41 20z\"/>\n",
              "  </svg>\n",
              "      </button>\n",
              "      \n",
              "  <style>\n",
              "    .colab-df-container {\n",
              "      display:flex;\n",
              "      flex-wrap:wrap;\n",
              "      gap: 12px;\n",
              "    }\n",
              "\n",
              "    .colab-df-convert {\n",
              "      background-color: #E8F0FE;\n",
              "      border: none;\n",
              "      border-radius: 50%;\n",
              "      cursor: pointer;\n",
              "      display: none;\n",
              "      fill: #1967D2;\n",
              "      height: 32px;\n",
              "      padding: 0 0 0 0;\n",
              "      width: 32px;\n",
              "    }\n",
              "\n",
              "    .colab-df-convert:hover {\n",
              "      background-color: #E2EBFA;\n",
              "      box-shadow: 0px 1px 2px rgba(60, 64, 67, 0.3), 0px 1px 3px 1px rgba(60, 64, 67, 0.15);\n",
              "      fill: #174EA6;\n",
              "    }\n",
              "\n",
              "    [theme=dark] .colab-df-convert {\n",
              "      background-color: #3B4455;\n",
              "      fill: #D2E3FC;\n",
              "    }\n",
              "\n",
              "    [theme=dark] .colab-df-convert:hover {\n",
              "      background-color: #434B5C;\n",
              "      box-shadow: 0px 1px 3px 1px rgba(0, 0, 0, 0.15);\n",
              "      filter: drop-shadow(0px 1px 2px rgba(0, 0, 0, 0.3));\n",
              "      fill: #FFFFFF;\n",
              "    }\n",
              "  </style>\n",
              "\n",
              "      <script>\n",
              "        const buttonEl =\n",
              "          document.querySelector('#df-4a6f0a61-d71b-4b65-8629-c60758de3ab4 button.colab-df-convert');\n",
              "        buttonEl.style.display =\n",
              "          google.colab.kernel.accessAllowed ? 'block' : 'none';\n",
              "\n",
              "        async function convertToInteractive(key) {\n",
              "          const element = document.querySelector('#df-4a6f0a61-d71b-4b65-8629-c60758de3ab4');\n",
              "          const dataTable =\n",
              "            await google.colab.kernel.invokeFunction('convertToInteractive',\n",
              "                                                     [key], {});\n",
              "          if (!dataTable) return;\n",
              "\n",
              "          const docLinkHtml = 'Like what you see? Visit the ' +\n",
              "            '<a target=\"_blank\" href=https://colab.research.google.com/notebooks/data_table.ipynb>data table notebook</a>'\n",
              "            + ' to learn more about interactive tables.';\n",
              "          element.innerHTML = '';\n",
              "          dataTable['output_type'] = 'display_data';\n",
              "          await google.colab.output.renderOutput(dataTable, element);\n",
              "          const docLink = document.createElement('div');\n",
              "          docLink.innerHTML = docLinkHtml;\n",
              "          element.appendChild(docLink);\n",
              "        }\n",
              "      </script>\n",
              "    </div>\n",
              "  </div>\n",
              "  "
            ]
          },
          "metadata": {},
          "execution_count": 7
        }
      ]
    },
    {
      "cell_type": "code",
      "source": [
        "#Agora, também precisamos categorizar os dados de IMC em pessoas em situação normal e em obesidade\n",
        "bins_imc = [0, 30, np.inf]\n",
        "names = [\"Normal\", \"Obesidade\"]\n",
        "\n",
        "prs_data[\"imc_cat\"] = pd.cut(prs_data[\"imc\"], bins=bins_imc, labels=names)"
      ],
      "metadata": {
        "id": "tQijkb57dCe6"
      },
      "execution_count": 8,
      "outputs": []
    },
    {
      "cell_type": "code",
      "source": [
        "prs_data.imc_cat.value_counts()"
      ],
      "metadata": {
        "colab": {
          "base_uri": "https://localhost:8080/"
        },
        "id": "DzOhsw4udfBy",
        "outputId": "5a7d0eeb-4bb0-4e0d-8534-38d837508fff"
      },
      "execution_count": 9,
      "outputs": [
        {
          "output_type": "execute_result",
          "data": {
            "text/plain": [
              "Normal       855\n",
              "Obesidade    145\n",
              "Name: imc_cat, dtype: int64"
            ]
          },
          "metadata": {},
          "execution_count": 9
        }
      ]
    },
    {
      "cell_type": "code",
      "source": [
        "#Em alguns gráficos, a amostra será dividida em quantis. Dessa forma, aqui, utilizando a função qcut do pandas, separamos a amostra\n",
        "# de PRSs em quantis de tamanhos desiguais, concentrando os maiores PRSs nos últimos quantis.\n",
        "prs_data[\"prs_quantile\"] = pd.qcut(prs_data[\"prs\"], q=[0, 0.10, 0.20, 0.40, 0.60, 0.80, 0.90, 0.95, 0.99, 1.0], labels=[\"(0, 0.1]\", \"(0.1, 0.2]\", \"(0.2, 0.4]\", \"(0.4, 0.6]\", \"(0.6, 0.8]\",\n",
        "                                                        \"(0.8, 0.9]\", \"(0.9, 0.95]\", \"(0.95, 0.99]\", \"(0.99, 1.0]\"])"
      ],
      "metadata": {
        "id": "uN7_0eUQeFT6"
      },
      "execution_count": 10,
      "outputs": []
    },
    {
      "cell_type": "code",
      "source": [
        "prs_data"
      ],
      "metadata": {
        "colab": {
          "base_uri": "https://localhost:8080/",
          "height": 0
        },
        "id": "zzxgy-fXhfFr",
        "outputId": "e17df05b-04a4-45b1-900c-22cebed69c2d"
      },
      "execution_count": 11,
      "outputs": [
        {
          "output_type": "execute_result",
          "data": {
            "text/plain": [
              "           imc       prs    imc_cat prs_quantile\n",
              "0    25.581212  1.190600     Normal     (0, 0.1]\n",
              "1    22.889882  3.456974     Normal   (0.8, 0.9]\n",
              "2    23.894118  1.523977     Normal   (0.1, 0.2]\n",
              "3    28.758104  3.789539     Normal  (0.9, 0.95]\n",
              "4    29.613595  3.229053     Normal   (0.6, 0.8]\n",
              "..         ...       ...        ...          ...\n",
              "995  30.377202  1.890787  Obesidade   (0.2, 0.4]\n",
              "996  25.898121  3.177605     Normal   (0.6, 0.8]\n",
              "997  27.086962  2.858559     Normal   (0.6, 0.8]\n",
              "998  28.444945  2.101281     Normal   (0.2, 0.4]\n",
              "999  27.043901  2.296545     Normal   (0.4, 0.6]\n",
              "\n",
              "[1000 rows x 4 columns]"
            ],
            "text/html": [
              "\n",
              "  <div id=\"df-e221e2cf-746f-470f-b39a-a63380142212\">\n",
              "    <div class=\"colab-df-container\">\n",
              "      <div>\n",
              "<style scoped>\n",
              "    .dataframe tbody tr th:only-of-type {\n",
              "        vertical-align: middle;\n",
              "    }\n",
              "\n",
              "    .dataframe tbody tr th {\n",
              "        vertical-align: top;\n",
              "    }\n",
              "\n",
              "    .dataframe thead th {\n",
              "        text-align: right;\n",
              "    }\n",
              "</style>\n",
              "<table border=\"1\" class=\"dataframe\">\n",
              "  <thead>\n",
              "    <tr style=\"text-align: right;\">\n",
              "      <th></th>\n",
              "      <th>imc</th>\n",
              "      <th>prs</th>\n",
              "      <th>imc_cat</th>\n",
              "      <th>prs_quantile</th>\n",
              "    </tr>\n",
              "  </thead>\n",
              "  <tbody>\n",
              "    <tr>\n",
              "      <th>0</th>\n",
              "      <td>25.581212</td>\n",
              "      <td>1.190600</td>\n",
              "      <td>Normal</td>\n",
              "      <td>(0, 0.1]</td>\n",
              "    </tr>\n",
              "    <tr>\n",
              "      <th>1</th>\n",
              "      <td>22.889882</td>\n",
              "      <td>3.456974</td>\n",
              "      <td>Normal</td>\n",
              "      <td>(0.8, 0.9]</td>\n",
              "    </tr>\n",
              "    <tr>\n",
              "      <th>2</th>\n",
              "      <td>23.894118</td>\n",
              "      <td>1.523977</td>\n",
              "      <td>Normal</td>\n",
              "      <td>(0.1, 0.2]</td>\n",
              "    </tr>\n",
              "    <tr>\n",
              "      <th>3</th>\n",
              "      <td>28.758104</td>\n",
              "      <td>3.789539</td>\n",
              "      <td>Normal</td>\n",
              "      <td>(0.9, 0.95]</td>\n",
              "    </tr>\n",
              "    <tr>\n",
              "      <th>4</th>\n",
              "      <td>29.613595</td>\n",
              "      <td>3.229053</td>\n",
              "      <td>Normal</td>\n",
              "      <td>(0.6, 0.8]</td>\n",
              "    </tr>\n",
              "    <tr>\n",
              "      <th>...</th>\n",
              "      <td>...</td>\n",
              "      <td>...</td>\n",
              "      <td>...</td>\n",
              "      <td>...</td>\n",
              "    </tr>\n",
              "    <tr>\n",
              "      <th>995</th>\n",
              "      <td>30.377202</td>\n",
              "      <td>1.890787</td>\n",
              "      <td>Obesidade</td>\n",
              "      <td>(0.2, 0.4]</td>\n",
              "    </tr>\n",
              "    <tr>\n",
              "      <th>996</th>\n",
              "      <td>25.898121</td>\n",
              "      <td>3.177605</td>\n",
              "      <td>Normal</td>\n",
              "      <td>(0.6, 0.8]</td>\n",
              "    </tr>\n",
              "    <tr>\n",
              "      <th>997</th>\n",
              "      <td>27.086962</td>\n",
              "      <td>2.858559</td>\n",
              "      <td>Normal</td>\n",
              "      <td>(0.6, 0.8]</td>\n",
              "    </tr>\n",
              "    <tr>\n",
              "      <th>998</th>\n",
              "      <td>28.444945</td>\n",
              "      <td>2.101281</td>\n",
              "      <td>Normal</td>\n",
              "      <td>(0.2, 0.4]</td>\n",
              "    </tr>\n",
              "    <tr>\n",
              "      <th>999</th>\n",
              "      <td>27.043901</td>\n",
              "      <td>2.296545</td>\n",
              "      <td>Normal</td>\n",
              "      <td>(0.4, 0.6]</td>\n",
              "    </tr>\n",
              "  </tbody>\n",
              "</table>\n",
              "<p>1000 rows × 4 columns</p>\n",
              "</div>\n",
              "      <button class=\"colab-df-convert\" onclick=\"convertToInteractive('df-e221e2cf-746f-470f-b39a-a63380142212')\"\n",
              "              title=\"Convert this dataframe to an interactive table.\"\n",
              "              style=\"display:none;\">\n",
              "        \n",
              "  <svg xmlns=\"http://www.w3.org/2000/svg\" height=\"24px\"viewBox=\"0 0 24 24\"\n",
              "       width=\"24px\">\n",
              "    <path d=\"M0 0h24v24H0V0z\" fill=\"none\"/>\n",
              "    <path d=\"M18.56 5.44l.94 2.06.94-2.06 2.06-.94-2.06-.94-.94-2.06-.94 2.06-2.06.94zm-11 1L8.5 8.5l.94-2.06 2.06-.94-2.06-.94L8.5 2.5l-.94 2.06-2.06.94zm10 10l.94 2.06.94-2.06 2.06-.94-2.06-.94-.94-2.06-.94 2.06-2.06.94z\"/><path d=\"M17.41 7.96l-1.37-1.37c-.4-.4-.92-.59-1.43-.59-.52 0-1.04.2-1.43.59L10.3 9.45l-7.72 7.72c-.78.78-.78 2.05 0 2.83L4 21.41c.39.39.9.59 1.41.59.51 0 1.02-.2 1.41-.59l7.78-7.78 2.81-2.81c.8-.78.8-2.07 0-2.86zM5.41 20L4 18.59l7.72-7.72 1.47 1.35L5.41 20z\"/>\n",
              "  </svg>\n",
              "      </button>\n",
              "      \n",
              "  <style>\n",
              "    .colab-df-container {\n",
              "      display:flex;\n",
              "      flex-wrap:wrap;\n",
              "      gap: 12px;\n",
              "    }\n",
              "\n",
              "    .colab-df-convert {\n",
              "      background-color: #E8F0FE;\n",
              "      border: none;\n",
              "      border-radius: 50%;\n",
              "      cursor: pointer;\n",
              "      display: none;\n",
              "      fill: #1967D2;\n",
              "      height: 32px;\n",
              "      padding: 0 0 0 0;\n",
              "      width: 32px;\n",
              "    }\n",
              "\n",
              "    .colab-df-convert:hover {\n",
              "      background-color: #E2EBFA;\n",
              "      box-shadow: 0px 1px 2px rgba(60, 64, 67, 0.3), 0px 1px 3px 1px rgba(60, 64, 67, 0.15);\n",
              "      fill: #174EA6;\n",
              "    }\n",
              "\n",
              "    [theme=dark] .colab-df-convert {\n",
              "      background-color: #3B4455;\n",
              "      fill: #D2E3FC;\n",
              "    }\n",
              "\n",
              "    [theme=dark] .colab-df-convert:hover {\n",
              "      background-color: #434B5C;\n",
              "      box-shadow: 0px 1px 3px 1px rgba(0, 0, 0, 0.15);\n",
              "      filter: drop-shadow(0px 1px 2px rgba(0, 0, 0, 0.3));\n",
              "      fill: #FFFFFF;\n",
              "    }\n",
              "  </style>\n",
              "\n",
              "      <script>\n",
              "        const buttonEl =\n",
              "          document.querySelector('#df-e221e2cf-746f-470f-b39a-a63380142212 button.colab-df-convert');\n",
              "        buttonEl.style.display =\n",
              "          google.colab.kernel.accessAllowed ? 'block' : 'none';\n",
              "\n",
              "        async function convertToInteractive(key) {\n",
              "          const element = document.querySelector('#df-e221e2cf-746f-470f-b39a-a63380142212');\n",
              "          const dataTable =\n",
              "            await google.colab.kernel.invokeFunction('convertToInteractive',\n",
              "                                                     [key], {});\n",
              "          if (!dataTable) return;\n",
              "\n",
              "          const docLinkHtml = 'Like what you see? Visit the ' +\n",
              "            '<a target=\"_blank\" href=https://colab.research.google.com/notebooks/data_table.ipynb>data table notebook</a>'\n",
              "            + ' to learn more about interactive tables.';\n",
              "          element.innerHTML = '';\n",
              "          dataTable['output_type'] = 'display_data';\n",
              "          await google.colab.output.renderOutput(dataTable, element);\n",
              "          const docLink = document.createElement('div');\n",
              "          docLink.innerHTML = docLinkHtml;\n",
              "          element.appendChild(docLink);\n",
              "        }\n",
              "      </script>\n",
              "    </div>\n",
              "  </div>\n",
              "  "
            ]
          },
          "metadata": {},
          "execution_count": 11
        }
      ]
    },
    {
      "cell_type": "code",
      "source": [
        "prs_data.prs_quantile.unique()"
      ],
      "metadata": {
        "colab": {
          "base_uri": "https://localhost:8080/"
        },
        "id": "Itxit8bT4Ae1",
        "outputId": "91d33db1-00fd-4320-8bd2-05121cf6c795"
      },
      "execution_count": 12,
      "outputs": [
        {
          "output_type": "execute_result",
          "data": {
            "text/plain": [
              "['(0, 0.1]', '(0.8, 0.9]', '(0.1, 0.2]', '(0.9, 0.95]', '(0.6, 0.8]', '(0.4, 0.6]', '(0.2, 0.4]', '(0.99, 1.0]', '(0.95, 0.99]']\n",
              "Categories (9, object): ['(0, 0.1]' < '(0.1, 0.2]' < '(0.2, 0.4]' < '(0.4, 0.6]' ... '(0.8, 0.9]' <\n",
              "                         '(0.9, 0.95]' < '(0.95, 0.99]' < '(0.99, 1.0]']"
            ]
          },
          "metadata": {},
          "execution_count": 12
        }
      ]
    },
    {
      "cell_type": "code",
      "source": [
        "prs_data[\"prs_quantile\"] = prs_data[\"prs_quantile\"].astype('str')"
      ],
      "metadata": {
        "id": "AwPaI9a4it3s"
      },
      "execution_count": 13,
      "outputs": []
    },
    {
      "cell_type": "code",
      "source": [
        "prs_data.info()"
      ],
      "metadata": {
        "colab": {
          "base_uri": "https://localhost:8080/"
        },
        "id": "ADA9D4mRjDhb",
        "outputId": "dc223023-7840-4224-9263-28d91dcd8ca4"
      },
      "execution_count": 14,
      "outputs": [
        {
          "output_type": "stream",
          "name": "stdout",
          "text": [
            "<class 'pandas.core.frame.DataFrame'>\n",
            "RangeIndex: 1000 entries, 0 to 999\n",
            "Data columns (total 4 columns):\n",
            " #   Column        Non-Null Count  Dtype   \n",
            "---  ------        --------------  -----   \n",
            " 0   imc           1000 non-null   float64 \n",
            " 1   prs           1000 non-null   float64 \n",
            " 2   imc_cat       1000 non-null   category\n",
            " 3   prs_quantile  1000 non-null   object  \n",
            "dtypes: category(1), float64(2), object(1)\n",
            "memory usage: 24.7+ KB\n"
          ]
        }
      ]
    },
    {
      "cell_type": "code",
      "source": [
        "fig = px.strip(prs_data, x=\"prs_quantile\", y=\"imc\", color=\"imc_cat\", stripmode=\"overlay\", category_orders={\"prs_quantile\": [\"(0, 0.1]\", \"(0.1, 0.2]\", \"(0.2, 0.4]\", \"(0.4, 0.6]\", \"(0.6, 0.8]\",\n",
        "                                                        \"(0.8, 0.9]\", \"(0.9, 0.95]\", \"(0.95, 0.99]\", \"(0.99, 1.0]\"]})\n",
        "fig.update_xaxes(tickangle=45)\n",
        "fig.show()"
      ],
      "metadata": {
        "colab": {
          "base_uri": "https://localhost:8080/",
          "height": 0
        },
        "id": "Zml9c_ZsiCwC",
        "outputId": "67a8853d-f786-4468-9c55-777cac4f4fff"
      },
      "execution_count": 15,
      "outputs": [
        {
          "output_type": "display_data",
          "data": {
            "text/html": [
              "<html>\n",
              "<head><meta charset=\"utf-8\" /></head>\n",
              "<body>\n",
              "    <div>            <script src=\"https://cdnjs.cloudflare.com/ajax/libs/mathjax/2.7.5/MathJax.js?config=TeX-AMS-MML_SVG\"></script><script type=\"text/javascript\">if (window.MathJax && window.MathJax.Hub && window.MathJax.Hub.Config) {window.MathJax.Hub.Config({SVG: {font: \"STIX-Web\"}});}</script>                <script type=\"text/javascript\">window.PlotlyConfig = {MathJaxConfig: 'local'};</script>\n",
              "        <script src=\"https://cdn.plot.ly/plotly-2.18.2.min.js\"></script>                <div id=\"cdf3f7bf-3717-4fd9-854e-7d501b77fb63\" class=\"plotly-graph-div\" style=\"height:525px; width:100%;\"></div>            <script type=\"text/javascript\">                                    window.PLOTLYENV=window.PLOTLYENV || {};                                    if (document.getElementById(\"cdf3f7bf-3717-4fd9-854e-7d501b77fb63\")) {                    Plotly.newPlot(                        \"cdf3f7bf-3717-4fd9-854e-7d501b77fb63\",                        [{\"alignmentgroup\":\"True\",\"boxpoints\":\"all\",\"fillcolor\":\"rgba(255,255,255,0)\",\"hoveron\":\"points\",\"hovertemplate\":\"imc_cat=Normal<br>prs_quantile=%{x}<br>imc=%{y}<extra></extra>\",\"legendgroup\":\"Normal\",\"line\":{\"color\":\"rgba(255,255,255,0)\"},\"marker\":{\"color\":\"#636efa\"},\"name\":\"Normal\",\"offsetgroup\":\"Normal\",\"orientation\":\"v\",\"pointpos\":0,\"showlegend\":true,\"x\":[\"(0, 0.1]\",\"(0.8, 0.9]\",\"(0.1, 0.2]\",\"(0.9, 0.95]\",\"(0.6, 0.8]\",\"(0.4, 0.6]\",\"(0.9, 0.95]\",\"(0.4, 0.6]\",\"(0.2, 0.4]\",\"(0.4, 0.6]\",\"(0.2, 0.4]\",\"(0.2, 0.4]\",\"(0.2, 0.4]\",\"(0.9, 0.95]\",\"(0.9, 0.95]\",\"(0.99, 1.0]\",\"(0.4, 0.6]\",\"(0.1, 0.2]\",\"(0.2, 0.4]\",\"(0.6, 0.8]\",\"(0.6, 0.8]\",\"(0.4, 0.6]\",\"(0.6, 0.8]\",\"(0.6, 0.8]\",\"(0.1, 0.2]\",\"(0.4, 0.6]\",\"(0.4, 0.6]\",\"(0.2, 0.4]\",\"(0.6, 0.8]\",\"(0.2, 0.4]\",\"(0.6, 0.8]\",\"(0.1, 0.2]\",\"(0.2, 0.4]\",\"(0.2, 0.4]\",\"(0.6, 0.8]\",\"(0.4, 0.6]\",\"(0.8, 0.9]\",\"(0.6, 0.8]\",\"(0, 0.1]\",\"(0, 0.1]\",\"(0.8, 0.9]\",\"(0.4, 0.6]\",\"(0.1, 0.2]\",\"(0.1, 0.2]\",\"(0.4, 0.6]\",\"(0.8, 0.9]\",\"(0.8, 0.9]\",\"(0.4, 0.6]\",\"(0.4, 0.6]\",\"(0.99, 1.0]\",\"(0.6, 0.8]\",\"(0.6, 0.8]\",\"(0.8, 0.9]\",\"(0.9, 0.95]\",\"(0.4, 0.6]\",\"(0.6, 0.8]\",\"(0, 0.1]\",\"(0.6, 0.8]\",\"(0.4, 0.6]\",\"(0.8, 0.9]\",\"(0.1, 0.2]\",\"(0.2, 0.4]\",\"(0.2, 0.4]\",\"(0.95, 0.99]\",\"(0.2, 0.4]\",\"(0.95, 0.99]\",\"(0.8, 0.9]\",\"(0.8, 0.9]\",\"(0.6, 0.8]\",\"(0.1, 0.2]\",\"(0.6, 0.8]\",\"(0.2, 0.4]\",\"(0.2, 0.4]\",\"(0.6, 0.8]\",\"(0.6, 0.8]\",\"(0.4, 0.6]\",\"(0.9, 0.95]\",\"(0.6, 0.8]\",\"(0.99, 1.0]\",\"(0.95, 0.99]\",\"(0.8, 0.9]\",\"(0.4, 0.6]\",\"(0.2, 0.4]\",\"(0.2, 0.4]\",\"(0.9, 0.95]\",\"(0.1, 0.2]\",\"(0.6, 0.8]\",\"(0.4, 0.6]\",\"(0.6, 0.8]\",\"(0.2, 0.4]\",\"(0.6, 0.8]\",\"(0.8, 0.9]\",\"(0.6, 0.8]\",\"(0.6, 0.8]\",\"(0.8, 0.9]\",\"(0.1, 0.2]\",\"(0.6, 0.8]\",\"(0.6, 0.8]\",\"(0.2, 0.4]\",\"(0.2, 0.4]\",\"(0.8, 0.9]\",\"(0.4, 0.6]\",\"(0.8, 0.9]\",\"(0.4, 0.6]\",\"(0.6, 0.8]\",\"(0.6, 0.8]\",\"(0.9, 0.95]\",\"(0.4, 0.6]\",\"(0.6, 0.8]\",\"(0.9, 0.95]\",\"(0.4, 0.6]\",\"(0.2, 0.4]\",\"(0, 0.1]\",\"(0.6, 0.8]\",\"(0.4, 0.6]\",\"(0.1, 0.2]\",\"(0.4, 0.6]\",\"(0.2, 0.4]\",\"(0.2, 0.4]\",\"(0.6, 0.8]\",\"(0.95, 0.99]\",\"(0.4, 0.6]\",\"(0.2, 0.4]\",\"(0.6, 0.8]\",\"(0.9, 0.95]\",\"(0.1, 0.2]\",\"(0.4, 0.6]\",\"(0.6, 0.8]\",\"(0, 0.1]\",\"(0.2, 0.4]\",\"(0.6, 0.8]\",\"(0.4, 0.6]\",\"(0.1, 0.2]\",\"(0.4, 0.6]\",\"(0, 0.1]\",\"(0.8, 0.9]\",\"(0.6, 0.8]\",\"(0.6, 0.8]\",\"(0.2, 0.4]\",\"(0.4, 0.6]\",\"(0.2, 0.4]\",\"(0.6, 0.8]\",\"(0, 0.1]\",\"(0.2, 0.4]\",\"(0.4, 0.6]\",\"(0.4, 0.6]\",\"(0.6, 0.8]\",\"(0.2, 0.4]\",\"(0.2, 0.4]\",\"(0.2, 0.4]\",\"(0, 0.1]\",\"(0.8, 0.9]\",\"(0.6, 0.8]\",\"(0.6, 0.8]\",\"(0.9, 0.95]\",\"(0.4, 0.6]\",\"(0.4, 0.6]\",\"(0.6, 0.8]\",\"(0.6, 0.8]\",\"(0.8, 0.9]\",\"(0.4, 0.6]\",\"(0, 0.1]\",\"(0.2, 0.4]\",\"(0.8, 0.9]\",\"(0.8, 0.9]\",\"(0.2, 0.4]\",\"(0.6, 0.8]\",\"(0.2, 0.4]\",\"(0.4, 0.6]\",\"(0.8, 0.9]\",\"(0, 0.1]\",\"(0.99, 1.0]\",\"(0.6, 0.8]\",\"(0.1, 0.2]\",\"(0.4, 0.6]\",\"(0.8, 0.9]\",\"(0.2, 0.4]\",\"(0, 0.1]\",\"(0.95, 0.99]\",\"(0.2, 0.4]\",\"(0, 0.1]\",\"(0.4, 0.6]\",\"(0, 0.1]\",\"(0.6, 0.8]\",\"(0.4, 0.6]\",\"(0.2, 0.4]\",\"(0.8, 0.9]\",\"(0.4, 0.6]\",\"(0.8, 0.9]\",\"(0.4, 0.6]\",\"(0.1, 0.2]\",\"(0.2, 0.4]\",\"(0.2, 0.4]\",\"(0.6, 0.8]\",\"(0.4, 0.6]\",\"(0.2, 0.4]\",\"(0.8, 0.9]\",\"(0.6, 0.8]\",\"(0.2, 0.4]\",\"(0.2, 0.4]\",\"(0.8, 0.9]\",\"(0.4, 0.6]\",\"(0.8, 0.9]\",\"(0.99, 1.0]\",\"(0.6, 0.8]\",\"(0.1, 0.2]\",\"(0.1, 0.2]\",\"(0.4, 0.6]\",\"(0.1, 0.2]\",\"(0.9, 0.95]\",\"(0.6, 0.8]\",\"(0, 0.1]\",\"(0.2, 0.4]\",\"(0.4, 0.6]\",\"(0.4, 0.6]\",\"(0.8, 0.9]\",\"(0.6, 0.8]\",\"(0.8, 0.9]\",\"(0.4, 0.6]\",\"(0.2, 0.4]\",\"(0.1, 0.2]\",\"(0.2, 0.4]\",\"(0.6, 0.8]\",\"(0.9, 0.95]\",\"(0.6, 0.8]\",\"(0.4, 0.6]\",\"(0.1, 0.2]\",\"(0.9, 0.95]\",\"(0.6, 0.8]\",\"(0, 0.1]\",\"(0.4, 0.6]\",\"(0.4, 0.6]\",\"(0.2, 0.4]\",\"(0.9, 0.95]\",\"(0.8, 0.9]\",\"(0.4, 0.6]\",\"(0.4, 0.6]\",\"(0.6, 0.8]\",\"(0.6, 0.8]\",\"(0.4, 0.6]\",\"(0, 0.1]\",\"(0.4, 0.6]\",\"(0.4, 0.6]\",\"(0.4, 0.6]\",\"(0.6, 0.8]\",\"(0, 0.1]\",\"(0.8, 0.9]\",\"(0.4, 0.6]\",\"(0.1, 0.2]\",\"(0.1, 0.2]\",\"(0.4, 0.6]\",\"(0.2, 0.4]\",\"(0.6, 0.8]\",\"(0.4, 0.6]\",\"(0.6, 0.8]\",\"(0, 0.1]\",\"(0.6, 0.8]\",\"(0.2, 0.4]\",\"(0.6, 0.8]\",\"(0.1, 0.2]\",\"(0.4, 0.6]\",\"(0.2, 0.4]\",\"(0, 0.1]\",\"(0.2, 0.4]\",\"(0.6, 0.8]\",\"(0.4, 0.6]\",\"(0.4, 0.6]\",\"(0, 0.1]\",\"(0.4, 0.6]\",\"(0.2, 0.4]\",\"(0.4, 0.6]\",\"(0.6, 0.8]\",\"(0.1, 0.2]\",\"(0.2, 0.4]\",\"(0, 0.1]\",\"(0.9, 0.95]\",\"(0.95, 0.99]\",\"(0.8, 0.9]\",\"(0.8, 0.9]\",\"(0.1, 0.2]\",\"(0.4, 0.6]\",\"(0.1, 0.2]\",\"(0.2, 0.4]\",\"(0.2, 0.4]\",\"(0.4, 0.6]\",\"(0.4, 0.6]\",\"(0.6, 0.8]\",\"(0.9, 0.95]\",\"(0, 0.1]\",\"(0.4, 0.6]\",\"(0.4, 0.6]\",\"(0.6, 0.8]\",\"(0.2, 0.4]\",\"(0.2, 0.4]\",\"(0.2, 0.4]\",\"(0.8, 0.9]\",\"(0.2, 0.4]\",\"(0.6, 0.8]\",\"(0.2, 0.4]\",\"(0.2, 0.4]\",\"(0.9, 0.95]\",\"(0.4, 0.6]\",\"(0.4, 0.6]\",\"(0.2, 0.4]\",\"(0.9, 0.95]\",\"(0.1, 0.2]\",\"(0.4, 0.6]\",\"(0.8, 0.9]\",\"(0.8, 0.9]\",\"(0.9, 0.95]\",\"(0.8, 0.9]\",\"(0.9, 0.95]\",\"(0.2, 0.4]\",\"(0.2, 0.4]\",\"(0.1, 0.2]\",\"(0.4, 0.6]\",\"(0.2, 0.4]\",\"(0.6, 0.8]\",\"(0.95, 0.99]\",\"(0.2, 0.4]\",\"(0.6, 0.8]\",\"(0.4, 0.6]\",\"(0.2, 0.4]\",\"(0.8, 0.9]\",\"(0.2, 0.4]\",\"(0.1, 0.2]\",\"(0.2, 0.4]\",\"(0.4, 0.6]\",\"(0.4, 0.6]\",\"(0.6, 0.8]\",\"(0.1, 0.2]\",\"(0.8, 0.9]\",\"(0.95, 0.99]\",\"(0.1, 0.2]\",\"(0.4, 0.6]\",\"(0.2, 0.4]\",\"(0.2, 0.4]\",\"(0.4, 0.6]\",\"(0.4, 0.6]\",\"(0.4, 0.6]\",\"(0.1, 0.2]\",\"(0, 0.1]\",\"(0, 0.1]\",\"(0.6, 0.8]\",\"(0.9, 0.95]\",\"(0.4, 0.6]\",\"(0.2, 0.4]\",\"(0.6, 0.8]\",\"(0.2, 0.4]\",\"(0.4, 0.6]\",\"(0.2, 0.4]\",\"(0.4, 0.6]\",\"(0.9, 0.95]\",\"(0.9, 0.95]\",\"(0.6, 0.8]\",\"(0.4, 0.6]\",\"(0.2, 0.4]\",\"(0.2, 0.4]\",\"(0, 0.1]\",\"(0, 0.1]\",\"(0.4, 0.6]\",\"(0.6, 0.8]\",\"(0.4, 0.6]\",\"(0.9, 0.95]\",\"(0.2, 0.4]\",\"(0.2, 0.4]\",\"(0, 0.1]\",\"(0.1, 0.2]\",\"(0.4, 0.6]\",\"(0.2, 0.4]\",\"(0.2, 0.4]\",\"(0.4, 0.6]\",\"(0.2, 0.4]\",\"(0.95, 0.99]\",\"(0.4, 0.6]\",\"(0.6, 0.8]\",\"(0.8, 0.9]\",\"(0.8, 0.9]\",\"(0.4, 0.6]\",\"(0, 0.1]\",\"(0.6, 0.8]\",\"(0.6, 0.8]\",\"(0.6, 0.8]\",\"(0.6, 0.8]\",\"(0.8, 0.9]\",\"(0.4, 0.6]\",\"(0.6, 0.8]\",\"(0.1, 0.2]\",\"(0.6, 0.8]\",\"(0.95, 0.99]\",\"(0.6, 0.8]\",\"(0.2, 0.4]\",\"(0.6, 0.8]\",\"(0.4, 0.6]\",\"(0.4, 0.6]\",\"(0.1, 0.2]\",\"(0.95, 0.99]\",\"(0.2, 0.4]\",\"(0.2, 0.4]\",\"(0.9, 0.95]\",\"(0.8, 0.9]\",\"(0.1, 0.2]\",\"(0.8, 0.9]\",\"(0.1, 0.2]\",\"(0.4, 0.6]\",\"(0.6, 0.8]\",\"(0.95, 0.99]\",\"(0, 0.1]\",\"(0.6, 0.8]\",\"(0.4, 0.6]\",\"(0.6, 0.8]\",\"(0.6, 0.8]\",\"(0.1, 0.2]\",\"(0.6, 0.8]\",\"(0, 0.1]\",\"(0.1, 0.2]\",\"(0.2, 0.4]\",\"(0.2, 0.4]\",\"(0.4, 0.6]\",\"(0.8, 0.9]\",\"(0.4, 0.6]\",\"(0.2, 0.4]\",\"(0.6, 0.8]\",\"(0.2, 0.4]\",\"(0.6, 0.8]\",\"(0.95, 0.99]\",\"(0.4, 0.6]\",\"(0.6, 0.8]\",\"(0.6, 0.8]\",\"(0.1, 0.2]\",\"(0.2, 0.4]\",\"(0.2, 0.4]\",\"(0.2, 0.4]\",\"(0.4, 0.6]\",\"(0, 0.1]\",\"(0.1, 0.2]\",\"(0, 0.1]\",\"(0, 0.1]\",\"(0.8, 0.9]\",\"(0.6, 0.8]\",\"(0.8, 0.9]\",\"(0.6, 0.8]\",\"(0.6, 0.8]\",\"(0.1, 0.2]\",\"(0.6, 0.8]\",\"(0.2, 0.4]\",\"(0, 0.1]\",\"(0.2, 0.4]\",\"(0.8, 0.9]\",\"(0.8, 0.9]\",\"(0.2, 0.4]\",\"(0.2, 0.4]\",\"(0.4, 0.6]\",\"(0.6, 0.8]\",\"(0.2, 0.4]\",\"(0, 0.1]\",\"(0.8, 0.9]\",\"(0.8, 0.9]\",\"(0.2, 0.4]\",\"(0, 0.1]\",\"(0.8, 0.9]\",\"(0, 0.1]\",\"(0.4, 0.6]\",\"(0.95, 0.99]\",\"(0.4, 0.6]\",\"(0.2, 0.4]\",\"(0.8, 0.9]\",\"(0.8, 0.9]\",\"(0.4, 0.6]\",\"(0, 0.1]\",\"(0.1, 0.2]\",\"(0.6, 0.8]\",\"(0.2, 0.4]\",\"(0.8, 0.9]\",\"(0.95, 0.99]\",\"(0.4, 0.6]\",\"(0.95, 0.99]\",\"(0.2, 0.4]\",\"(0.6, 0.8]\",\"(0.4, 0.6]\",\"(0.4, 0.6]\",\"(0, 0.1]\",\"(0.9, 0.95]\",\"(0.1, 0.2]\",\"(0.2, 0.4]\",\"(0, 0.1]\",\"(0.6, 0.8]\",\"(0.9, 0.95]\",\"(0.8, 0.9]\",\"(0.2, 0.4]\",\"(0.8, 0.9]\",\"(0, 0.1]\",\"(0.2, 0.4]\",\"(0.6, 0.8]\",\"(0.1, 0.2]\",\"(0, 0.1]\",\"(0.1, 0.2]\",\"(0.6, 0.8]\",\"(0.4, 0.6]\",\"(0.1, 0.2]\",\"(0.6, 0.8]\",\"(0.2, 0.4]\",\"(0.1, 0.2]\",\"(0.2, 0.4]\",\"(0, 0.1]\",\"(0.6, 0.8]\",\"(0, 0.1]\",\"(0.4, 0.6]\",\"(0.6, 0.8]\",\"(0.2, 0.4]\",\"(0.6, 0.8]\",\"(0.2, 0.4]\",\"(0.2, 0.4]\",\"(0.2, 0.4]\",\"(0.8, 0.9]\",\"(0.2, 0.4]\",\"(0.9, 0.95]\",\"(0.6, 0.8]\",\"(0.4, 0.6]\",\"(0.8, 0.9]\",\"(0.2, 0.4]\",\"(0.1, 0.2]\",\"(0.6, 0.8]\",\"(0.1, 0.2]\",\"(0.4, 0.6]\",\"(0.4, 0.6]\",\"(0, 0.1]\",\"(0.6, 0.8]\",\"(0.2, 0.4]\",\"(0.4, 0.6]\",\"(0.2, 0.4]\",\"(0.1, 0.2]\",\"(0.4, 0.6]\",\"(0.2, 0.4]\",\"(0.6, 0.8]\",\"(0.4, 0.6]\",\"(0.4, 0.6]\",\"(0.6, 0.8]\",\"(0.2, 0.4]\",\"(0.95, 0.99]\",\"(0.8, 0.9]\",\"(0.6, 0.8]\",\"(0.6, 0.8]\",\"(0.6, 0.8]\",\"(0.8, 0.9]\",\"(0.2, 0.4]\",\"(0.4, 0.6]\",\"(0.6, 0.8]\",\"(0.1, 0.2]\",\"(0, 0.1]\",\"(0.2, 0.4]\",\"(0.6, 0.8]\",\"(0.1, 0.2]\",\"(0, 0.1]\",\"(0, 0.1]\",\"(0.4, 0.6]\",\"(0.6, 0.8]\",\"(0.6, 0.8]\",\"(0.6, 0.8]\",\"(0.6, 0.8]\",\"(0.2, 0.4]\",\"(0.2, 0.4]\",\"(0, 0.1]\",\"(0.95, 0.99]\",\"(0.6, 0.8]\",\"(0.9, 0.95]\",\"(0, 0.1]\",\"(0.1, 0.2]\",\"(0, 0.1]\",\"(0.99, 1.0]\",\"(0.8, 0.9]\",\"(0.1, 0.2]\",\"(0.2, 0.4]\",\"(0.4, 0.6]\",\"(0.4, 0.6]\",\"(0.8, 0.9]\",\"(0.2, 0.4]\",\"(0.4, 0.6]\",\"(0.4, 0.6]\",\"(0.4, 0.6]\",\"(0.2, 0.4]\",\"(0.4, 0.6]\",\"(0.2, 0.4]\",\"(0.4, 0.6]\",\"(0.4, 0.6]\",\"(0.2, 0.4]\",\"(0.6, 0.8]\",\"(0.6, 0.8]\",\"(0.6, 0.8]\",\"(0.1, 0.2]\",\"(0, 0.1]\",\"(0.4, 0.6]\",\"(0, 0.1]\",\"(0.95, 0.99]\",\"(0.9, 0.95]\",\"(0.4, 0.6]\",\"(0, 0.1]\",\"(0.4, 0.6]\",\"(0.2, 0.4]\",\"(0.4, 0.6]\",\"(0.8, 0.9]\",\"(0.9, 0.95]\",\"(0.1, 0.2]\",\"(0, 0.1]\",\"(0.1, 0.2]\",\"(0.6, 0.8]\",\"(0.1, 0.2]\",\"(0.6, 0.8]\",\"(0.6, 0.8]\",\"(0.6, 0.8]\",\"(0, 0.1]\",\"(0.9, 0.95]\",\"(0, 0.1]\",\"(0.2, 0.4]\",\"(0.95, 0.99]\",\"(0.1, 0.2]\",\"(0.6, 0.8]\",\"(0.8, 0.9]\",\"(0.4, 0.6]\",\"(0, 0.1]\",\"(0.95, 0.99]\",\"(0.2, 0.4]\",\"(0.2, 0.4]\",\"(0, 0.1]\",\"(0.2, 0.4]\",\"(0.1, 0.2]\",\"(0, 0.1]\",\"(0.8, 0.9]\",\"(0.6, 0.8]\",\"(0.8, 0.9]\",\"(0.1, 0.2]\",\"(0.4, 0.6]\",\"(0.8, 0.9]\",\"(0, 0.1]\",\"(0.6, 0.8]\",\"(0.2, 0.4]\",\"(0, 0.1]\",\"(0.1, 0.2]\",\"(0.1, 0.2]\",\"(0.6, 0.8]\",\"(0.6, 0.8]\",\"(0.95, 0.99]\",\"(0.1, 0.2]\",\"(0.2, 0.4]\",\"(0.6, 0.8]\",\"(0.6, 0.8]\",\"(0.6, 0.8]\",\"(0, 0.1]\",\"(0, 0.1]\",\"(0, 0.1]\",\"(0.2, 0.4]\",\"(0.2, 0.4]\",\"(0.4, 0.6]\",\"(0.8, 0.9]\",\"(0.6, 0.8]\",\"(0.2, 0.4]\",\"(0.6, 0.8]\",\"(0.8, 0.9]\",\"(0.9, 0.95]\",\"(0.4, 0.6]\",\"(0.4, 0.6]\",\"(0.6, 0.8]\",\"(0.6, 0.8]\",\"(0.4, 0.6]\",\"(0.6, 0.8]\",\"(0.4, 0.6]\",\"(0.6, 0.8]\",\"(0.2, 0.4]\",\"(0.4, 0.6]\",\"(0.4, 0.6]\",\"(0.6, 0.8]\",\"(0.95, 0.99]\",\"(0.4, 0.6]\",\"(0.4, 0.6]\",\"(0.4, 0.6]\",\"(0, 0.1]\",\"(0.6, 0.8]\",\"(0.4, 0.6]\",\"(0.6, 0.8]\",\"(0.2, 0.4]\",\"(0.4, 0.6]\",\"(0.8, 0.9]\",\"(0, 0.1]\",\"(0, 0.1]\",\"(0, 0.1]\",\"(0.4, 0.6]\",\"(0.6, 0.8]\",\"(0.2, 0.4]\",\"(0.4, 0.6]\",\"(0.6, 0.8]\",\"(0.9, 0.95]\",\"(0.4, 0.6]\",\"(0, 0.1]\",\"(0.4, 0.6]\",\"(0.95, 0.99]\",\"(0.95, 0.99]\",\"(0.2, 0.4]\",\"(0.1, 0.2]\",\"(0.8, 0.9]\",\"(0.99, 1.0]\",\"(0.9, 0.95]\",\"(0.2, 0.4]\",\"(0.8, 0.9]\",\"(0.6, 0.8]\",\"(0.4, 0.6]\",\"(0.4, 0.6]\",\"(0.6, 0.8]\",\"(0.1, 0.2]\",\"(0.6, 0.8]\",\"(0, 0.1]\",\"(0.8, 0.9]\",\"(0.6, 0.8]\",\"(0, 0.1]\",\"(0.2, 0.4]\",\"(0.2, 0.4]\",\"(0.2, 0.4]\",\"(0.2, 0.4]\",\"(0.1, 0.2]\",\"(0.4, 0.6]\",\"(0.4, 0.6]\",\"(0.4, 0.6]\",\"(0, 0.1]\",\"(0, 0.1]\",\"(0.2, 0.4]\",\"(0.6, 0.8]\",\"(0.1, 0.2]\",\"(0.1, 0.2]\",\"(0.1, 0.2]\",\"(0.2, 0.4]\",\"(0.6, 0.8]\",\"(0.4, 0.6]\",\"(0.4, 0.6]\",\"(0.2, 0.4]\",\"(0.8, 0.9]\",\"(0.2, 0.4]\",\"(0.2, 0.4]\",\"(0.2, 0.4]\",\"(0.1, 0.2]\",\"(0.6, 0.8]\",\"(0.2, 0.4]\",\"(0.9, 0.95]\",\"(0.4, 0.6]\",\"(0.6, 0.8]\",\"(0.6, 0.8]\",\"(0.6, 0.8]\",\"(0.2, 0.4]\",\"(0.6, 0.8]\",\"(0.8, 0.9]\",\"(0.2, 0.4]\",\"(0.2, 0.4]\",\"(0.4, 0.6]\",\"(0.4, 0.6]\",\"(0.1, 0.2]\",\"(0.1, 0.2]\",\"(0.1, 0.2]\",\"(0.9, 0.95]\",\"(0.95, 0.99]\",\"(0.6, 0.8]\",\"(0.2, 0.4]\",\"(0.6, 0.8]\",\"(0.1, 0.2]\",\"(0.6, 0.8]\",\"(0, 0.1]\",\"(0.4, 0.6]\",\"(0.4, 0.6]\",\"(0.2, 0.4]\",\"(0.4, 0.6]\",\"(0.1, 0.2]\",\"(0.6, 0.8]\",\"(0.1, 0.2]\",\"(0.6, 0.8]\",\"(0.95, 0.99]\",\"(0.6, 0.8]\",\"(0.4, 0.6]\",\"(0.6, 0.8]\",\"(0.2, 0.4]\",\"(0.2, 0.4]\",\"(0.2, 0.4]\",\"(0.4, 0.6]\",\"(0.8, 0.9]\",\"(0.1, 0.2]\",\"(0.2, 0.4]\",\"(0.95, 0.99]\",\"(0.2, 0.4]\",\"(0.1, 0.2]\",\"(0.1, 0.2]\",\"(0.8, 0.9]\",\"(0.8, 0.9]\",\"(0.6, 0.8]\",\"(0.8, 0.9]\",\"(0.8, 0.9]\",\"(0.99, 1.0]\",\"(0.2, 0.4]\",\"(0.1, 0.2]\",\"(0.9, 0.95]\",\"(0.1, 0.2]\",\"(0.4, 0.6]\",\"(0.4, 0.6]\",\"(0.2, 0.4]\",\"(0.4, 0.6]\",\"(0.2, 0.4]\",\"(0.2, 0.4]\",\"(0.4, 0.6]\",\"(0.1, 0.2]\",\"(0.1, 0.2]\",\"(0, 0.1]\",\"(0, 0.1]\",\"(0.6, 0.8]\",\"(0.1, 0.2]\",\"(0.6, 0.8]\",\"(0.8, 0.9]\",\"(0.4, 0.6]\",\"(0.2, 0.4]\",\"(0.2, 0.4]\",\"(0.1, 0.2]\",\"(0.6, 0.8]\",\"(0.9, 0.95]\",\"(0, 0.1]\",\"(0.4, 0.6]\",\"(0.4, 0.6]\",\"(0.2, 0.4]\",\"(0.8, 0.9]\",\"(0.1, 0.2]\",\"(0.9, 0.95]\",\"(0.4, 0.6]\",\"(0.8, 0.9]\",\"(0.9, 0.95]\",\"(0.4, 0.6]\",\"(0.4, 0.6]\",\"(0.9, 0.95]\",\"(0, 0.1]\",\"(0.4, 0.6]\",\"(0.2, 0.4]\",\"(0.6, 0.8]\",\"(0, 0.1]\",\"(0.4, 0.6]\",\"(0.6, 0.8]\",\"(0.6, 0.8]\",\"(0.8, 0.9]\",\"(0, 0.1]\",\"(0.4, 0.6]\",\"(0.8, 0.9]\",\"(0.8, 0.9]\",\"(0.1, 0.2]\",\"(0, 0.1]\",\"(0.95, 0.99]\",\"(0.4, 0.6]\",\"(0.8, 0.9]\",\"(0.1, 0.2]\",\"(0.95, 0.99]\",\"(0.1, 0.2]\",\"(0.6, 0.8]\",\"(0.6, 0.8]\",\"(0.2, 0.4]\",\"(0.4, 0.6]\"],\"x0\":\" \",\"xaxis\":\"x\",\"y\":[25.581211924267837,22.889882011317134,23.894118450779455,28.75810398250062,29.613595317511,26.048290876146353,25.87000984071702,27.961975604785692,24.962049379525258,23.286886630166272,29.917585727254814,25.147506166776527,27.008750748694762,24.744634849439624,29.63458276530795,27.68466082441732,24.841710616907417,27.39332576902304,25.349801112965146,25.527703418389542,24.04057092430022,21.921259415323597,29.69456240940192,24.03675014720485,25.9150976157444,26.863780967640384,25.619991309707494,28.579280312752285,28.587105234316535,25.625928777589287,18.74107031937639,28.874728915919455,24.15239045120367,26.043651524256823,29.457812996382206,21.959322660345723,24.516176320387217,25.610957527648992,26.17704237849519,28.848104637948175,28.394210304048777,22.015864578971048,26.083176538962867,25.845092662325843,24.235083105961053,24.381239603556953,24.77648553532128,28.210785840997673,28.832392527896126,19.64543344506942,24.432177650555097,28.673147174955744,29.678682168770216,23.823267567001555,25.016922803795595,26.408766974786907,21.63632317410523,23.584783029842463,27.548807261171298,23.95452151419559,24.38770552239303,25.94927621491841,24.938822069718388,27.598160186576045,22.637004011869763,21.441465229956925,29.236509570816082,23.173713307256605,24.32732225963997,29.162124214394392,28.976085791782317,23.23950116200958,26.429402342872837,28.837022702940033,23.593278798123734,24.128189627980007,23.853056376767032,26.135882199494304,27.717972653291856,29.569518489974495,21.70965552889055,28.52829498760047,27.20611625513547,26.86618315438262,24.679584602375428,23.253683977128297,26.486625408076993,23.662764654489564,28.765826012480076,28.2298042244351,28.916028973089222,28.4121816346579,20.71822403445627,26.516578836812542,22.4309267688188,25.105399650456636,26.093238649797474,21.05228115811028,22.937023703407263,27.72959745172097,26.623494922114684,29.721299724236992,21.2950371555934,21.399180933069147,26.237313279676396,25.151813995609274,25.768883698665036,19.875350064576047,25.493408746494485,26.213603179734523,27.569603514542543,24.43721927124157,27.623197679424194,19.60140134092836,28.942835657363023,24.564200818199023,21.00890027330442,28.47847618861142,27.870364175146957,26.779057132261414,29.5794816790565,26.488928233458473,25.625313830839126,29.294768663362518,23.15226236776663,21.19629635281902,29.04144670241668,29.057149840323945,24.535618126095894,26.78304760133957,22.829932755984533,25.81049948172409,26.232849061440678,25.598311319734147,23.348820298395417,27.831930237602194,21.30516757453171,27.084314021075908,24.782043193838657,22.474882719775852,28.598396292980325,27.266453463924464,26.81887373913838,27.1806050540206,24.694704448267657,27.140791780740525,22.598292319394368,28.999780019643804,19.048020330443535,25.831165609475608,19.81919543873405,26.502341158072994,25.397479045442275,22.126552431752437,26.66186567126548,26.950670625365007,28.19232457635534,22.399638691987718,26.457584984228397,24.35995647341595,26.20660937069386,20.279545937096422,27.126183027481247,28.85850310034099,27.447423725435698,29.64766901252285,22.6363423927792,27.68357326083314,27.14585248596746,26.559930547002544,29.1761500389223,27.922700863361115,27.375130351803612,27.796912768268186,26.80771778070743,29.871582996048186,24.994675262562875,26.064658062589334,25.527218641715823,24.740544733491866,29.98678016420162,22.15387790756082,18.648056514720565,29.441898008089318,29.89890980525604,20.705350043710954,29.56874925800875,24.00948563617027,23.154667964382806,22.486714994494918,23.75785368272381,22.711043132237194,21.60028062787743,23.061987973327327,24.62047381595058,21.58784315303383,28.555035162977,28.83220096358759,27.142661879575556,24.44868206228235,23.813124190916476,23.709755960530167,27.148174861792008,26.96182974435981,26.58550902277254,28.015162204412555,23.178695397354147,28.768828570881453,25.31082602177112,26.645069614550852,26.12372960462075,25.182318471790857,24.766129684940218,26.96719216194458,23.605405631659362,27.260825281730792,26.498744124232775,29.13330722966841,28.791319949916463,21.60511860895174,28.14935672645753,25.25656711934277,27.78898180206017,27.21356622196076,28.788887667440246,22.28999620351977,25.285513967645855,24.691898779549124,27.725945770040536,22.468483992571887,24.809914048020026,28.585561256908644,24.005548475455832,29.25801025484914,27.875512342332687,29.885717186942006,23.58068383649465,21.93165342571028,25.72323158763788,26.716660334080924,28.188837316035915,28.311614296601107,25.666399238037723,22.247988244931175,26.929611192945973,28.286840225097723,26.995317485789748,27.69867135561755,22.777047275597702,25.154392688519565,23.027971085464188,26.952921578458312,26.828417516421794,25.003533796933397,29.596413644586352,26.72030057514233,25.47230122295295,28.009424508963413,27.255298241600318,24.22922690554778,29.889676693845004,23.985511183334093,25.50210600242032,29.562784755229764,28.55163605994832,26.399947737489484,25.943089916467255,28.970414635485145,22.996290077126964,28.449844017647543,27.366072483999595,28.10204893628062,28.575520639124832,23.051238783818743,23.265762988330415,24.004590448689097,25.70335193080989,25.65806958125617,25.97005795290672,25.747843721886838,29.738431633068146,29.300601100555365,25.642298884573087,24.351573665211806,26.861557184165335,25.67704809447972,29.23046946445042,27.489803396104428,27.47763141430304,26.50274693428233,27.17765150997706,26.442498269234,28.864827942325558,22.61307520408014,25.080071266915915,24.80121858847309,27.67264568770697,27.672798512313133,25.4529046707229,28.602065197816962,20.600127923416878,28.346369309042778,25.9274477952745,26.15661773602165,26.47469766079309,24.139125016608652,27.081730777028056,25.486122623562135,27.444586566443018,28.763315636606784,26.195705008717432,26.205032072095484,23.53212244970188,27.550748776086674,25.216731441497032,23.965885567808577,29.3589560534256,29.518090643033805,27.393753926467717,26.791080977663963,24.880502502408227,27.057727021498852,21.31694003482027,29.736525053133505,26.031449302136764,25.110021528351023,25.99791912472678,25.791821261537176,24.37313117803344,27.285827735402144,26.69222220113503,29.014202033011955,23.74521237757772,27.058993103577475,25.499403748897755,25.801892494666653,29.487746724476168,28.173042752654098,28.28522183680144,24.73195987967117,27.721641806903595,27.03680684824233,28.507202655303736,27.46709805592057,21.628365976271237,28.7399825059769,23.90223540374256,26.231883598516745,23.867786938844898,25.762709917381144,22.30411687051852,27.102497645880067,26.857148713299487,27.82263578529576,26.236764873305724,26.379806677068657,26.75015163975491,26.143166014433948,23.73625355144729,25.787190001235643,26.812625752556656,24.493402097607675,24.723251842545775,27.893546270290383,27.207680615553056,25.201430085226708,28.00104353347096,27.18827865945757,22.861452724160504,23.78450490886856,27.377785613223864,26.680029499895987,22.296157299826056,24.937767199193274,27.64799951522948,20.906515032692326,26.167448357826135,26.809922150637508,27.995021671451756,29.22712371126549,22.84645301370485,26.280306742078935,23.62242478116554,27.495143958849816,25.58732802383554,28.573851556450833,28.663331350414676,26.53706640493059,27.07714908479404,27.41009282483493,29.55004715311025,27.459464060315558,22.911159457611003,20.333361242962447,27.79689306381271,29.45479695322205,20.87373093599668,23.254640704899888,29.070374464533245,24.39458473515064,25.407878633494175,24.33378541416031,24.623595236957463,28.17301781043353,22.980946554096363,22.958775812247566,26.838563777011775,26.344461824743245,22.51478643883695,26.81052666599584,23.987328855498816,25.656616941279648,27.685830731559932,22.9248991159575,23.889338173617578,25.643121541802316,24.80009552827259,28.136902129968792,27.925113013178553,27.81814612310634,23.329025650693236,27.09107606277264,29.43586092879295,27.580074713410557,23.39839737790254,22.671182931018087,23.622446228805433,29.207112734866467,23.88558804182481,21.89546963362092,24.843671436527533,21.427224265515434,28.823392713231904,23.106722755532996,25.10973915778687,26.49525846378727,26.9161759213654,27.12913913174949,19.45350834691753,25.4267293209991,23.95547176524903,29.4193181204289,27.053885651497463,21.728323217081307,28.025711600478427,24.94383048826011,24.38133071340684,21.78578304953446,25.773145286292504,26.61878617962754,23.54760441974827,29.858188557746843,28.30806668525813,26.852672634977726,26.86109778449096,24.817086773147178,21.732643385397182,23.86948219028171,24.993803643904123,28.314609459851855,24.416307441321557,25.259415533679817,28.391104288301946,27.316363159205018,22.262770235453477,29.103224460345018,24.813821373905256,28.546792612176304,27.95503901796171,27.553852742503196,24.696106284015663,24.715961720763783,24.297710169759196,21.663403262820353,28.15637582631265,20.189877739860915,26.387165855704446,28.536971895171604,29.96949685346935,25.98822916127769,28.106377418602552,24.39610771669512,29.24619930619192,25.08542201804095,28.49023508621745,23.453791222274006,23.49563168952869,24.77966618173456,25.107901651595085,26.213317074723314,28.563151108528064,27.052002922614907,24.44484040964483,29.015659998805695,29.4438254831022,21.17689021569634,27.95171419442246,26.159509534662686,27.7448867678724,20.44125625936846,28.07662691400061,27.215247602302007,26.138116968015975,27.769146639627547,26.89335238167551,25.40186271962432,21.005178237018736,24.608022435049545,19.74146397639541,25.476604845808353,25.598671816861977,25.16446418858052,24.610738492823913,26.100903258383923,27.210653492932614,29.912424113084032,24.934684018263717,29.074686714701137,24.52627647786918,24.004369507892992,26.109341612240026,28.114031307950064,25.15304706957423,28.64209510205046,29.95530177663741,24.315316422723566,27.72356793499467,29.139591703353474,25.273170254595396,23.48548232645356,28.81160029442647,24.571275963673635,19.47327476816059,27.643961398871557,29.97451612440301,29.716267208422714,25.16423812386312,25.88882836156028,21.084199812133154,23.869425551935137,28.877223164024816,26.51248178805257,20.816843510993262,29.33344060673677,25.283102409744906,25.041549202582356,28.446373718282743,25.891974579026094,27.834242770972683,27.142972851812612,29.83154701416801,25.52973125864803,24.095291060199198,20.931328927528988,27.04044341609441,20.459557101673308,27.42898206664054,27.448270118610036,21.383378687479812,28.32438321300997,29.349193034524795,29.784549757845447,20.32105397613158,25.248522541049418,21.751265523096382,26.188036572744647,28.291769146047656,20.931478048490064,27.319145656358206,23.501953436689146,28.73597555338479,23.437210992981395,27.5776213222726,25.345557541609537,25.791912939374715,24.55722888821503,28.810517148001225,24.12376304468541,27.539942348432874,25.038320799049078,26.017082248234484,25.670226193191766,28.180081148303454,24.433978832749244,28.308460473134375,28.091870728403595,22.69194469948479,19.925055827696323,19.152582415286577,27.759854111392368,21.95911050687467,29.893860046754984,27.325968508487964,24.851493610395053,28.02251302335675,28.52916770626223,28.621487245791077,18.762192220238305,25.931226657564405,28.167399458216675,29.616037036397124,27.224735875047283,29.380969967578878,26.517657567665008,28.58870721352252,26.435970239482003,24.483749344176346,28.79576818115929,24.73463114514654,26.72151206012521,24.634634193160736,24.243023312008745,21.846335620697847,27.540473005305298,25.737143561036813,29.000090928102882,26.50633745105397,29.645403310783458,29.36017110064624,25.406192751340942,24.57209600575164,23.000210525966654,22.51215481309538,28.1827127867043,26.85740764241116,25.314943551348616,28.731064852183877,26.676458082288693,24.282059558604757,29.302730673237846,28.111783110126485,27.549472243920743,25.149385851278634,27.613947613346767,26.15251324619399,25.383001967743425,23.733535694524306,23.664635551818826,26.87169950523267,26.601658219054926,26.965855533367886,29.48505879628206,29.07359561528486,23.541993006309582,23.734075444346217,26.882876451304444,22.851875625997245,25.158205484457916,28.432290047120468,23.864980611284487,26.86985891527803,26.509135397631425,23.230700936712132,29.29606656838683,29.445469277849668,29.103752684201105,29.175679449507154,28.343145281933605,25.628985109908438,24.605154616917986,29.802983635113026,28.883522131171322,26.640311832510957,28.653777353129072,22.8719064318892,25.74627135061628,25.58093561729197,27.307041382785748,21.7914956616427,26.63967432043301,26.662201598218562,21.32238111594571,24.441152329443952,22.719054473741632,28.115729958795402,26.111775285677272,25.744276816982314,25.629012140264635,29.39664279399001,29.14041740351536,25.611642965401348,27.3256732922715,28.40022457543257,26.741904176692717,28.36077004287639,29.80744597678719,23.619554040157205,24.10131783961439,20.878056765294698,23.50072100279317,28.779170874512015,27.893666231514057,29.633192592332588,22.674542420876627,26.1972791406533,25.895298084141103,23.413380407531065,27.03160705111974,29.80228580789781,28.123885950662057,28.397285124881805,26.49173408941661,29.744453119050753,26.311548747736307,29.61533988648825,29.74110829457561,18.757063835457583,24.65319970468163,22.50132590975214,26.20087794928257,24.097316373930692,25.23615663886349,24.5339716608941,28.732752658228087,21.24682652580746,25.585573452630165,29.869498615910793,29.531590199557215,27.252519843630242,26.701583377454767,20.808152345510194,26.01535682052932,21.447416385593158,27.260900035517125,26.093814558944384,24.940356702634862,22.51731443372741,21.821031405767705,29.065660775220902,28.86911941805573,22.96939777239268,29.770826685532374,28.28839122703728,26.87550236897333,27.948627486224236,23.882244096011032,23.86080742232236,22.142337269245516,26.019541443108288,27.435471047494545,29.06793088847274,26.12397483755186,26.662795935667212,29.3420144796919,23.53522405622397,24.661666629202738,29.163213165919803,27.923540207467592,21.368751375915977,28.30669251754371,24.780366151079313,22.079074247034452,25.738902759380597,27.29788655946066,23.03875332494593,26.79765674359062,27.46679335459582,27.98210945795543,20.51668357109054,28.94312516005342,23.092351017049687,28.6167954596938,26.48378229148773,23.9137186715736,27.746138321827033,27.219358398368087,26.7507376928363,22.925782813729008,26.14306060847551,27.021033082616206,23.27389147308343,23.61358295837072,26.24855552196105,23.28932831397199,25.978445389145598,22.96116133822402,27.005158300620007,24.3313256462651,24.3665012719927,26.103303879307305,24.85998978801797,29.363156014993447,22.162815213563867,28.19100242462493,23.1495491927949,21.945956917724345,27.224374376548777,26.62085502857282,25.308916526041326,27.19893167706798,28.176187359643716,27.569665702665603,25.545912732248652,25.046474171035666,26.3146155338623,28.528363085391984,27.347405628806047,29.478229524974026,25.384031983816513,22.86331940145616,24.59851235978109,21.06362119590339,25.153037343417253,23.694886216853902,24.641197575892285,21.241212372279925,25.7666373657605,25.872400542982923,24.30557390353139,27.921960773130166,22.995072868969054,26.37056067167613,26.73419184118493,24.44955526688497,24.8755333822718,26.950093230868337,29.006498505348134,25.258652503358483,22.907587774523023,27.580920066299438,22.868397293169114,27.9297865608816,25.163910886307534,27.545397636540347,25.539375680325033,27.51086732063346,28.77595515434756,26.207479386859507,28.318174944804106,25.942839499747127,27.877244439506644,26.43195338108344,28.229788099598878,26.555966516228384,29.114422664620967,24.154606156610402,22.862717851063795,27.967537274226554,27.724013624163803,25.061666990513835,23.258606097107698,26.475194622503814,28.61067046940336,25.39457909511485,29.091788927224112,24.2485265316601,23.858386722049122,25.39756663645775,29.95686437341781,28.160367187648426,24.690816272931755,25.898120673191556,27.086961565204312,28.444945299007106,27.043900627323485],\"y0\":\" \",\"yaxis\":\"y\",\"type\":\"box\"},{\"alignmentgroup\":\"True\",\"boxpoints\":\"all\",\"fillcolor\":\"rgba(255,255,255,0)\",\"hoveron\":\"points\",\"hovertemplate\":\"imc_cat=Obesidade<br>prs_quantile=%{x}<br>imc=%{y}<extra></extra>\",\"legendgroup\":\"Obesidade\",\"line\":{\"color\":\"rgba(255,255,255,0)\"},\"marker\":{\"color\":\"#EF553B\"},\"name\":\"Obesidade\",\"offsetgroup\":\"Obesidade\",\"orientation\":\"v\",\"pointpos\":0,\"showlegend\":true,\"x\":[\"(0.2, 0.4]\",\"(0.6, 0.8]\",\"(0.2, 0.4]\",\"(0.6, 0.8]\",\"(0.4, 0.6]\",\"(0.6, 0.8]\",\"(0.1, 0.2]\",\"(0.4, 0.6]\",\"(0.6, 0.8]\",\"(0.6, 0.8]\",\"(0.8, 0.9]\",\"(0.6, 0.8]\",\"(0.4, 0.6]\",\"(0.2, 0.4]\",\"(0.6, 0.8]\",\"(0.2, 0.4]\",\"(0.6, 0.8]\",\"(0.4, 0.6]\",\"(0.9, 0.95]\",\"(0, 0.1]\",\"(0.8, 0.9]\",\"(0, 0.1]\",\"(0.2, 0.4]\",\"(0.2, 0.4]\",\"(0.2, 0.4]\",\"(0.6, 0.8]\",\"(0.9, 0.95]\",\"(0.8, 0.9]\",\"(0.6, 0.8]\",\"(0.6, 0.8]\",\"(0.6, 0.8]\",\"(0.1, 0.2]\",\"(0.95, 0.99]\",\"(0, 0.1]\",\"(0.4, 0.6]\",\"(0.2, 0.4]\",\"(0.95, 0.99]\",\"(0.4, 0.6]\",\"(0.8, 0.9]\",\"(0, 0.1]\",\"(0.2, 0.4]\",\"(0.4, 0.6]\",\"(0.8, 0.9]\",\"(0.2, 0.4]\",\"(0.6, 0.8]\",\"(0.6, 0.8]\",\"(0.6, 0.8]\",\"(0.6, 0.8]\",\"(0.8, 0.9]\",\"(0.6, 0.8]\",\"(0.6, 0.8]\",\"(0.4, 0.6]\",\"(0.8, 0.9]\",\"(0.2, 0.4]\",\"(0.2, 0.4]\",\"(0.2, 0.4]\",\"(0.95, 0.99]\",\"(0.4, 0.6]\",\"(0.95, 0.99]\",\"(0.2, 0.4]\",\"(0.8, 0.9]\",\"(0.95, 0.99]\",\"(0.4, 0.6]\",\"(0, 0.1]\",\"(0.6, 0.8]\",\"(0.4, 0.6]\",\"(0.4, 0.6]\",\"(0.4, 0.6]\",\"(0.2, 0.4]\",\"(0.9, 0.95]\",\"(0, 0.1]\",\"(0.1, 0.2]\",\"(0.6, 0.8]\",\"(0.8, 0.9]\",\"(0.1, 0.2]\",\"(0.2, 0.4]\",\"(0, 0.1]\",\"(0, 0.1]\",\"(0.95, 0.99]\",\"(0.8, 0.9]\",\"(0.2, 0.4]\",\"(0, 0.1]\",\"(0.1, 0.2]\",\"(0.1, 0.2]\",\"(0.2, 0.4]\",\"(0.2, 0.4]\",\"(0.6, 0.8]\",\"(0, 0.1]\",\"(0, 0.1]\",\"(0.99, 1.0]\",\"(0.1, 0.2]\",\"(0.6, 0.8]\",\"(0.2, 0.4]\",\"(0, 0.1]\",\"(0.2, 0.4]\",\"(0.8, 0.9]\",\"(0.2, 0.4]\",\"(0.2, 0.4]\",\"(0.2, 0.4]\",\"(0.2, 0.4]\",\"(0, 0.1]\",\"(0.6, 0.8]\",\"(0.4, 0.6]\",\"(0.1, 0.2]\",\"(0.6, 0.8]\",\"(0.4, 0.6]\",\"(0.6, 0.8]\",\"(0.2, 0.4]\",\"(0.4, 0.6]\",\"(0.4, 0.6]\",\"(0.99, 1.0]\",\"(0.4, 0.6]\",\"(0.95, 0.99]\",\"(0, 0.1]\",\"(0.8, 0.9]\",\"(0.2, 0.4]\",\"(0.4, 0.6]\",\"(0.2, 0.4]\",\"(0.8, 0.9]\",\"(0.95, 0.99]\",\"(0.2, 0.4]\",\"(0.1, 0.2]\",\"(0.9, 0.95]\",\"(0.9, 0.95]\",\"(0.9, 0.95]\",\"(0.2, 0.4]\",\"(0.2, 0.4]\",\"(0, 0.1]\",\"(0, 0.1]\",\"(0.6, 0.8]\",\"(0.95, 0.99]\",\"(0.2, 0.4]\",\"(0.4, 0.6]\",\"(0.4, 0.6]\",\"(0.4, 0.6]\",\"(0.4, 0.6]\",\"(0.9, 0.95]\",\"(0.6, 0.8]\",\"(0.6, 0.8]\",\"(0, 0.1]\",\"(0.6, 0.8]\",\"(0.95, 0.99]\",\"(0.4, 0.6]\",\"(0.4, 0.6]\",\"(0.2, 0.4]\"],\"x0\":\" \",\"xaxis\":\"x\",\"y\":[32.112507047900785,32.02685031824275,31.493938527752643,32.28143533159604,32.125932451903665,30.11562585005374,30.916161919578673,31.022221868768746,33.10183719388217,30.524663166246558,33.7215808924886,31.881389985733104,34.03895569053352,31.300250973620457,32.37823679276893,31.84136161778306,31.55937405425986,31.639776021719918,31.535157703851397,31.061899347505854,31.279344970552145,30.918019379787953,30.08700835611611,30.579997122262085,34.41946490742658,30.071418225116158,33.136014516218395,31.65358000638545,33.467252892446986,31.048532391920432,33.429799824006885,30.36095344656517,30.507376262527764,32.65363726856685,32.20369071589074,32.53983050611924,30.474744906574266,30.34336125709184,33.05029307765331,34.954385896154704,34.17198751875858,30.09712788862991,31.617987323827265,35.1510592622655,31.09663766078097,30.941802410312114,31.229903667633835,31.09365072048584,30.74772364357783,32.678574048370585,33.83475268763691,30.770028525030174,30.535386360711982,31.38314892814598,30.046691437757065,30.431635332602312,30.000096751211643,31.261139321576778,30.27465079010966,30.785409720164846,31.477085303146925,31.661966614239176,33.2252698501606,33.238278014680716,30.141377963955286,33.59752114339805,31.689147471488667,30.036001395629352,31.557204563425742,31.0898833843212,32.417109142732436,32.96080688334885,30.389483350145902,30.38349685991956,30.29363275209221,32.45765912278378,31.07350133092899,30.744507971243756,34.105196044232876,31.19979261020186,30.746545638781104,35.05725093348616,30.74794417333426,30.501652662216966,30.318765341350975,30.26382022596648,30.480634874716927,31.123035149755502,31.029413307541297,31.085979491334346,31.085562219398923,31.224100576318992,33.280431598631715,31.083847448820677,33.15120904115021,30.269906577991865,30.746389413998767,30.68328205513492,30.359630878721973,30.877395873452514,30.045961206389755,31.48926117128503,30.551085969619365,31.738964255831746,32.88016481279462,31.773773082823148,33.44847757910412,30.51066016375795,30.76222424546314,30.89916291287991,32.20083317853117,30.071807153793095,32.373315366181565,30.52322233889065,30.562043553485914,30.812319405319172,30.125519760249784,32.491843077331325,30.600642873641554,33.732588784400775,30.624893933225735,33.04064922035323,30.1964950825094,32.77599986683312,31.419722150958716,30.717361081401698,31.778202900070248,31.68336085906165,33.27250118096181,31.85725696806353,30.6784125955653,31.090508677783852,30.54130397269687,30.72489763177132,30.03309657336209,31.894735758190564,30.907993745811105,31.93875560907017,30.610946828118305,30.366311378416782,31.769639237998277,30.731137697993443,31.508315957841944,30.619041156042226,30.377201541360662],\"y0\":\" \",\"yaxis\":\"y\",\"type\":\"box\"}],                        {\"template\":{\"data\":{\"histogram2dcontour\":[{\"type\":\"histogram2dcontour\",\"colorbar\":{\"outlinewidth\":0,\"ticks\":\"\"},\"colorscale\":[[0.0,\"#0d0887\"],[0.1111111111111111,\"#46039f\"],[0.2222222222222222,\"#7201a8\"],[0.3333333333333333,\"#9c179e\"],[0.4444444444444444,\"#bd3786\"],[0.5555555555555556,\"#d8576b\"],[0.6666666666666666,\"#ed7953\"],[0.7777777777777778,\"#fb9f3a\"],[0.8888888888888888,\"#fdca26\"],[1.0,\"#f0f921\"]]}],\"choropleth\":[{\"type\":\"choropleth\",\"colorbar\":{\"outlinewidth\":0,\"ticks\":\"\"}}],\"histogram2d\":[{\"type\":\"histogram2d\",\"colorbar\":{\"outlinewidth\":0,\"ticks\":\"\"},\"colorscale\":[[0.0,\"#0d0887\"],[0.1111111111111111,\"#46039f\"],[0.2222222222222222,\"#7201a8\"],[0.3333333333333333,\"#9c179e\"],[0.4444444444444444,\"#bd3786\"],[0.5555555555555556,\"#d8576b\"],[0.6666666666666666,\"#ed7953\"],[0.7777777777777778,\"#fb9f3a\"],[0.8888888888888888,\"#fdca26\"],[1.0,\"#f0f921\"]]}],\"heatmap\":[{\"type\":\"heatmap\",\"colorbar\":{\"outlinewidth\":0,\"ticks\":\"\"},\"colorscale\":[[0.0,\"#0d0887\"],[0.1111111111111111,\"#46039f\"],[0.2222222222222222,\"#7201a8\"],[0.3333333333333333,\"#9c179e\"],[0.4444444444444444,\"#bd3786\"],[0.5555555555555556,\"#d8576b\"],[0.6666666666666666,\"#ed7953\"],[0.7777777777777778,\"#fb9f3a\"],[0.8888888888888888,\"#fdca26\"],[1.0,\"#f0f921\"]]}],\"heatmapgl\":[{\"type\":\"heatmapgl\",\"colorbar\":{\"outlinewidth\":0,\"ticks\":\"\"},\"colorscale\":[[0.0,\"#0d0887\"],[0.1111111111111111,\"#46039f\"],[0.2222222222222222,\"#7201a8\"],[0.3333333333333333,\"#9c179e\"],[0.4444444444444444,\"#bd3786\"],[0.5555555555555556,\"#d8576b\"],[0.6666666666666666,\"#ed7953\"],[0.7777777777777778,\"#fb9f3a\"],[0.8888888888888888,\"#fdca26\"],[1.0,\"#f0f921\"]]}],\"contourcarpet\":[{\"type\":\"contourcarpet\",\"colorbar\":{\"outlinewidth\":0,\"ticks\":\"\"}}],\"contour\":[{\"type\":\"contour\",\"colorbar\":{\"outlinewidth\":0,\"ticks\":\"\"},\"colorscale\":[[0.0,\"#0d0887\"],[0.1111111111111111,\"#46039f\"],[0.2222222222222222,\"#7201a8\"],[0.3333333333333333,\"#9c179e\"],[0.4444444444444444,\"#bd3786\"],[0.5555555555555556,\"#d8576b\"],[0.6666666666666666,\"#ed7953\"],[0.7777777777777778,\"#fb9f3a\"],[0.8888888888888888,\"#fdca26\"],[1.0,\"#f0f921\"]]}],\"surface\":[{\"type\":\"surface\",\"colorbar\":{\"outlinewidth\":0,\"ticks\":\"\"},\"colorscale\":[[0.0,\"#0d0887\"],[0.1111111111111111,\"#46039f\"],[0.2222222222222222,\"#7201a8\"],[0.3333333333333333,\"#9c179e\"],[0.4444444444444444,\"#bd3786\"],[0.5555555555555556,\"#d8576b\"],[0.6666666666666666,\"#ed7953\"],[0.7777777777777778,\"#fb9f3a\"],[0.8888888888888888,\"#fdca26\"],[1.0,\"#f0f921\"]]}],\"mesh3d\":[{\"type\":\"mesh3d\",\"colorbar\":{\"outlinewidth\":0,\"ticks\":\"\"}}],\"scatter\":[{\"fillpattern\":{\"fillmode\":\"overlay\",\"size\":10,\"solidity\":0.2},\"type\":\"scatter\"}],\"parcoords\":[{\"type\":\"parcoords\",\"line\":{\"colorbar\":{\"outlinewidth\":0,\"ticks\":\"\"}}}],\"scatterpolargl\":[{\"type\":\"scatterpolargl\",\"marker\":{\"colorbar\":{\"outlinewidth\":0,\"ticks\":\"\"}}}],\"bar\":[{\"error_x\":{\"color\":\"#2a3f5f\"},\"error_y\":{\"color\":\"#2a3f5f\"},\"marker\":{\"line\":{\"color\":\"#E5ECF6\",\"width\":0.5},\"pattern\":{\"fillmode\":\"overlay\",\"size\":10,\"solidity\":0.2}},\"type\":\"bar\"}],\"scattergeo\":[{\"type\":\"scattergeo\",\"marker\":{\"colorbar\":{\"outlinewidth\":0,\"ticks\":\"\"}}}],\"scatterpolar\":[{\"type\":\"scatterpolar\",\"marker\":{\"colorbar\":{\"outlinewidth\":0,\"ticks\":\"\"}}}],\"histogram\":[{\"marker\":{\"pattern\":{\"fillmode\":\"overlay\",\"size\":10,\"solidity\":0.2}},\"type\":\"histogram\"}],\"scattergl\":[{\"type\":\"scattergl\",\"marker\":{\"colorbar\":{\"outlinewidth\":0,\"ticks\":\"\"}}}],\"scatter3d\":[{\"type\":\"scatter3d\",\"line\":{\"colorbar\":{\"outlinewidth\":0,\"ticks\":\"\"}},\"marker\":{\"colorbar\":{\"outlinewidth\":0,\"ticks\":\"\"}}}],\"scattermapbox\":[{\"type\":\"scattermapbox\",\"marker\":{\"colorbar\":{\"outlinewidth\":0,\"ticks\":\"\"}}}],\"scatterternary\":[{\"type\":\"scatterternary\",\"marker\":{\"colorbar\":{\"outlinewidth\":0,\"ticks\":\"\"}}}],\"scattercarpet\":[{\"type\":\"scattercarpet\",\"marker\":{\"colorbar\":{\"outlinewidth\":0,\"ticks\":\"\"}}}],\"carpet\":[{\"aaxis\":{\"endlinecolor\":\"#2a3f5f\",\"gridcolor\":\"white\",\"linecolor\":\"white\",\"minorgridcolor\":\"white\",\"startlinecolor\":\"#2a3f5f\"},\"baxis\":{\"endlinecolor\":\"#2a3f5f\",\"gridcolor\":\"white\",\"linecolor\":\"white\",\"minorgridcolor\":\"white\",\"startlinecolor\":\"#2a3f5f\"},\"type\":\"carpet\"}],\"table\":[{\"cells\":{\"fill\":{\"color\":\"#EBF0F8\"},\"line\":{\"color\":\"white\"}},\"header\":{\"fill\":{\"color\":\"#C8D4E3\"},\"line\":{\"color\":\"white\"}},\"type\":\"table\"}],\"barpolar\":[{\"marker\":{\"line\":{\"color\":\"#E5ECF6\",\"width\":0.5},\"pattern\":{\"fillmode\":\"overlay\",\"size\":10,\"solidity\":0.2}},\"type\":\"barpolar\"}],\"pie\":[{\"automargin\":true,\"type\":\"pie\"}]},\"layout\":{\"autotypenumbers\":\"strict\",\"colorway\":[\"#636efa\",\"#EF553B\",\"#00cc96\",\"#ab63fa\",\"#FFA15A\",\"#19d3f3\",\"#FF6692\",\"#B6E880\",\"#FF97FF\",\"#FECB52\"],\"font\":{\"color\":\"#2a3f5f\"},\"hovermode\":\"closest\",\"hoverlabel\":{\"align\":\"left\"},\"paper_bgcolor\":\"white\",\"plot_bgcolor\":\"#E5ECF6\",\"polar\":{\"bgcolor\":\"#E5ECF6\",\"angularaxis\":{\"gridcolor\":\"white\",\"linecolor\":\"white\",\"ticks\":\"\"},\"radialaxis\":{\"gridcolor\":\"white\",\"linecolor\":\"white\",\"ticks\":\"\"}},\"ternary\":{\"bgcolor\":\"#E5ECF6\",\"aaxis\":{\"gridcolor\":\"white\",\"linecolor\":\"white\",\"ticks\":\"\"},\"baxis\":{\"gridcolor\":\"white\",\"linecolor\":\"white\",\"ticks\":\"\"},\"caxis\":{\"gridcolor\":\"white\",\"linecolor\":\"white\",\"ticks\":\"\"}},\"coloraxis\":{\"colorbar\":{\"outlinewidth\":0,\"ticks\":\"\"}},\"colorscale\":{\"sequential\":[[0.0,\"#0d0887\"],[0.1111111111111111,\"#46039f\"],[0.2222222222222222,\"#7201a8\"],[0.3333333333333333,\"#9c179e\"],[0.4444444444444444,\"#bd3786\"],[0.5555555555555556,\"#d8576b\"],[0.6666666666666666,\"#ed7953\"],[0.7777777777777778,\"#fb9f3a\"],[0.8888888888888888,\"#fdca26\"],[1.0,\"#f0f921\"]],\"sequentialminus\":[[0.0,\"#0d0887\"],[0.1111111111111111,\"#46039f\"],[0.2222222222222222,\"#7201a8\"],[0.3333333333333333,\"#9c179e\"],[0.4444444444444444,\"#bd3786\"],[0.5555555555555556,\"#d8576b\"],[0.6666666666666666,\"#ed7953\"],[0.7777777777777778,\"#fb9f3a\"],[0.8888888888888888,\"#fdca26\"],[1.0,\"#f0f921\"]],\"diverging\":[[0,\"#8e0152\"],[0.1,\"#c51b7d\"],[0.2,\"#de77ae\"],[0.3,\"#f1b6da\"],[0.4,\"#fde0ef\"],[0.5,\"#f7f7f7\"],[0.6,\"#e6f5d0\"],[0.7,\"#b8e186\"],[0.8,\"#7fbc41\"],[0.9,\"#4d9221\"],[1,\"#276419\"]]},\"xaxis\":{\"gridcolor\":\"white\",\"linecolor\":\"white\",\"ticks\":\"\",\"title\":{\"standoff\":15},\"zerolinecolor\":\"white\",\"automargin\":true,\"zerolinewidth\":2},\"yaxis\":{\"gridcolor\":\"white\",\"linecolor\":\"white\",\"ticks\":\"\",\"title\":{\"standoff\":15},\"zerolinecolor\":\"white\",\"automargin\":true,\"zerolinewidth\":2},\"scene\":{\"xaxis\":{\"backgroundcolor\":\"#E5ECF6\",\"gridcolor\":\"white\",\"linecolor\":\"white\",\"showbackground\":true,\"ticks\":\"\",\"zerolinecolor\":\"white\",\"gridwidth\":2},\"yaxis\":{\"backgroundcolor\":\"#E5ECF6\",\"gridcolor\":\"white\",\"linecolor\":\"white\",\"showbackground\":true,\"ticks\":\"\",\"zerolinecolor\":\"white\",\"gridwidth\":2},\"zaxis\":{\"backgroundcolor\":\"#E5ECF6\",\"gridcolor\":\"white\",\"linecolor\":\"white\",\"showbackground\":true,\"ticks\":\"\",\"zerolinecolor\":\"white\",\"gridwidth\":2}},\"shapedefaults\":{\"line\":{\"color\":\"#2a3f5f\"}},\"annotationdefaults\":{\"arrowcolor\":\"#2a3f5f\",\"arrowhead\":0,\"arrowwidth\":1},\"geo\":{\"bgcolor\":\"white\",\"landcolor\":\"#E5ECF6\",\"subunitcolor\":\"white\",\"showland\":true,\"showlakes\":true,\"lakecolor\":\"white\"},\"title\":{\"x\":0.05},\"mapbox\":{\"style\":\"light\"}}},\"xaxis\":{\"anchor\":\"y\",\"domain\":[0.0,1.0],\"title\":{\"text\":\"prs_quantile\"},\"categoryorder\":\"array\",\"categoryarray\":[\"(0, 0.1]\",\"(0.1, 0.2]\",\"(0.2, 0.4]\",\"(0.4, 0.6]\",\"(0.6, 0.8]\",\"(0.8, 0.9]\",\"(0.9, 0.95]\",\"(0.95, 0.99]\",\"(0.99, 1.0]\"],\"tickangle\":45},\"yaxis\":{\"anchor\":\"x\",\"domain\":[0.0,1.0],\"title\":{\"text\":\"imc\"}},\"legend\":{\"title\":{\"text\":\"imc_cat\"},\"tracegroupgap\":0},\"margin\":{\"t\":60},\"boxmode\":\"overlay\"},                        {\"responsive\": true}                    ).then(function(){\n",
              "                            \n",
              "var gd = document.getElementById('cdf3f7bf-3717-4fd9-854e-7d501b77fb63');\n",
              "var x = new MutationObserver(function (mutations, observer) {{\n",
              "        var display = window.getComputedStyle(gd).display;\n",
              "        if (!display || display === 'none') {{\n",
              "            console.log([gd, 'removed!']);\n",
              "            Plotly.purge(gd);\n",
              "            observer.disconnect();\n",
              "        }}\n",
              "}});\n",
              "\n",
              "// Listen for the removal of the full notebook cells\n",
              "var notebookContainer = gd.closest('#notebook-container');\n",
              "if (notebookContainer) {{\n",
              "    x.observe(notebookContainer, {childList: true});\n",
              "}}\n",
              "\n",
              "// Listen for the clearing of the current output cell\n",
              "var outputEl = gd.closest('.output');\n",
              "if (outputEl) {{\n",
              "    x.observe(outputEl, {childList: true});\n",
              "}}\n",
              "\n",
              "                        })                };                            </script>        </div>\n",
              "</body>\n",
              "</html>"
            ]
          },
          "metadata": {}
        }
      ]
    },
    {
      "cell_type": "markdown",
      "source": [
        "##Generating random data (ideal PRS)"
      ],
      "metadata": {
        "id": "FuGxy2eyrOzf"
      }
    },
    {
      "cell_type": "code",
      "source": [
        "#Aqui será gerado uma amostra de IMCs e PRSs onde os valores de escore poligẽnico de fato aumentam com o IMC, isto é, o escore \"funciona\" bem\n",
        "prs_good = pd.DataFrame({\"imc\": random.normal(27.0, 1, size=600),\n",
        "                         \"prs\": random.normal(2.5, 0.3, size=600)})"
      ],
      "metadata": {
        "id": "Nj2X5g7e5pX-"
      },
      "execution_count": 16,
      "outputs": []
    },
    {
      "cell_type": "code",
      "source": [
        "prs_good"
      ],
      "metadata": {
        "colab": {
          "base_uri": "https://localhost:8080/",
          "height": 0
        },
        "id": "WoFJVjlc63mV",
        "outputId": "d30d66fe-a6cf-4ab8-9d74-ffb2f2e90d6a"
      },
      "execution_count": 17,
      "outputs": [
        {
          "output_type": "execute_result",
          "data": {
            "text/plain": [
              "           imc       prs\n",
              "0    26.771339  2.969399\n",
              "1    26.248825  2.317024\n",
              "2    27.399613  2.475938\n",
              "3    27.665438  2.635983\n",
              "4    27.206458  1.449847\n",
              "..         ...       ...\n",
              "595  25.303245  2.769119\n",
              "596  26.036651  2.810287\n",
              "597  25.594156  2.327428\n",
              "598  26.801611  2.495980\n",
              "599  26.569616  2.561665\n",
              "\n",
              "[600 rows x 2 columns]"
            ],
            "text/html": [
              "\n",
              "  <div id=\"df-0d468919-9f96-46c0-8186-2035c20a8186\">\n",
              "    <div class=\"colab-df-container\">\n",
              "      <div>\n",
              "<style scoped>\n",
              "    .dataframe tbody tr th:only-of-type {\n",
              "        vertical-align: middle;\n",
              "    }\n",
              "\n",
              "    .dataframe tbody tr th {\n",
              "        vertical-align: top;\n",
              "    }\n",
              "\n",
              "    .dataframe thead th {\n",
              "        text-align: right;\n",
              "    }\n",
              "</style>\n",
              "<table border=\"1\" class=\"dataframe\">\n",
              "  <thead>\n",
              "    <tr style=\"text-align: right;\">\n",
              "      <th></th>\n",
              "      <th>imc</th>\n",
              "      <th>prs</th>\n",
              "    </tr>\n",
              "  </thead>\n",
              "  <tbody>\n",
              "    <tr>\n",
              "      <th>0</th>\n",
              "      <td>26.771339</td>\n",
              "      <td>2.969399</td>\n",
              "    </tr>\n",
              "    <tr>\n",
              "      <th>1</th>\n",
              "      <td>26.248825</td>\n",
              "      <td>2.317024</td>\n",
              "    </tr>\n",
              "    <tr>\n",
              "      <th>2</th>\n",
              "      <td>27.399613</td>\n",
              "      <td>2.475938</td>\n",
              "    </tr>\n",
              "    <tr>\n",
              "      <th>3</th>\n",
              "      <td>27.665438</td>\n",
              "      <td>2.635983</td>\n",
              "    </tr>\n",
              "    <tr>\n",
              "      <th>4</th>\n",
              "      <td>27.206458</td>\n",
              "      <td>1.449847</td>\n",
              "    </tr>\n",
              "    <tr>\n",
              "      <th>...</th>\n",
              "      <td>...</td>\n",
              "      <td>...</td>\n",
              "    </tr>\n",
              "    <tr>\n",
              "      <th>595</th>\n",
              "      <td>25.303245</td>\n",
              "      <td>2.769119</td>\n",
              "    </tr>\n",
              "    <tr>\n",
              "      <th>596</th>\n",
              "      <td>26.036651</td>\n",
              "      <td>2.810287</td>\n",
              "    </tr>\n",
              "    <tr>\n",
              "      <th>597</th>\n",
              "      <td>25.594156</td>\n",
              "      <td>2.327428</td>\n",
              "    </tr>\n",
              "    <tr>\n",
              "      <th>598</th>\n",
              "      <td>26.801611</td>\n",
              "      <td>2.495980</td>\n",
              "    </tr>\n",
              "    <tr>\n",
              "      <th>599</th>\n",
              "      <td>26.569616</td>\n",
              "      <td>2.561665</td>\n",
              "    </tr>\n",
              "  </tbody>\n",
              "</table>\n",
              "<p>600 rows × 2 columns</p>\n",
              "</div>\n",
              "      <button class=\"colab-df-convert\" onclick=\"convertToInteractive('df-0d468919-9f96-46c0-8186-2035c20a8186')\"\n",
              "              title=\"Convert this dataframe to an interactive table.\"\n",
              "              style=\"display:none;\">\n",
              "        \n",
              "  <svg xmlns=\"http://www.w3.org/2000/svg\" height=\"24px\"viewBox=\"0 0 24 24\"\n",
              "       width=\"24px\">\n",
              "    <path d=\"M0 0h24v24H0V0z\" fill=\"none\"/>\n",
              "    <path d=\"M18.56 5.44l.94 2.06.94-2.06 2.06-.94-2.06-.94-.94-2.06-.94 2.06-2.06.94zm-11 1L8.5 8.5l.94-2.06 2.06-.94-2.06-.94L8.5 2.5l-.94 2.06-2.06.94zm10 10l.94 2.06.94-2.06 2.06-.94-2.06-.94-.94-2.06-.94 2.06-2.06.94z\"/><path d=\"M17.41 7.96l-1.37-1.37c-.4-.4-.92-.59-1.43-.59-.52 0-1.04.2-1.43.59L10.3 9.45l-7.72 7.72c-.78.78-.78 2.05 0 2.83L4 21.41c.39.39.9.59 1.41.59.51 0 1.02-.2 1.41-.59l7.78-7.78 2.81-2.81c.8-.78.8-2.07 0-2.86zM5.41 20L4 18.59l7.72-7.72 1.47 1.35L5.41 20z\"/>\n",
              "  </svg>\n",
              "      </button>\n",
              "      \n",
              "  <style>\n",
              "    .colab-df-container {\n",
              "      display:flex;\n",
              "      flex-wrap:wrap;\n",
              "      gap: 12px;\n",
              "    }\n",
              "\n",
              "    .colab-df-convert {\n",
              "      background-color: #E8F0FE;\n",
              "      border: none;\n",
              "      border-radius: 50%;\n",
              "      cursor: pointer;\n",
              "      display: none;\n",
              "      fill: #1967D2;\n",
              "      height: 32px;\n",
              "      padding: 0 0 0 0;\n",
              "      width: 32px;\n",
              "    }\n",
              "\n",
              "    .colab-df-convert:hover {\n",
              "      background-color: #E2EBFA;\n",
              "      box-shadow: 0px 1px 2px rgba(60, 64, 67, 0.3), 0px 1px 3px 1px rgba(60, 64, 67, 0.15);\n",
              "      fill: #174EA6;\n",
              "    }\n",
              "\n",
              "    [theme=dark] .colab-df-convert {\n",
              "      background-color: #3B4455;\n",
              "      fill: #D2E3FC;\n",
              "    }\n",
              "\n",
              "    [theme=dark] .colab-df-convert:hover {\n",
              "      background-color: #434B5C;\n",
              "      box-shadow: 0px 1px 3px 1px rgba(0, 0, 0, 0.15);\n",
              "      filter: drop-shadow(0px 1px 2px rgba(0, 0, 0, 0.3));\n",
              "      fill: #FFFFFF;\n",
              "    }\n",
              "  </style>\n",
              "\n",
              "      <script>\n",
              "        const buttonEl =\n",
              "          document.querySelector('#df-0d468919-9f96-46c0-8186-2035c20a8186 button.colab-df-convert');\n",
              "        buttonEl.style.display =\n",
              "          google.colab.kernel.accessAllowed ? 'block' : 'none';\n",
              "\n",
              "        async function convertToInteractive(key) {\n",
              "          const element = document.querySelector('#df-0d468919-9f96-46c0-8186-2035c20a8186');\n",
              "          const dataTable =\n",
              "            await google.colab.kernel.invokeFunction('convertToInteractive',\n",
              "                                                     [key], {});\n",
              "          if (!dataTable) return;\n",
              "\n",
              "          const docLinkHtml = 'Like what you see? Visit the ' +\n",
              "            '<a target=\"_blank\" href=https://colab.research.google.com/notebooks/data_table.ipynb>data table notebook</a>'\n",
              "            + ' to learn more about interactive tables.';\n",
              "          element.innerHTML = '';\n",
              "          dataTable['output_type'] = 'display_data';\n",
              "          await google.colab.output.renderOutput(dataTable, element);\n",
              "          const docLink = document.createElement('div');\n",
              "          docLink.innerHTML = docLinkHtml;\n",
              "          element.appendChild(docLink);\n",
              "        }\n",
              "      </script>\n",
              "    </div>\n",
              "  </div>\n",
              "  "
            ]
          },
          "metadata": {},
          "execution_count": 17
        }
      ]
    },
    {
      "cell_type": "code",
      "source": [
        "prs_good_2 = pd.DataFrame({\"imc\": random.normal(31.0, 0.5, size=400),\n",
        "                         \"prs\": random.normal(5.0, 0.01, size=400)})"
      ],
      "metadata": {
        "id": "JdLlKNQ667hF"
      },
      "execution_count": 18,
      "outputs": []
    },
    {
      "cell_type": "code",
      "source": [
        "prs_good_2"
      ],
      "metadata": {
        "colab": {
          "base_uri": "https://localhost:8080/",
          "height": 0
        },
        "id": "BNrxpO_-7Khe",
        "outputId": "b924e702-23ef-4021-a89f-11f3caf163e5"
      },
      "execution_count": 19,
      "outputs": [
        {
          "output_type": "execute_result",
          "data": {
            "text/plain": [
              "           imc       prs\n",
              "0    31.172862  4.994767\n",
              "1    30.878297  5.023833\n",
              "2    30.206822  5.006104\n",
              "3    30.563029  5.008682\n",
              "4    30.762283  4.988668\n",
              "..         ...       ...\n",
              "395  30.722991  5.013562\n",
              "396  30.512297  4.993067\n",
              "397  30.693327  4.999579\n",
              "398  30.719898  4.987760\n",
              "399  31.232437  5.006030\n",
              "\n",
              "[400 rows x 2 columns]"
            ],
            "text/html": [
              "\n",
              "  <div id=\"df-5707668d-1229-4918-903b-ac4deea871b9\">\n",
              "    <div class=\"colab-df-container\">\n",
              "      <div>\n",
              "<style scoped>\n",
              "    .dataframe tbody tr th:only-of-type {\n",
              "        vertical-align: middle;\n",
              "    }\n",
              "\n",
              "    .dataframe tbody tr th {\n",
              "        vertical-align: top;\n",
              "    }\n",
              "\n",
              "    .dataframe thead th {\n",
              "        text-align: right;\n",
              "    }\n",
              "</style>\n",
              "<table border=\"1\" class=\"dataframe\">\n",
              "  <thead>\n",
              "    <tr style=\"text-align: right;\">\n",
              "      <th></th>\n",
              "      <th>imc</th>\n",
              "      <th>prs</th>\n",
              "    </tr>\n",
              "  </thead>\n",
              "  <tbody>\n",
              "    <tr>\n",
              "      <th>0</th>\n",
              "      <td>31.172862</td>\n",
              "      <td>4.994767</td>\n",
              "    </tr>\n",
              "    <tr>\n",
              "      <th>1</th>\n",
              "      <td>30.878297</td>\n",
              "      <td>5.023833</td>\n",
              "    </tr>\n",
              "    <tr>\n",
              "      <th>2</th>\n",
              "      <td>30.206822</td>\n",
              "      <td>5.006104</td>\n",
              "    </tr>\n",
              "    <tr>\n",
              "      <th>3</th>\n",
              "      <td>30.563029</td>\n",
              "      <td>5.008682</td>\n",
              "    </tr>\n",
              "    <tr>\n",
              "      <th>4</th>\n",
              "      <td>30.762283</td>\n",
              "      <td>4.988668</td>\n",
              "    </tr>\n",
              "    <tr>\n",
              "      <th>...</th>\n",
              "      <td>...</td>\n",
              "      <td>...</td>\n",
              "    </tr>\n",
              "    <tr>\n",
              "      <th>395</th>\n",
              "      <td>30.722991</td>\n",
              "      <td>5.013562</td>\n",
              "    </tr>\n",
              "    <tr>\n",
              "      <th>396</th>\n",
              "      <td>30.512297</td>\n",
              "      <td>4.993067</td>\n",
              "    </tr>\n",
              "    <tr>\n",
              "      <th>397</th>\n",
              "      <td>30.693327</td>\n",
              "      <td>4.999579</td>\n",
              "    </tr>\n",
              "    <tr>\n",
              "      <th>398</th>\n",
              "      <td>30.719898</td>\n",
              "      <td>4.987760</td>\n",
              "    </tr>\n",
              "    <tr>\n",
              "      <th>399</th>\n",
              "      <td>31.232437</td>\n",
              "      <td>5.006030</td>\n",
              "    </tr>\n",
              "  </tbody>\n",
              "</table>\n",
              "<p>400 rows × 2 columns</p>\n",
              "</div>\n",
              "      <button class=\"colab-df-convert\" onclick=\"convertToInteractive('df-5707668d-1229-4918-903b-ac4deea871b9')\"\n",
              "              title=\"Convert this dataframe to an interactive table.\"\n",
              "              style=\"display:none;\">\n",
              "        \n",
              "  <svg xmlns=\"http://www.w3.org/2000/svg\" height=\"24px\"viewBox=\"0 0 24 24\"\n",
              "       width=\"24px\">\n",
              "    <path d=\"M0 0h24v24H0V0z\" fill=\"none\"/>\n",
              "    <path d=\"M18.56 5.44l.94 2.06.94-2.06 2.06-.94-2.06-.94-.94-2.06-.94 2.06-2.06.94zm-11 1L8.5 8.5l.94-2.06 2.06-.94-2.06-.94L8.5 2.5l-.94 2.06-2.06.94zm10 10l.94 2.06.94-2.06 2.06-.94-2.06-.94-.94-2.06-.94 2.06-2.06.94z\"/><path d=\"M17.41 7.96l-1.37-1.37c-.4-.4-.92-.59-1.43-.59-.52 0-1.04.2-1.43.59L10.3 9.45l-7.72 7.72c-.78.78-.78 2.05 0 2.83L4 21.41c.39.39.9.59 1.41.59.51 0 1.02-.2 1.41-.59l7.78-7.78 2.81-2.81c.8-.78.8-2.07 0-2.86zM5.41 20L4 18.59l7.72-7.72 1.47 1.35L5.41 20z\"/>\n",
              "  </svg>\n",
              "      </button>\n",
              "      \n",
              "  <style>\n",
              "    .colab-df-container {\n",
              "      display:flex;\n",
              "      flex-wrap:wrap;\n",
              "      gap: 12px;\n",
              "    }\n",
              "\n",
              "    .colab-df-convert {\n",
              "      background-color: #E8F0FE;\n",
              "      border: none;\n",
              "      border-radius: 50%;\n",
              "      cursor: pointer;\n",
              "      display: none;\n",
              "      fill: #1967D2;\n",
              "      height: 32px;\n",
              "      padding: 0 0 0 0;\n",
              "      width: 32px;\n",
              "    }\n",
              "\n",
              "    .colab-df-convert:hover {\n",
              "      background-color: #E2EBFA;\n",
              "      box-shadow: 0px 1px 2px rgba(60, 64, 67, 0.3), 0px 1px 3px 1px rgba(60, 64, 67, 0.15);\n",
              "      fill: #174EA6;\n",
              "    }\n",
              "\n",
              "    [theme=dark] .colab-df-convert {\n",
              "      background-color: #3B4455;\n",
              "      fill: #D2E3FC;\n",
              "    }\n",
              "\n",
              "    [theme=dark] .colab-df-convert:hover {\n",
              "      background-color: #434B5C;\n",
              "      box-shadow: 0px 1px 3px 1px rgba(0, 0, 0, 0.15);\n",
              "      filter: drop-shadow(0px 1px 2px rgba(0, 0, 0, 0.3));\n",
              "      fill: #FFFFFF;\n",
              "    }\n",
              "  </style>\n",
              "\n",
              "      <script>\n",
              "        const buttonEl =\n",
              "          document.querySelector('#df-5707668d-1229-4918-903b-ac4deea871b9 button.colab-df-convert');\n",
              "        buttonEl.style.display =\n",
              "          google.colab.kernel.accessAllowed ? 'block' : 'none';\n",
              "\n",
              "        async function convertToInteractive(key) {\n",
              "          const element = document.querySelector('#df-5707668d-1229-4918-903b-ac4deea871b9');\n",
              "          const dataTable =\n",
              "            await google.colab.kernel.invokeFunction('convertToInteractive',\n",
              "                                                     [key], {});\n",
              "          if (!dataTable) return;\n",
              "\n",
              "          const docLinkHtml = 'Like what you see? Visit the ' +\n",
              "            '<a target=\"_blank\" href=https://colab.research.google.com/notebooks/data_table.ipynb>data table notebook</a>'\n",
              "            + ' to learn more about interactive tables.';\n",
              "          element.innerHTML = '';\n",
              "          dataTable['output_type'] = 'display_data';\n",
              "          await google.colab.output.renderOutput(dataTable, element);\n",
              "          const docLink = document.createElement('div');\n",
              "          docLink.innerHTML = docLinkHtml;\n",
              "          element.appendChild(docLink);\n",
              "        }\n",
              "      </script>\n",
              "    </div>\n",
              "  </div>\n",
              "  "
            ]
          },
          "metadata": {},
          "execution_count": 19
        }
      ]
    },
    {
      "cell_type": "code",
      "source": [
        "prs_good_of = prs_good_2.append(prs_good)"
      ],
      "metadata": {
        "colab": {
          "base_uri": "https://localhost:8080/"
        },
        "id": "yknKdY_L7No-",
        "outputId": "6152392b-5165-4c26-a2fa-e539523887ea"
      },
      "execution_count": 20,
      "outputs": [
        {
          "output_type": "stream",
          "name": "stderr",
          "text": [
            "<ipython-input-20-084eae14aa20>:1: FutureWarning:\n",
            "\n",
            "The frame.append method is deprecated and will be removed from pandas in a future version. Use pandas.concat instead.\n",
            "\n"
          ]
        }
      ]
    },
    {
      "cell_type": "code",
      "source": [
        "bins_imc = [0, 30, np.inf]\n",
        "names = [\"Normal\", \"Obesidade\"]\n",
        "\n",
        "prs_good_of[\"imc_cat\"] = pd.cut(prs_good_of[\"imc\"], bins=bins_imc, labels=names)"
      ],
      "metadata": {
        "id": "YAALpdtM7hgE"
      },
      "execution_count": 21,
      "outputs": []
    },
    {
      "cell_type": "code",
      "source": [
        "prs_good_of.imc_cat.value_counts()"
      ],
      "metadata": {
        "colab": {
          "base_uri": "https://localhost:8080/"
        },
        "id": "L85t6mQN7s0u",
        "outputId": "abf5f2d9-7989-4c3a-ba1e-f761b52151bd"
      },
      "execution_count": 22,
      "outputs": [
        {
          "output_type": "execute_result",
          "data": {
            "text/plain": [
              "Normal       615\n",
              "Obesidade    385\n",
              "Name: imc_cat, dtype: int64"
            ]
          },
          "metadata": {},
          "execution_count": 22
        }
      ]
    },
    {
      "cell_type": "code",
      "source": [
        "prs_good_of[\"prs_quantile\"] = pd.qcut(prs_good_of[\"prs\"], q=[0, 0.10, 0.20, 0.40, 0.60, 0.80, 0.90, 0.95, 0.99, 1.0], labels= [\"(0, 0.1]\", \"(0.1, 0.2]\", \"(0.2, 0.4]\", \"(0.4, 0.6]\", \"(0.6, 0.8]\",\n",
        "                                                        \"(0.8, 0.9]\", \"(0.9, 0.95]\", \"(0.95, 0.99]\", \"(0.99, 1.0]\"])"
      ],
      "metadata": {
        "id": "E7y3Txek8Aq9"
      },
      "execution_count": 23,
      "outputs": []
    },
    {
      "cell_type": "code",
      "source": [
        "prs_good_of.prs_quantile.unique()"
      ],
      "metadata": {
        "colab": {
          "base_uri": "https://localhost:8080/"
        },
        "id": "GJgsXZNC8lZ-",
        "outputId": "6aa277c4-526d-4c85-a05b-a6fa5c52cdeb"
      },
      "execution_count": 24,
      "outputs": [
        {
          "output_type": "execute_result",
          "data": {
            "text/plain": [
              "['(0.6, 0.8]', '(0.99, 1.0]', '(0.8, 0.9]', '(0.9, 0.95]', '(0.95, 0.99]', '(0.4, 0.6]', '(0.1, 0.2]', '(0.2, 0.4]', '(0, 0.1]']\n",
              "Categories (9, object): ['(0, 0.1]' < '(0.1, 0.2]' < '(0.2, 0.4]' < '(0.4, 0.6]' ... '(0.8, 0.9]' <\n",
              "                         '(0.9, 0.95]' < '(0.95, 0.99]' < '(0.99, 1.0]']"
            ]
          },
          "metadata": {},
          "execution_count": 24
        }
      ]
    },
    {
      "cell_type": "code",
      "source": [
        "fig = px.strip(prs_good_of, x=\"prs_quantile\", y=\"imc\", color=\"imc_cat\", stripmode=\"overlay\",  category_orders={\"prs_quantile\": [\"(0, 0.1]\", \"(0.1, 0.2]\", \"(0.2, 0.4]\", \"(0.4, 0.6]\", \"(0.6, 0.8]\",\n",
        "                                                        \"(0.8, 0.9]\", \"(0.9, 0.95]\", \"(0.95, 0.99]\", \"(0.99, 1.0]\"]})\n",
        "\n",
        "fig.update_xaxes(tickangle=45)\n",
        "fig.show()"
      ],
      "metadata": {
        "colab": {
          "base_uri": "https://localhost:8080/",
          "height": 0
        },
        "id": "GbmrMk6j8JMY",
        "outputId": "ccd48d40-e7bf-43c1-a90c-0c0db1aad234"
      },
      "execution_count": 25,
      "outputs": [
        {
          "output_type": "display_data",
          "data": {
            "text/html": [
              "<html>\n",
              "<head><meta charset=\"utf-8\" /></head>\n",
              "<body>\n",
              "    <div>            <script src=\"https://cdnjs.cloudflare.com/ajax/libs/mathjax/2.7.5/MathJax.js?config=TeX-AMS-MML_SVG\"></script><script type=\"text/javascript\">if (window.MathJax && window.MathJax.Hub && window.MathJax.Hub.Config) {window.MathJax.Hub.Config({SVG: {font: \"STIX-Web\"}});}</script>                <script type=\"text/javascript\">window.PlotlyConfig = {MathJaxConfig: 'local'};</script>\n",
              "        <script src=\"https://cdn.plot.ly/plotly-2.18.2.min.js\"></script>                <div id=\"3b9015f7-5bf2-4d1a-8547-996fcb5aa1c0\" class=\"plotly-graph-div\" style=\"height:525px; width:100%;\"></div>            <script type=\"text/javascript\">                                    window.PLOTLYENV=window.PLOTLYENV || {};                                    if (document.getElementById(\"3b9015f7-5bf2-4d1a-8547-996fcb5aa1c0\")) {                    Plotly.newPlot(                        \"3b9015f7-5bf2-4d1a-8547-996fcb5aa1c0\",                        [{\"alignmentgroup\":\"True\",\"boxpoints\":\"all\",\"fillcolor\":\"rgba(255,255,255,0)\",\"hoveron\":\"points\",\"hovertemplate\":\"imc_cat=Obesidade<br>prs_quantile=%{x}<br>imc=%{y}<extra></extra>\",\"legendgroup\":\"Obesidade\",\"line\":{\"color\":\"rgba(255,255,255,0)\"},\"marker\":{\"color\":\"#636efa\"},\"name\":\"Obesidade\",\"offsetgroup\":\"Obesidade\",\"orientation\":\"v\",\"pointpos\":0,\"showlegend\":true,\"x\":[\"(0.6, 0.8]\",\"(0.99, 1.0]\",\"(0.8, 0.9]\",\"(0.9, 0.95]\",\"(0.6, 0.8]\",\"(0.99, 1.0]\",\"(0.8, 0.9]\",\"(0.9, 0.95]\",\"(0.6, 0.8]\",\"(0.9, 0.95]\",\"(0.95, 0.99]\",\"(0.95, 0.99]\",\"(0.6, 0.8]\",\"(0.6, 0.8]\",\"(0.8, 0.9]\",\"(0.6, 0.8]\",\"(0.8, 0.9]\",\"(0.8, 0.9]\",\"(0.9, 0.95]\",\"(0.95, 0.99]\",\"(0.6, 0.8]\",\"(0.6, 0.8]\",\"(0.6, 0.8]\",\"(0.8, 0.9]\",\"(0.9, 0.95]\",\"(0.6, 0.8]\",\"(0.99, 1.0]\",\"(0.95, 0.99]\",\"(0.8, 0.9]\",\"(0.9, 0.95]\",\"(0.8, 0.9]\",\"(0.8, 0.9]\",\"(0.6, 0.8]\",\"(0.8, 0.9]\",\"(0.95, 0.99]\",\"(0.8, 0.9]\",\"(0.6, 0.8]\",\"(0.6, 0.8]\",\"(0.6, 0.8]\",\"(0.6, 0.8]\",\"(0.9, 0.95]\",\"(0.6, 0.8]\",\"(0.9, 0.95]\",\"(0.6, 0.8]\",\"(0.8, 0.9]\",\"(0.8, 0.9]\",\"(0.95, 0.99]\",\"(0.8, 0.9]\",\"(0.6, 0.8]\",\"(0.6, 0.8]\",\"(0.95, 0.99]\",\"(0.99, 1.0]\",\"(0.6, 0.8]\",\"(0.6, 0.8]\",\"(0.8, 0.9]\",\"(0.6, 0.8]\",\"(0.6, 0.8]\",\"(0.6, 0.8]\",\"(0.9, 0.95]\",\"(0.6, 0.8]\",\"(0.6, 0.8]\",\"(0.8, 0.9]\",\"(0.8, 0.9]\",\"(0.6, 0.8]\",\"(0.8, 0.9]\",\"(0.6, 0.8]\",\"(0.6, 0.8]\",\"(0.8, 0.9]\",\"(0.6, 0.8]\",\"(0.6, 0.8]\",\"(0.6, 0.8]\",\"(0.6, 0.8]\",\"(0.6, 0.8]\",\"(0.6, 0.8]\",\"(0.6, 0.8]\",\"(0.6, 0.8]\",\"(0.8, 0.9]\",\"(0.6, 0.8]\",\"(0.99, 1.0]\",\"(0.8, 0.9]\",\"(0.8, 0.9]\",\"(0.6, 0.8]\",\"(0.6, 0.8]\",\"(0.6, 0.8]\",\"(0.8, 0.9]\",\"(0.8, 0.9]\",\"(0.6, 0.8]\",\"(0.8, 0.9]\",\"(0.8, 0.9]\",\"(0.8, 0.9]\",\"(0.8, 0.9]\",\"(0.6, 0.8]\",\"(0.95, 0.99]\",\"(0.8, 0.9]\",\"(0.9, 0.95]\",\"(0.6, 0.8]\",\"(0.95, 0.99]\",\"(0.6, 0.8]\",\"(0.9, 0.95]\",\"(0.8, 0.9]\",\"(0.8, 0.9]\",\"(0.6, 0.8]\",\"(0.95, 0.99]\",\"(0.6, 0.8]\",\"(0.8, 0.9]\",\"(0.6, 0.8]\",\"(0.8, 0.9]\",\"(0.6, 0.8]\",\"(0.8, 0.9]\",\"(0.6, 0.8]\",\"(0.6, 0.8]\",\"(0.6, 0.8]\",\"(0.6, 0.8]\",\"(0.95, 0.99]\",\"(0.9, 0.95]\",\"(0.6, 0.8]\",\"(0.6, 0.8]\",\"(0.95, 0.99]\",\"(0.6, 0.8]\",\"(0.6, 0.8]\",\"(0.9, 0.95]\",\"(0.9, 0.95]\",\"(0.6, 0.8]\",\"(0.6, 0.8]\",\"(0.8, 0.9]\",\"(0.6, 0.8]\",\"(0.6, 0.8]\",\"(0.95, 0.99]\",\"(0.95, 0.99]\",\"(0.8, 0.9]\",\"(0.6, 0.8]\",\"(0.9, 0.95]\",\"(0.9, 0.95]\",\"(0.6, 0.8]\",\"(0.9, 0.95]\",\"(0.8, 0.9]\",\"(0.6, 0.8]\",\"(0.8, 0.9]\",\"(0.8, 0.9]\",\"(0.8, 0.9]\",\"(0.6, 0.8]\",\"(0.6, 0.8]\",\"(0.6, 0.8]\",\"(0.6, 0.8]\",\"(0.6, 0.8]\",\"(0.6, 0.8]\",\"(0.6, 0.8]\",\"(0.6, 0.8]\",\"(0.6, 0.8]\",\"(0.6, 0.8]\",\"(0.9, 0.95]\",\"(0.8, 0.9]\",\"(0.8, 0.9]\",\"(0.8, 0.9]\",\"(0.9, 0.95]\",\"(0.8, 0.9]\",\"(0.6, 0.8]\",\"(0.9, 0.95]\",\"(0.6, 0.8]\",\"(0.8, 0.9]\",\"(0.8, 0.9]\",\"(0.8, 0.9]\",\"(0.6, 0.8]\",\"(0.6, 0.8]\",\"(0.8, 0.9]\",\"(0.6, 0.8]\",\"(0.6, 0.8]\",\"(0.6, 0.8]\",\"(0.6, 0.8]\",\"(0.6, 0.8]\",\"(0.8, 0.9]\",\"(0.6, 0.8]\",\"(0.6, 0.8]\",\"(0.6, 0.8]\",\"(0.8, 0.9]\",\"(0.9, 0.95]\",\"(0.6, 0.8]\",\"(0.8, 0.9]\",\"(0.6, 0.8]\",\"(0.95, 0.99]\",\"(0.6, 0.8]\",\"(0.6, 0.8]\",\"(0.6, 0.8]\",\"(0.6, 0.8]\",\"(0.6, 0.8]\",\"(0.6, 0.8]\",\"(0.9, 0.95]\",\"(0.9, 0.95]\",\"(0.6, 0.8]\",\"(0.95, 0.99]\",\"(0.8, 0.9]\",\"(0.8, 0.9]\",\"(0.8, 0.9]\",\"(0.6, 0.8]\",\"(0.6, 0.8]\",\"(0.6, 0.8]\",\"(0.6, 0.8]\",\"(0.8, 0.9]\",\"(0.9, 0.95]\",\"(0.6, 0.8]\",\"(0.8, 0.9]\",\"(0.8, 0.9]\",\"(0.6, 0.8]\",\"(0.8, 0.9]\",\"(0.8, 0.9]\",\"(0.6, 0.8]\",\"(0.8, 0.9]\",\"(0.6, 0.8]\",\"(0.95, 0.99]\",\"(0.9, 0.95]\",\"(0.8, 0.9]\",\"(0.95, 0.99]\",\"(0.9, 0.95]\",\"(0.6, 0.8]\",\"(0.6, 0.8]\",\"(0.6, 0.8]\",\"(0.6, 0.8]\",\"(0.6, 0.8]\",\"(0.8, 0.9]\",\"(0.6, 0.8]\",\"(0.6, 0.8]\",\"(0.95, 0.99]\",\"(0.6, 0.8]\",\"(0.6, 0.8]\",\"(0.6, 0.8]\",\"(0.6, 0.8]\",\"(0.6, 0.8]\",\"(0.8, 0.9]\",\"(0.6, 0.8]\",\"(0.6, 0.8]\",\"(0.99, 1.0]\",\"(0.8, 0.9]\",\"(0.6, 0.8]\",\"(0.6, 0.8]\",\"(0.8, 0.9]\",\"(0.6, 0.8]\",\"(0.6, 0.8]\",\"(0.6, 0.8]\",\"(0.8, 0.9]\",\"(0.6, 0.8]\",\"(0.6, 0.8]\",\"(0.95, 0.99]\",\"(0.95, 0.99]\",\"(0.95, 0.99]\",\"(0.6, 0.8]\",\"(0.95, 0.99]\",\"(0.6, 0.8]\",\"(0.6, 0.8]\",\"(0.6, 0.8]\",\"(0.95, 0.99]\",\"(0.9, 0.95]\",\"(0.6, 0.8]\",\"(0.8, 0.9]\",\"(0.6, 0.8]\",\"(0.6, 0.8]\",\"(0.9, 0.95]\",\"(0.9, 0.95]\",\"(0.6, 0.8]\",\"(0.6, 0.8]\",\"(0.8, 0.9]\",\"(0.6, 0.8]\",\"(0.95, 0.99]\",\"(0.6, 0.8]\",\"(0.6, 0.8]\",\"(0.95, 0.99]\",\"(0.6, 0.8]\",\"(0.8, 0.9]\",\"(0.6, 0.8]\",\"(0.6, 0.8]\",\"(0.9, 0.95]\",\"(0.9, 0.95]\",\"(0.6, 0.8]\",\"(0.9, 0.95]\",\"(0.6, 0.8]\",\"(0.6, 0.8]\",\"(0.6, 0.8]\",\"(0.6, 0.8]\",\"(0.8, 0.9]\",\"(0.6, 0.8]\",\"(0.6, 0.8]\",\"(0.6, 0.8]\",\"(0.6, 0.8]\",\"(0.6, 0.8]\",\"(0.6, 0.8]\",\"(0.6, 0.8]\",\"(0.9, 0.95]\",\"(0.8, 0.9]\",\"(0.8, 0.9]\",\"(0.6, 0.8]\",\"(0.8, 0.9]\",\"(0.6, 0.8]\",\"(0.8, 0.9]\",\"(0.9, 0.95]\",\"(0.6, 0.8]\",\"(0.9, 0.95]\",\"(0.8, 0.9]\",\"(0.6, 0.8]\",\"(0.6, 0.8]\",\"(0.99, 1.0]\",\"(0.9, 0.95]\",\"(0.6, 0.8]\",\"(0.6, 0.8]\",\"(0.6, 0.8]\",\"(0.8, 0.9]\",\"(0.8, 0.9]\",\"(0.6, 0.8]\",\"(0.6, 0.8]\",\"(0.8, 0.9]\",\"(0.6, 0.8]\",\"(0.8, 0.9]\",\"(0.6, 0.8]\",\"(0.95, 0.99]\",\"(0.6, 0.8]\",\"(0.9, 0.95]\",\"(0.8, 0.9]\",\"(0.8, 0.9]\",\"(0.9, 0.95]\",\"(0.6, 0.8]\",\"(0.8, 0.9]\",\"(0.95, 0.99]\",\"(0.95, 0.99]\",\"(0.95, 0.99]\",\"(0.6, 0.8]\",\"(0.6, 0.8]\",\"(0.9, 0.95]\",\"(0.6, 0.8]\",\"(0.6, 0.8]\",\"(0.8, 0.9]\",\"(0.8, 0.9]\",\"(0.6, 0.8]\",\"(0.6, 0.8]\",\"(0.6, 0.8]\",\"(0.8, 0.9]\",\"(0.8, 0.9]\",\"(0.6, 0.8]\",\"(0.6, 0.8]\",\"(0.95, 0.99]\",\"(0.8, 0.9]\",\"(0.8, 0.9]\",\"(0.8, 0.9]\",\"(0.9, 0.95]\",\"(0.6, 0.8]\",\"(0.6, 0.8]\",\"(0.8, 0.9]\",\"(0.8, 0.9]\",\"(0.6, 0.8]\",\"(0.6, 0.8]\",\"(0.95, 0.99]\",\"(0.6, 0.8]\",\"(0.8, 0.9]\",\"(0.6, 0.8]\",\"(0.6, 0.8]\",\"(0.9, 0.95]\",\"(0.6, 0.8]\",\"(0.8, 0.9]\",\"(0.95, 0.99]\",\"(0.99, 1.0]\",\"(0.8, 0.9]\",\"(0.99, 1.0]\",\"(0.95, 0.99]\",\"(0.6, 0.8]\",\"(0.9, 0.95]\",\"(0.9, 0.95]\",\"(0.9, 0.95]\",\"(0.6, 0.8]\",\"(0.6, 0.8]\",\"(0.9, 0.95]\",\"(0.6, 0.8]\",\"(0.95, 0.99]\",\"(0.99, 1.0]\",\"(0.8, 0.9]\",\"(0.6, 0.8]\",\"(0.8, 0.9]\",\"(0.9, 0.95]\",\"(0.95, 0.99]\",\"(0.8, 0.9]\",\"(0.9, 0.95]\",\"(0.6, 0.8]\",\"(0.6, 0.8]\",\"(0.95, 0.99]\",\"(0.95, 0.99]\",\"(0.6, 0.8]\",\"(0.6, 0.8]\",\"(0.6, 0.8]\",\"(0.8, 0.9]\"],\"x0\":\" \",\"xaxis\":\"x\",\"y\":[31.17286163544584,30.87829738975538,30.206821881958827,30.56302879198545,30.762282801828444,30.8924783910165,31.084504934709877,32.00475142554835,30.593606118464688,31.23563783763987,31.19758794928932,31.300266144180178,30.371020160298986,31.42287609278437,31.468309845046775,30.65122547231072,31.307778654544645,31.104308186784692,31.449707494442833,30.79973429019808,31.300230426312584,31.033274098287855,31.389409076515317,31.021746306740365,30.62794806874199,30.14902608719193,31.651412220635805,31.048402728152155,31.316273632488503,31.80373434514491,31.50576477826296,30.3476737156847,31.312316694353708,31.199500325200983,30.77682697136756,30.882670867333992,30.585349682235883,30.819748609433947,30.37883728245212,30.81958987678219,30.822763202031773,32.10786065141144,31.235386536323734,31.10605480852586,31.321223423820562,31.47512557255585,30.64483369769788,30.692887450668458,30.939105541874547,30.67014664033437,30.942917956382036,30.955005478036753,30.02070461644621,30.70596604842131,31.101828556437063,31.671118255311523,30.612300954319437,31.435492703101346,31.10874225746391,31.353169041712565,30.78577192993777,31.710558835161294,31.626641662902124,31.71211558131886,31.641366044029414,30.52715812565761,30.77122428691814,31.177425833535036,30.93116364921027,32.33116356640322,30.56878040825198,30.60554046934656,30.180449545030605,30.853777880012082,30.14548523721856,30.912866368717033,30.69182660650274,30.432998564905546,30.535206199399823,31.234049064368847,30.992946211531425,30.30878994868927,30.47944715477468,31.619678073532743,31.072808193594557,31.03285484811872,30.47950538292793,30.34698430148115,31.065791291275808,30.127500066075953,31.502073190452947,31.135824699051273,31.49509445029085,31.790738415774456,30.908437978491733,30.439654226158094,31.588121225127736,31.642546550250916,30.695211081681844,30.976722373645114,30.1863550001528,30.825012480392893,30.963485057877516,31.828688931578863,31.183206505224828,31.82542269223529,31.20223449714655,31.466527791383335,30.762662257072783,31.312680542427582,31.42072146528985,30.468587116997217,30.98462704130859,31.684159926250672,30.595746025891156,31.733335939956696,31.44763285629255,30.75597643849294,31.484986482427473,31.79904995349165,30.48541118412172,31.356065838008508,31.124911413026453,31.280715471830366,30.683256225881806,31.07058621404632,31.195664756135937,31.286506912120863,30.980456960142565,31.139563749062653,31.76626946735622,31.694528408929415,30.416086417074784,30.921828855250272,31.479407227502318,31.26396635202255,30.734757523314993,31.069920013706355,31.04048726765998,30.689924940216418,30.083164251795722,31.411293469268216,31.207454968422773,30.138049886981918,31.703979058759028,30.566856653450568,30.899588842659718,31.071161647929003,31.402529946803536,31.531502744619683,31.36367163026116,31.086283120090744,30.518595796983675,31.087788374793288,31.06128628727099,30.739497349270927,31.31060714576177,30.448269029544804,31.03138174970465,30.860918731494603,30.971220963341377,31.50936533598782,30.236851378432856,30.827531637368686,31.49580947131051,31.023473015374442,30.663495543440625,31.126353287923134,31.082964439356324,31.765260231286387,31.369732939029486,30.55705851742222,32.11670708860023,30.885044158383266,30.874769818755126,31.000629244672396,30.353744071326883,31.524581019648142,31.345315886856028,31.506245574756168,31.72098217751741,31.578172488933316,31.22635566396389,31.20459468878635,30.641171454380537,31.200781587243576,30.63531624810394,31.67101075126264,30.819982413028697,30.154494904110024,31.182889827381736,31.058466494573768,30.549447075461067,31.028223465407596,31.148268915238486,30.664564740936115,30.76664425271247,30.821266987729775,31.16548690600819,31.018574239408196,30.800641933849178,31.463682415187996,30.994692952107535,31.074805160745598,31.17827440992913,31.32665646172413,30.54996251717911,32.289816887333615,30.432876759720024,31.130153263584766,31.14681448080491,31.530241371144065,30.505452403980936,31.316452930743377,30.99832559244289,30.392562038674292,30.525085477646094,31.031468657356655,31.58733881690644,31.508809359482438,31.430308033201722,31.128132717074145,30.497936152420653,30.51907673346057,30.675046873939984,31.14386464780206,30.8583749237752,30.804138709564835,30.992955145617543,31.64569834729125,31.54470548002787,31.56367523251654,31.275737826935053,31.014434008368767,30.682202117204604,30.9197433344092,31.29115238479866,30.640157842127046,30.640279124747593,30.60985724601564,30.145765288414502,31.339674175765573,30.576097355474364,31.15379243727004,30.802496893829893,30.926159304490497,30.856386063119178,31.349615236323988,31.700672248401006,30.66476695811983,31.290291725190034,30.104351727328037,31.393438336352343,30.48492817337958,30.48770712508209,31.143911420718908,31.32030724066496,30.84753939346671,31.72956539038767,30.87490972616218,30.413737305130084,31.068979323705868,31.440701786906423,31.713097935569895,30.718503259360016,31.382691547873375,31.406638557570773,30.988352666492023,31.215985583737307,31.285207373258512,30.60570487494103,30.79765649615783,30.833255425601166,30.626661573557595,31.145982695505495,30.82159980363426,31.12350815888378,30.336193483667103,30.773858940526328,30.91399278570348,31.49020553235595,30.972273575139386,31.270550123253372,31.49302330121121,31.792694324566277,31.028138776708055,30.034637690393335,30.78070647647242,30.341556560360655,31.172456641056645,31.335035738847377,32.07814585897648,31.652278181689166,30.786965819133464,31.980931394552012,31.464193463549083,32.19994889625971,30.451587549143298,31.547027708177726,31.142013265977948,31.681399504806965,30.40108787964546,31.057328170162148,30.456818810925395,30.8916738635099,30.14359724562715,30.78007043535069,30.58156975218477,30.967203144645186,30.70646002820598,30.825670246051956,30.619942727039252,31.64608131802356,31.027895585402963,31.678739755580306,31.16191346875502,30.68904307080048,31.803215097921413,30.589560201398225,30.914816193004366,30.408441198882223,31.552724080863467,30.56777947701959,31.205489790693598,31.452069417167326,31.316199505877446,30.95666731314566,31.013017478625155,30.96798233548636,31.622432518313783,30.84447693226998,30.523144192270255,31.000425169950468,31.112001457078772,30.385205965266163,30.254443770707784,30.7533513255273,30.452923691867447,30.924109805024223,31.907942292953184,31.368928333011535,30.880195886862808,30.431082660032473,31.640509871376707,30.241255181465856,31.780630541458326,31.61182626401635,30.871045628904096,30.982106257047924,31.588033498781524,30.33056271611005,30.61609445435474,30.60781940972431,31.940869219318987,30.70921824028845,30.471124769324543,30.85925987702384,31.28264263918638,30.371579330873278,32.03682956111547,30.545839628902808,30.895972262245788,31.499662290741465,30.259654249997336,30.068475003846636,31.461695850036982,30.990650607428666,31.53186920217358,30.98810488058977,31.404372407990415,30.938805567241708,30.532653337704904,31.36353635223725,31.91265559066588,30.177163760335503,31.71202273688595,30.53237409653593,30.712189145780595,30.961472549540005,30.59163294071169,30.722991007699243,30.512297064296572,30.693327431715424,30.719898032441865,31.232437292556124],\"y0\":\" \",\"yaxis\":\"y\",\"type\":\"box\"},{\"alignmentgroup\":\"True\",\"boxpoints\":\"all\",\"fillcolor\":\"rgba(255,255,255,0)\",\"hoveron\":\"points\",\"hovertemplate\":\"imc_cat=Normal<br>prs_quantile=%{x}<br>imc=%{y}<extra></extra>\",\"legendgroup\":\"Normal\",\"line\":{\"color\":\"rgba(255,255,255,0)\"},\"marker\":{\"color\":\"#EF553B\"},\"name\":\"Normal\",\"offsetgroup\":\"Normal\",\"orientation\":\"v\",\"pointpos\":0,\"showlegend\":true,\"x\":[\"(0.8, 0.9]\",\"(0.6, 0.8]\",\"(0.6, 0.8]\",\"(0.9, 0.95]\",\"(0.9, 0.95]\",\"(0.9, 0.95]\",\"(0.95, 0.99]\",\"(0.6, 0.8]\",\"(0.6, 0.8]\",\"(0.8, 0.9]\",\"(0.6, 0.8]\",\"(0.95, 0.99]\",\"(0.6, 0.8]\",\"(0.6, 0.8]\",\"(0.6, 0.8]\",\"(0.4, 0.6]\",\"(0.1, 0.2]\",\"(0.2, 0.4]\",\"(0.2, 0.4]\",\"(0, 0.1]\",\"(0.2, 0.4]\",\"(0.2, 0.4]\",\"(0.4, 0.6]\",\"(0, 0.1]\",\"(0.4, 0.6]\",\"(0.2, 0.4]\",\"(0.2, 0.4]\",\"(0, 0.1]\",\"(0.2, 0.4]\",\"(0.4, 0.6]\",\"(0.1, 0.2]\",\"(0.2, 0.4]\",\"(0.1, 0.2]\",\"(0.4, 0.6]\",\"(0.4, 0.6]\",\"(0, 0.1]\",\"(0.4, 0.6]\",\"(0.2, 0.4]\",\"(0.4, 0.6]\",\"(0.1, 0.2]\",\"(0.2, 0.4]\",\"(0.2, 0.4]\",\"(0.2, 0.4]\",\"(0.4, 0.6]\",\"(0.4, 0.6]\",\"(0.4, 0.6]\",\"(0.1, 0.2]\",\"(0.2, 0.4]\",\"(0.1, 0.2]\",\"(0, 0.1]\",\"(0, 0.1]\",\"(0.2, 0.4]\",\"(0.4, 0.6]\",\"(0, 0.1]\",\"(0.4, 0.6]\",\"(0.1, 0.2]\",\"(0.4, 0.6]\",\"(0, 0.1]\",\"(0.4, 0.6]\",\"(0, 0.1]\",\"(0.2, 0.4]\",\"(0, 0.1]\",\"(0.2, 0.4]\",\"(0.4, 0.6]\",\"(0.2, 0.4]\",\"(0.4, 0.6]\",\"(0, 0.1]\",\"(0.4, 0.6]\",\"(0.1, 0.2]\",\"(0.4, 0.6]\",\"(0, 0.1]\",\"(0.2, 0.4]\",\"(0.4, 0.6]\",\"(0.1, 0.2]\",\"(0.2, 0.4]\",\"(0.1, 0.2]\",\"(0.1, 0.2]\",\"(0, 0.1]\",\"(0.2, 0.4]\",\"(0.1, 0.2]\",\"(0.4, 0.6]\",\"(0.2, 0.4]\",\"(0.2, 0.4]\",\"(0.4, 0.6]\",\"(0.2, 0.4]\",\"(0.2, 0.4]\",\"(0.2, 0.4]\",\"(0.4, 0.6]\",\"(0.4, 0.6]\",\"(0.2, 0.4]\",\"(0.2, 0.4]\",\"(0.4, 0.6]\",\"(0.2, 0.4]\",\"(0, 0.1]\",\"(0.4, 0.6]\",\"(0.1, 0.2]\",\"(0.4, 0.6]\",\"(0.2, 0.4]\",\"(0, 0.1]\",\"(0, 0.1]\",\"(0.4, 0.6]\",\"(0, 0.1]\",\"(0.2, 0.4]\",\"(0.2, 0.4]\",\"(0.1, 0.2]\",\"(0.1, 0.2]\",\"(0.1, 0.2]\",\"(0.4, 0.6]\",\"(0.4, 0.6]\",\"(0.1, 0.2]\",\"(0.2, 0.4]\",\"(0.4, 0.6]\",\"(0.2, 0.4]\",\"(0.4, 0.6]\",\"(0.2, 0.4]\",\"(0.1, 0.2]\",\"(0.4, 0.6]\",\"(0.2, 0.4]\",\"(0.2, 0.4]\",\"(0.4, 0.6]\",\"(0.4, 0.6]\",\"(0.2, 0.4]\",\"(0, 0.1]\",\"(0.4, 0.6]\",\"(0.4, 0.6]\",\"(0, 0.1]\",\"(0.2, 0.4]\",\"(0.4, 0.6]\",\"(0, 0.1]\",\"(0.1, 0.2]\",\"(0, 0.1]\",\"(0.2, 0.4]\",\"(0.1, 0.2]\",\"(0.2, 0.4]\",\"(0.2, 0.4]\",\"(0.2, 0.4]\",\"(0, 0.1]\",\"(0.2, 0.4]\",\"(0.4, 0.6]\",\"(0.4, 0.6]\",\"(0.1, 0.2]\",\"(0, 0.1]\",\"(0.1, 0.2]\",\"(0.2, 0.4]\",\"(0, 0.1]\",\"(0.4, 0.6]\",\"(0.1, 0.2]\",\"(0, 0.1]\",\"(0.4, 0.6]\",\"(0.4, 0.6]\",\"(0.4, 0.6]\",\"(0.1, 0.2]\",\"(0.4, 0.6]\",\"(0.1, 0.2]\",\"(0.4, 0.6]\",\"(0.4, 0.6]\",\"(0, 0.1]\",\"(0.2, 0.4]\",\"(0.4, 0.6]\",\"(0, 0.1]\",\"(0.4, 0.6]\",\"(0.2, 0.4]\",\"(0.4, 0.6]\",\"(0.4, 0.6]\",\"(0.4, 0.6]\",\"(0.4, 0.6]\",\"(0.2, 0.4]\",\"(0.2, 0.4]\",\"(0.4, 0.6]\",\"(0.4, 0.6]\",\"(0.4, 0.6]\",\"(0.1, 0.2]\",\"(0.1, 0.2]\",\"(0.4, 0.6]\",\"(0.4, 0.6]\",\"(0.2, 0.4]\",\"(0.2, 0.4]\",\"(0.1, 0.2]\",\"(0, 0.1]\",\"(0.4, 0.6]\",\"(0.4, 0.6]\",\"(0.4, 0.6]\",\"(0.4, 0.6]\",\"(0.2, 0.4]\",\"(0, 0.1]\",\"(0, 0.1]\",\"(0.2, 0.4]\",\"(0, 0.1]\",\"(0, 0.1]\",\"(0.2, 0.4]\",\"(0, 0.1]\",\"(0.2, 0.4]\",\"(0.4, 0.6]\",\"(0, 0.1]\",\"(0.4, 0.6]\",\"(0.2, 0.4]\",\"(0, 0.1]\",\"(0.4, 0.6]\",\"(0.2, 0.4]\",\"(0, 0.1]\",\"(0.4, 0.6]\",\"(0.4, 0.6]\",\"(0.2, 0.4]\",\"(0.2, 0.4]\",\"(0.4, 0.6]\",\"(0.4, 0.6]\",\"(0.2, 0.4]\",\"(0.4, 0.6]\",\"(0.4, 0.6]\",\"(0.4, 0.6]\",\"(0.2, 0.4]\",\"(0.1, 0.2]\",\"(0.2, 0.4]\",\"(0.4, 0.6]\",\"(0.1, 0.2]\",\"(0.4, 0.6]\",\"(0.4, 0.6]\",\"(0.4, 0.6]\",\"(0.2, 0.4]\",\"(0.4, 0.6]\",\"(0.4, 0.6]\",\"(0, 0.1]\",\"(0.4, 0.6]\",\"(0.1, 0.2]\",\"(0.4, 0.6]\",\"(0.2, 0.4]\",\"(0.2, 0.4]\",\"(0.2, 0.4]\",\"(0.2, 0.4]\",\"(0.4, 0.6]\",\"(0.1, 0.2]\",\"(0.1, 0.2]\",\"(0.2, 0.4]\",\"(0.4, 0.6]\",\"(0.1, 0.2]\",\"(0.4, 0.6]\",\"(0.4, 0.6]\",\"(0.4, 0.6]\",\"(0.4, 0.6]\",\"(0, 0.1]\",\"(0.4, 0.6]\",\"(0.2, 0.4]\",\"(0.4, 0.6]\",\"(0.2, 0.4]\",\"(0.1, 0.2]\",\"(0, 0.1]\",\"(0.2, 0.4]\",\"(0.4, 0.6]\",\"(0.2, 0.4]\",\"(0.1, 0.2]\",\"(0, 0.1]\",\"(0.2, 0.4]\",\"(0, 0.1]\",\"(0.2, 0.4]\",\"(0.2, 0.4]\",\"(0.2, 0.4]\",\"(0.1, 0.2]\",\"(0.4, 0.6]\",\"(0.2, 0.4]\",\"(0.4, 0.6]\",\"(0.4, 0.6]\",\"(0.2, 0.4]\",\"(0.1, 0.2]\",\"(0.4, 0.6]\",\"(0.4, 0.6]\",\"(0, 0.1]\",\"(0, 0.1]\",\"(0.4, 0.6]\",\"(0.1, 0.2]\",\"(0.1, 0.2]\",\"(0.1, 0.2]\",\"(0.2, 0.4]\",\"(0.1, 0.2]\",\"(0, 0.1]\",\"(0.4, 0.6]\",\"(0, 0.1]\",\"(0.2, 0.4]\",\"(0, 0.1]\",\"(0.1, 0.2]\",\"(0, 0.1]\",\"(0.2, 0.4]\",\"(0.4, 0.6]\",\"(0, 0.1]\",\"(0, 0.1]\",\"(0.2, 0.4]\",\"(0.2, 0.4]\",\"(0.4, 0.6]\",\"(0, 0.1]\",\"(0.4, 0.6]\",\"(0.4, 0.6]\",\"(0.2, 0.4]\",\"(0.4, 0.6]\",\"(0.1, 0.2]\",\"(0.2, 0.4]\",\"(0.1, 0.2]\",\"(0.4, 0.6]\",\"(0.2, 0.4]\",\"(0.2, 0.4]\",\"(0.4, 0.6]\",\"(0.2, 0.4]\",\"(0.4, 0.6]\",\"(0, 0.1]\",\"(0.2, 0.4]\",\"(0.4, 0.6]\",\"(0.2, 0.4]\",\"(0.4, 0.6]\",\"(0.4, 0.6]\",\"(0.2, 0.4]\",\"(0.4, 0.6]\",\"(0, 0.1]\",\"(0.4, 0.6]\",\"(0.2, 0.4]\",\"(0.4, 0.6]\",\"(0.2, 0.4]\",\"(0.2, 0.4]\",\"(0.2, 0.4]\",\"(0.4, 0.6]\",\"(0.1, 0.2]\",\"(0.2, 0.4]\",\"(0.1, 0.2]\",\"(0.4, 0.6]\",\"(0, 0.1]\",\"(0.1, 0.2]\",\"(0.2, 0.4]\",\"(0.2, 0.4]\",\"(0.4, 0.6]\",\"(0.4, 0.6]\",\"(0.1, 0.2]\",\"(0.4, 0.6]\",\"(0.4, 0.6]\",\"(0.2, 0.4]\",\"(0.4, 0.6]\",\"(0, 0.1]\",\"(0.4, 0.6]\",\"(0.2, 0.4]\",\"(0.1, 0.2]\",\"(0.2, 0.4]\",\"(0, 0.1]\",\"(0.4, 0.6]\",\"(0, 0.1]\",\"(0, 0.1]\",\"(0.4, 0.6]\",\"(0.2, 0.4]\",\"(0.4, 0.6]\",\"(0.2, 0.4]\",\"(0.4, 0.6]\",\"(0.2, 0.4]\",\"(0, 0.1]\",\"(0.2, 0.4]\",\"(0.4, 0.6]\",\"(0, 0.1]\",\"(0.2, 0.4]\",\"(0.2, 0.4]\",\"(0, 0.1]\",\"(0, 0.1]\",\"(0.4, 0.6]\",\"(0.2, 0.4]\",\"(0.4, 0.6]\",\"(0.2, 0.4]\",\"(0.4, 0.6]\",\"(0.2, 0.4]\",\"(0.2, 0.4]\",\"(0.2, 0.4]\",\"(0.1, 0.2]\",\"(0.2, 0.4]\",\"(0.4, 0.6]\",\"(0, 0.1]\",\"(0.1, 0.2]\",\"(0.4, 0.6]\",\"(0.4, 0.6]\",\"(0, 0.1]\",\"(0.4, 0.6]\",\"(0.2, 0.4]\",\"(0.2, 0.4]\",\"(0.1, 0.2]\",\"(0.2, 0.4]\",\"(0.2, 0.4]\",\"(0, 0.1]\",\"(0.1, 0.2]\",\"(0.4, 0.6]\",\"(0.2, 0.4]\",\"(0.2, 0.4]\",\"(0.2, 0.4]\",\"(0.1, 0.2]\",\"(0.2, 0.4]\",\"(0, 0.1]\",\"(0.1, 0.2]\",\"(0, 0.1]\",\"(0.4, 0.6]\",\"(0.1, 0.2]\",\"(0.1, 0.2]\",\"(0, 0.1]\",\"(0.1, 0.2]\",\"(0.2, 0.4]\",\"(0.2, 0.4]\",\"(0.4, 0.6]\",\"(0.2, 0.4]\",\"(0, 0.1]\",\"(0.2, 0.4]\",\"(0.4, 0.6]\",\"(0.2, 0.4]\",\"(0.1, 0.2]\",\"(0.1, 0.2]\",\"(0, 0.1]\",\"(0.2, 0.4]\",\"(0.4, 0.6]\",\"(0.4, 0.6]\",\"(0.2, 0.4]\",\"(0.4, 0.6]\",\"(0.4, 0.6]\",\"(0.4, 0.6]\",\"(0.4, 0.6]\",\"(0.4, 0.6]\",\"(0.2, 0.4]\",\"(0.2, 0.4]\",\"(0.2, 0.4]\",\"(0.2, 0.4]\",\"(0.4, 0.6]\",\"(0.2, 0.4]\",\"(0, 0.1]\",\"(0.1, 0.2]\",\"(0, 0.1]\",\"(0.4, 0.6]\",\"(0.4, 0.6]\",\"(0.2, 0.4]\",\"(0.4, 0.6]\",\"(0.2, 0.4]\",\"(0.2, 0.4]\",\"(0, 0.1]\",\"(0.4, 0.6]\",\"(0.1, 0.2]\",\"(0.2, 0.4]\",\"(0.2, 0.4]\",\"(0.1, 0.2]\",\"(0.2, 0.4]\",\"(0.1, 0.2]\",\"(0.4, 0.6]\",\"(0.1, 0.2]\",\"(0.2, 0.4]\",\"(0.2, 0.4]\",\"(0.2, 0.4]\",\"(0.4, 0.6]\",\"(0, 0.1]\",\"(0.1, 0.2]\",\"(0, 0.1]\",\"(0.2, 0.4]\",\"(0.2, 0.4]\",\"(0.4, 0.6]\",\"(0.4, 0.6]\",\"(0, 0.1]\",\"(0.2, 0.4]\",\"(0.1, 0.2]\",\"(0, 0.1]\",\"(0, 0.1]\",\"(0.4, 0.6]\",\"(0.2, 0.4]\",\"(0, 0.1]\",\"(0.2, 0.4]\",\"(0.1, 0.2]\",\"(0.1, 0.2]\",\"(0.1, 0.2]\",\"(0, 0.1]\",\"(0.4, 0.6]\",\"(0.4, 0.6]\",\"(0.2, 0.4]\",\"(0, 0.1]\",\"(0.2, 0.4]\",\"(0, 0.1]\",\"(0.4, 0.6]\",\"(0, 0.1]\",\"(0.1, 0.2]\",\"(0.4, 0.6]\",\"(0.4, 0.6]\",\"(0.4, 0.6]\",\"(0.2, 0.4]\",\"(0.4, 0.6]\",\"(0.2, 0.4]\",\"(0.2, 0.4]\",\"(0.2, 0.4]\",\"(0.4, 0.6]\",\"(0.2, 0.4]\",\"(0.1, 0.2]\",\"(0.2, 0.4]\",\"(0, 0.1]\",\"(0.2, 0.4]\",\"(0.2, 0.4]\",\"(0.2, 0.4]\",\"(0.4, 0.6]\",\"(0, 0.1]\",\"(0.2, 0.4]\",\"(0.2, 0.4]\",\"(0.2, 0.4]\",\"(0.4, 0.6]\",\"(0.2, 0.4]\",\"(0.2, 0.4]\",\"(0, 0.1]\",\"(0.4, 0.6]\",\"(0.4, 0.6]\",\"(0.2, 0.4]\",\"(0, 0.1]\",\"(0.4, 0.6]\",\"(0.1, 0.2]\",\"(0.1, 0.2]\",\"(0.2, 0.4]\",\"(0.4, 0.6]\",\"(0.2, 0.4]\",\"(0.2, 0.4]\",\"(0.1, 0.2]\",\"(0.4, 0.6]\",\"(0.1, 0.2]\",\"(0.1, 0.2]\",\"(0.4, 0.6]\",\"(0, 0.1]\",\"(0.4, 0.6]\",\"(0.4, 0.6]\",\"(0, 0.1]\",\"(0.1, 0.2]\",\"(0.1, 0.2]\",\"(0.4, 0.6]\",\"(0.2, 0.4]\",\"(0.2, 0.4]\",\"(0.2, 0.4]\",\"(0.2, 0.4]\",\"(0.4, 0.6]\",\"(0.1, 0.2]\",\"(0.2, 0.4]\",\"(0.2, 0.4]\",\"(0.1, 0.2]\",\"(0.2, 0.4]\",\"(0.2, 0.4]\",\"(0.1, 0.2]\",\"(0.1, 0.2]\",\"(0, 0.1]\",\"(0.4, 0.6]\",\"(0, 0.1]\",\"(0.2, 0.4]\",\"(0, 0.1]\",\"(0.2, 0.4]\",\"(0.4, 0.6]\",\"(0.4, 0.6]\",\"(0.4, 0.6]\",\"(0.4, 0.6]\",\"(0, 0.1]\",\"(0, 0.1]\",\"(0, 0.1]\",\"(0.4, 0.6]\",\"(0.1, 0.2]\",\"(0.4, 0.6]\",\"(0.4, 0.6]\",\"(0.4, 0.6]\",\"(0.4, 0.6]\",\"(0.2, 0.4]\",\"(0.1, 0.2]\",\"(0.4, 0.6]\",\"(0.2, 0.4]\",\"(0.4, 0.6]\",\"(0.2, 0.4]\",\"(0.1, 0.2]\",\"(0.4, 0.6]\",\"(0.2, 0.4]\",\"(0.2, 0.4]\",\"(0.1, 0.2]\",\"(0.2, 0.4]\",\"(0.4, 0.6]\",\"(0.2, 0.4]\",\"(0, 0.1]\",\"(0.2, 0.4]\",\"(0, 0.1]\",\"(0.1, 0.2]\",\"(0.2, 0.4]\",\"(0.2, 0.4]\",\"(0.1, 0.2]\",\"(0.2, 0.4]\",\"(0.4, 0.6]\",\"(0.4, 0.6]\",\"(0.2, 0.4]\",\"(0.2, 0.4]\",\"(0, 0.1]\",\"(0.2, 0.4]\",\"(0.1, 0.2]\",\"(0.4, 0.6]\",\"(0.4, 0.6]\",\"(0.1, 0.2]\",\"(0.1, 0.2]\",\"(0.4, 0.6]\",\"(0.4, 0.6]\",\"(0.1, 0.2]\",\"(0.4, 0.6]\",\"(0.1, 0.2]\",\"(0.2, 0.4]\",\"(0, 0.1]\",\"(0.4, 0.6]\",\"(0.2, 0.4]\",\"(0.1, 0.2]\",\"(0.2, 0.4]\",\"(0.4, 0.6]\",\"(0.2, 0.4]\",\"(0.4, 0.6]\",\"(0.4, 0.6]\",\"(0, 0.1]\",\"(0.2, 0.4]\",\"(0.4, 0.6]\",\"(0.4, 0.6]\",\"(0.2, 0.4]\",\"(0, 0.1]\",\"(0.1, 0.2]\",\"(0.1, 0.2]\",\"(0.2, 0.4]\",\"(0.1, 0.2]\",\"(0.2, 0.4]\",\"(0.4, 0.6]\",\"(0.4, 0.6]\",\"(0.1, 0.2]\",\"(0.2, 0.4]\",\"(0.2, 0.4]\"],\"x0\":\" \",\"xaxis\":\"x\",\"y\":[29.558037039770234,29.943347045605265,29.980647559978518,29.958768517332505,29.988251602692127,29.88257890976023,29.978227603921436,29.977803601098,29.925575130127047,29.811825764248276,29.7853051055611,29.99054526961918,29.519480984457104,29.881540393070843,29.890379059673013,26.771339069789878,26.248825497736213,27.3996127690068,27.665437975281563,27.206458260900614,25.140114622277753,26.71776752411461,28.127654942141017,27.41927364289957,26.047531520724508,26.48803251225225,26.552907404248813,28.090502874522716,27.70347818578325,28.74803465616734,26.918511916402906,26.7576250818142,25.710811778780315,27.72897234317481,27.42069677949906,26.943187490451628,28.3277545336672,27.325469832329016,27.087784343180836,28.21477277913066,28.01200945699709,26.362608617042607,27.277828461933282,27.480294748407548,26.043239304088004,28.890284230217638,26.582218187657045,28.095140711371005,28.36172678873239,26.578490524621227,28.37749725995304,24.664574792654914,26.08504160157764,28.1396152666366,27.18304785015016,27.450471694294077,27.023490720237398,27.370527471573908,29.058535173122017,26.24996694627881,28.0642140435762,26.883457694865072,26.21750495861742,27.69959488810748,26.58592842346998,27.026314124030097,25.585887008139593,26.3275698105815,27.04677684363258,28.262958038787367,26.666308590816225,26.78896330556206,25.348922587374528,27.522830579873105,26.48889347882634,28.000817494659994,27.609903141762793,26.99268594880052,25.34048144162936,28.136370067576433,26.613315160998482,27.847459129913673,26.372017760793476,28.051222471437267,26.983775621967894,26.83425256727216,28.070480482253263,26.36262567472837,27.426969182082864,26.631400208828087,27.067924136483477,26.32050199870351,26.56256417966566,25.426876776051508,26.926532827617706,26.550630958875274,26.262549021698053,26.76517913190574,27.878587216904833,26.801697527363643,25.51506502668039,26.080122530290712,28.63027097629702,27.931274945330927,27.71590787959822,28.82434009446586,26.53276109659198,26.413484585968593,25.42791966580773,26.33883858720504,26.953474925707273,25.4590218347492,27.08053312055037,25.35313834783989,26.692733848315342,28.302029448397505,26.08471524805633,26.49126813602779,25.446939522110927,28.429252725756168,26.33441802498968,28.215588871234605,27.09959579799076,26.997380805175023,25.336295729425753,28.144521100265795,25.53796653725783,25.794428984876486,27.582685449839936,28.107027748642597,27.228433810328422,26.26900210720312,27.696071188410432,26.358623990112363,26.789432234536477,26.544953469645506,27.02489930398194,26.198697189786568,26.097661236492282,28.57654998433109,26.376300280193778,28.96438804942671,28.02593438755649,26.520274742060607,25.243467404789037,24.786863520241116,26.068177419479717,26.380498174828908,27.008880951216096,25.803985318944488,27.248363367323687,26.827927071231468,28.369595766467466,26.202082517382667,26.28266309887852,26.70063123303181,26.519477289557592,27.371030288365592,27.13291312534983,26.382939928569048,27.573578634236398,27.308385718982265,27.376191013773525,26.177419098789333,25.261869878403107,26.670747784631438,26.3360045342387,25.163131026202304,28.868658045548955,26.208277310185018,27.794018013380153,26.091743685008645,27.920851980508175,26.25098973983097,29.429414705420495,27.388957796292456,28.613747177305804,25.906985717601586,26.92581249420933,28.092975192801482,26.522722136427763,26.11113160364468,26.077131443024683,27.74826225663295,27.507459695987478,26.049064151192624,25.8593632910824,25.92715166973238,27.057345060607194,28.882528684394533,27.06766601594511,28.177798149830444,28.08443561877289,26.13974073622944,26.858375975094905,26.767907230014163,25.741328574400715,28.3578295830952,26.92872696944837,27.207515249387747,28.25231857855199,26.58097816540288,27.431608789823798,26.56480188594464,28.462719083697777,25.364160123835102,27.146406157862323,26.727787171319665,27.088179495680606,26.957851290475205,26.079541334138238,27.893995769273516,28.288779507206957,26.69910799344521,29.97280050480313,27.371631121082256,26.177128840152577,27.002462466534787,26.01122699122054,27.299290335124358,27.226907152220146,25.712637988236413,27.10940202669912,27.35059630347911,26.241518867569965,24.86235970125457,28.285889017446078,27.98321903754437,26.052635640428317,26.861041603167102,25.52725935898499,25.82299641949263,24.909723054338528,25.75207504533579,26.82493730737923,25.031679974029615,27.800294423541494,27.568287464608723,27.76267468178822,25.89958062284895,26.57372255770281,27.605254264592354,28.716733785383326,27.796677637510385,27.740980812877623,27.40402562486166,27.66089003146701,27.016247021771598,27.66856710427601,25.297513091440603,27.97905560049949,26.37538246919231,26.003839737716486,27.2262918054947,27.535729597115044,26.835309072925458,26.06205356765764,27.099851526363594,29.27056088021081,25.852402922463025,26.591630953163296,27.62015283825766,26.503017715051982,28.104749690974092,27.446809211702792,25.954580889435967,25.99588524592312,26.1597957296056,24.829314435423115,26.361410570827104,25.04514822569978,25.247568603792523,28.145757550691975,27.8623163184301,28.098684196697675,28.134642455178962,25.56869965132497,27.44263657510229,25.22669980176644,28.304498638895947,25.68426817634762,29.248356219531452,26.64290230469633,25.919318378338364,27.410308651404577,26.63427960339289,27.935568541508847,26.98009960474587,25.806662708032107,26.768851919543028,26.79785358390648,26.81540182464576,26.667671635164908,27.72891557812349,27.224604144982376,27.24905812406259,28.030925284396154,27.484723923892354,26.658209093342922,28.591423817333393,26.01044790244073,27.871369732469656,25.4677445702373,25.531310710987945,26.526322542017002,27.55438131588773,26.79655450610402,27.867222115148646,26.533721605394103,28.74145518808538,26.328761207379628,27.615012407785237,27.02171068548822,27.18264072615129,27.22332952601225,27.972786866388034,27.940191657537778,27.408712878034553,28.562869049296786,26.039752741513215,25.808028733199926,28.304969910782397,25.9148376572006,27.979557290656437,27.048133439413064,29.221639812944208,28.086452808231844,26.805140071730314,26.616943347754958,28.36750901725223,25.841053577123144,26.872176766411528,27.520657862938737,27.8487066640836,28.763541805778143,26.581375793435967,27.832308728402804,27.814969357922323,27.572476844853256,29.10421065748503,27.861992026010633,27.511661979873324,25.59775184594802,28.77605196768473,26.34914695520817,27.97273973168665,26.81423589803077,27.803390929740747,26.366001016376323,26.56230399435649,27.30209241196977,26.669704815727744,27.597389231179978,26.27155372875861,27.720835576447346,27.266407421383843,27.480097522050855,25.005921994898188,26.464282681056275,26.278040650830192,26.00265692861807,27.566198368791532,26.80465641004144,27.75130668903361,27.019680026090946,26.987490217837816,26.087615396063434,27.00507043083754,28.180636936143735,27.21756718300926,26.402420898558393,27.096823314427688,24.970693363634414,25.34382545009768,27.355314744292937,26.89677343542368,27.979643896190154,26.83350799104735,25.80658333901498,27.19423092949711,26.859326376648383,26.05581473727999,27.99874198620185,26.77827292785659,26.641317182739375,27.5339974368145,27.96890690054914,25.29095976388537,28.080995434657435,26.435891483126056,26.428077925747424,25.13111408569259,26.219295286255853,26.14802791043665,27.984452112025828,25.530550912253165,26.956665103624733,28.191027748619184,27.39352610657512,25.65636204986806,25.330071868954214,26.364992278251286,26.830980327391387,28.207079754028175,27.59007280295203,27.97877139600857,25.004626563895744,25.79944550036913,25.18050388083236,28.49270394465389,27.362274720822263,28.185781359174523,28.27906499648486,27.046844052803447,25.97374722021741,24.044159822099527,27.688582164723094,26.585759405735423,28.144631643872085,27.04551916312926,26.39473102835423,26.021948485868222,26.884524079889854,27.08785736355719,28.99313413507502,26.456222983100773,26.72369814919768,26.822498176584354,26.295709734762987,27.095551753821077,27.013327581184242,26.392041123878077,26.021152662328433,27.292182237322233,27.85102862210857,26.96764153167556,27.54835689134113,29.0158221394577,29.01112638611231,26.82955637418477,26.423499515470542,26.73977292850902,26.012215524272428,26.988198206257252,26.384846709493367,27.419404801337713,27.672890781960128,27.494609190505987,27.543284273692564,28.097653627209844,26.18097431562572,28.1952928150357,26.24501554338098,26.34911663118111,27.422193016768126,27.19188169545395,25.82501644702356,27.01264639354032,27.881587099075944,27.58877276002349,28.15415616399851,27.514102290489905,25.16588188576921,27.9502391190136,27.650471286488163,27.290877246328638,27.601952459357378,27.19688178058015,25.625111538995416,25.13887694147483,27.138921347166786,27.47160765390407,27.410452130528114,27.65012132617651,27.836278511230606,27.562458151719724,27.510418585895525,27.30842839765636,27.408441533879806,26.8641322697333,29.56954270742511,25.25741166025651,27.36401856172697,26.846707033794377,26.99248494069694,28.673159698466794,25.514359226408114,25.4309723870664,26.46109769147352,25.836147449043757,26.14458529976256,27.827063413552498,28.60704872553535,26.55356750358307,27.30870083407559,26.015817210035802,25.958748251834635,25.605561605288724,28.250549742944408,27.770996613303634,25.71448570290522,26.8259721430897,26.903909683710726,26.2764394846258,27.689307479027246,27.488093623241177,26.86651368209882,24.75860727388912,27.193524069370703,25.447592950516206,28.336631060383596,25.990030521288247,26.844371318953637,26.62627752571339,28.528630257492875,26.609512554275558,26.903867647407207,26.239639946727102,28.511534588436877,26.490722028169326,26.47335865477378,26.912756274061664,25.951964914220184,27.431375834705836,27.81365068147719,27.768190096740632,26.345266098448775,26.292981580199594,26.704356555328257,27.102810327012495,25.61021563007139,27.151220245976702,26.349235695789655,25.818805158200817,27.133100968229453,26.993929266343535,26.348360824106432,26.479143361841512,26.0268397977983,26.742456050768066,25.16715582805159,25.348664191112825,25.58298343221514,26.551610813789093,26.553666282964095,29.621871187732438,28.050484088665872,28.03933855106058,27.79937841402431,28.44619275401889,27.488983269153636,27.113358818870598,24.91757034096151,27.136654608246097,26.91156083849389,27.498841595819297,27.316167601155037,28.56422650234011,25.48581994097176,25.990801936218233,25.606252787596496,26.03749700301606,25.883515091800838,26.19571733425823,28.023923341225498,27.831384261552433,29.107537165565493,24.99375052926806,25.725886020787048,27.505158412371053,26.067583489358576,24.578720988376677,26.943073547023072,27.950358789520998,26.659296237725087,26.252288402846027,27.875818095518987,25.627608236493792,27.980507213515164,27.276479823101162,28.93452125015858,25.39761948416509,26.33013517746161,27.70693811519887,26.71503960161651,25.84833744773186,27.964054912515845,27.357123948363512,28.195364308774305,27.625682591914234,25.408971361188854,28.774598587095937,27.355053746794763,24.66985940607221,28.15031035165022,27.312741310949264,27.21198284326346,27.117856037727783,27.00270927563238,26.389339055254123,26.45564826029452,25.20510358634398,25.71982255173381,25.924979495714645,29.63873664636931,25.884658833470457,27.482093919347477,26.254354201082087,26.93636362930957,25.403395193975317,25.303245121347224,26.03665119219877,25.59415647880513,26.801610501410842,26.569615842458727],\"y0\":\" \",\"yaxis\":\"y\",\"type\":\"box\"}],                        {\"template\":{\"data\":{\"histogram2dcontour\":[{\"type\":\"histogram2dcontour\",\"colorbar\":{\"outlinewidth\":0,\"ticks\":\"\"},\"colorscale\":[[0.0,\"#0d0887\"],[0.1111111111111111,\"#46039f\"],[0.2222222222222222,\"#7201a8\"],[0.3333333333333333,\"#9c179e\"],[0.4444444444444444,\"#bd3786\"],[0.5555555555555556,\"#d8576b\"],[0.6666666666666666,\"#ed7953\"],[0.7777777777777778,\"#fb9f3a\"],[0.8888888888888888,\"#fdca26\"],[1.0,\"#f0f921\"]]}],\"choropleth\":[{\"type\":\"choropleth\",\"colorbar\":{\"outlinewidth\":0,\"ticks\":\"\"}}],\"histogram2d\":[{\"type\":\"histogram2d\",\"colorbar\":{\"outlinewidth\":0,\"ticks\":\"\"},\"colorscale\":[[0.0,\"#0d0887\"],[0.1111111111111111,\"#46039f\"],[0.2222222222222222,\"#7201a8\"],[0.3333333333333333,\"#9c179e\"],[0.4444444444444444,\"#bd3786\"],[0.5555555555555556,\"#d8576b\"],[0.6666666666666666,\"#ed7953\"],[0.7777777777777778,\"#fb9f3a\"],[0.8888888888888888,\"#fdca26\"],[1.0,\"#f0f921\"]]}],\"heatmap\":[{\"type\":\"heatmap\",\"colorbar\":{\"outlinewidth\":0,\"ticks\":\"\"},\"colorscale\":[[0.0,\"#0d0887\"],[0.1111111111111111,\"#46039f\"],[0.2222222222222222,\"#7201a8\"],[0.3333333333333333,\"#9c179e\"],[0.4444444444444444,\"#bd3786\"],[0.5555555555555556,\"#d8576b\"],[0.6666666666666666,\"#ed7953\"],[0.7777777777777778,\"#fb9f3a\"],[0.8888888888888888,\"#fdca26\"],[1.0,\"#f0f921\"]]}],\"heatmapgl\":[{\"type\":\"heatmapgl\",\"colorbar\":{\"outlinewidth\":0,\"ticks\":\"\"},\"colorscale\":[[0.0,\"#0d0887\"],[0.1111111111111111,\"#46039f\"],[0.2222222222222222,\"#7201a8\"],[0.3333333333333333,\"#9c179e\"],[0.4444444444444444,\"#bd3786\"],[0.5555555555555556,\"#d8576b\"],[0.6666666666666666,\"#ed7953\"],[0.7777777777777778,\"#fb9f3a\"],[0.8888888888888888,\"#fdca26\"],[1.0,\"#f0f921\"]]}],\"contourcarpet\":[{\"type\":\"contourcarpet\",\"colorbar\":{\"outlinewidth\":0,\"ticks\":\"\"}}],\"contour\":[{\"type\":\"contour\",\"colorbar\":{\"outlinewidth\":0,\"ticks\":\"\"},\"colorscale\":[[0.0,\"#0d0887\"],[0.1111111111111111,\"#46039f\"],[0.2222222222222222,\"#7201a8\"],[0.3333333333333333,\"#9c179e\"],[0.4444444444444444,\"#bd3786\"],[0.5555555555555556,\"#d8576b\"],[0.6666666666666666,\"#ed7953\"],[0.7777777777777778,\"#fb9f3a\"],[0.8888888888888888,\"#fdca26\"],[1.0,\"#f0f921\"]]}],\"surface\":[{\"type\":\"surface\",\"colorbar\":{\"outlinewidth\":0,\"ticks\":\"\"},\"colorscale\":[[0.0,\"#0d0887\"],[0.1111111111111111,\"#46039f\"],[0.2222222222222222,\"#7201a8\"],[0.3333333333333333,\"#9c179e\"],[0.4444444444444444,\"#bd3786\"],[0.5555555555555556,\"#d8576b\"],[0.6666666666666666,\"#ed7953\"],[0.7777777777777778,\"#fb9f3a\"],[0.8888888888888888,\"#fdca26\"],[1.0,\"#f0f921\"]]}],\"mesh3d\":[{\"type\":\"mesh3d\",\"colorbar\":{\"outlinewidth\":0,\"ticks\":\"\"}}],\"scatter\":[{\"fillpattern\":{\"fillmode\":\"overlay\",\"size\":10,\"solidity\":0.2},\"type\":\"scatter\"}],\"parcoords\":[{\"type\":\"parcoords\",\"line\":{\"colorbar\":{\"outlinewidth\":0,\"ticks\":\"\"}}}],\"scatterpolargl\":[{\"type\":\"scatterpolargl\",\"marker\":{\"colorbar\":{\"outlinewidth\":0,\"ticks\":\"\"}}}],\"bar\":[{\"error_x\":{\"color\":\"#2a3f5f\"},\"error_y\":{\"color\":\"#2a3f5f\"},\"marker\":{\"line\":{\"color\":\"#E5ECF6\",\"width\":0.5},\"pattern\":{\"fillmode\":\"overlay\",\"size\":10,\"solidity\":0.2}},\"type\":\"bar\"}],\"scattergeo\":[{\"type\":\"scattergeo\",\"marker\":{\"colorbar\":{\"outlinewidth\":0,\"ticks\":\"\"}}}],\"scatterpolar\":[{\"type\":\"scatterpolar\",\"marker\":{\"colorbar\":{\"outlinewidth\":0,\"ticks\":\"\"}}}],\"histogram\":[{\"marker\":{\"pattern\":{\"fillmode\":\"overlay\",\"size\":10,\"solidity\":0.2}},\"type\":\"histogram\"}],\"scattergl\":[{\"type\":\"scattergl\",\"marker\":{\"colorbar\":{\"outlinewidth\":0,\"ticks\":\"\"}}}],\"scatter3d\":[{\"type\":\"scatter3d\",\"line\":{\"colorbar\":{\"outlinewidth\":0,\"ticks\":\"\"}},\"marker\":{\"colorbar\":{\"outlinewidth\":0,\"ticks\":\"\"}}}],\"scattermapbox\":[{\"type\":\"scattermapbox\",\"marker\":{\"colorbar\":{\"outlinewidth\":0,\"ticks\":\"\"}}}],\"scatterternary\":[{\"type\":\"scatterternary\",\"marker\":{\"colorbar\":{\"outlinewidth\":0,\"ticks\":\"\"}}}],\"scattercarpet\":[{\"type\":\"scattercarpet\",\"marker\":{\"colorbar\":{\"outlinewidth\":0,\"ticks\":\"\"}}}],\"carpet\":[{\"aaxis\":{\"endlinecolor\":\"#2a3f5f\",\"gridcolor\":\"white\",\"linecolor\":\"white\",\"minorgridcolor\":\"white\",\"startlinecolor\":\"#2a3f5f\"},\"baxis\":{\"endlinecolor\":\"#2a3f5f\",\"gridcolor\":\"white\",\"linecolor\":\"white\",\"minorgridcolor\":\"white\",\"startlinecolor\":\"#2a3f5f\"},\"type\":\"carpet\"}],\"table\":[{\"cells\":{\"fill\":{\"color\":\"#EBF0F8\"},\"line\":{\"color\":\"white\"}},\"header\":{\"fill\":{\"color\":\"#C8D4E3\"},\"line\":{\"color\":\"white\"}},\"type\":\"table\"}],\"barpolar\":[{\"marker\":{\"line\":{\"color\":\"#E5ECF6\",\"width\":0.5},\"pattern\":{\"fillmode\":\"overlay\",\"size\":10,\"solidity\":0.2}},\"type\":\"barpolar\"}],\"pie\":[{\"automargin\":true,\"type\":\"pie\"}]},\"layout\":{\"autotypenumbers\":\"strict\",\"colorway\":[\"#636efa\",\"#EF553B\",\"#00cc96\",\"#ab63fa\",\"#FFA15A\",\"#19d3f3\",\"#FF6692\",\"#B6E880\",\"#FF97FF\",\"#FECB52\"],\"font\":{\"color\":\"#2a3f5f\"},\"hovermode\":\"closest\",\"hoverlabel\":{\"align\":\"left\"},\"paper_bgcolor\":\"white\",\"plot_bgcolor\":\"#E5ECF6\",\"polar\":{\"bgcolor\":\"#E5ECF6\",\"angularaxis\":{\"gridcolor\":\"white\",\"linecolor\":\"white\",\"ticks\":\"\"},\"radialaxis\":{\"gridcolor\":\"white\",\"linecolor\":\"white\",\"ticks\":\"\"}},\"ternary\":{\"bgcolor\":\"#E5ECF6\",\"aaxis\":{\"gridcolor\":\"white\",\"linecolor\":\"white\",\"ticks\":\"\"},\"baxis\":{\"gridcolor\":\"white\",\"linecolor\":\"white\",\"ticks\":\"\"},\"caxis\":{\"gridcolor\":\"white\",\"linecolor\":\"white\",\"ticks\":\"\"}},\"coloraxis\":{\"colorbar\":{\"outlinewidth\":0,\"ticks\":\"\"}},\"colorscale\":{\"sequential\":[[0.0,\"#0d0887\"],[0.1111111111111111,\"#46039f\"],[0.2222222222222222,\"#7201a8\"],[0.3333333333333333,\"#9c179e\"],[0.4444444444444444,\"#bd3786\"],[0.5555555555555556,\"#d8576b\"],[0.6666666666666666,\"#ed7953\"],[0.7777777777777778,\"#fb9f3a\"],[0.8888888888888888,\"#fdca26\"],[1.0,\"#f0f921\"]],\"sequentialminus\":[[0.0,\"#0d0887\"],[0.1111111111111111,\"#46039f\"],[0.2222222222222222,\"#7201a8\"],[0.3333333333333333,\"#9c179e\"],[0.4444444444444444,\"#bd3786\"],[0.5555555555555556,\"#d8576b\"],[0.6666666666666666,\"#ed7953\"],[0.7777777777777778,\"#fb9f3a\"],[0.8888888888888888,\"#fdca26\"],[1.0,\"#f0f921\"]],\"diverging\":[[0,\"#8e0152\"],[0.1,\"#c51b7d\"],[0.2,\"#de77ae\"],[0.3,\"#f1b6da\"],[0.4,\"#fde0ef\"],[0.5,\"#f7f7f7\"],[0.6,\"#e6f5d0\"],[0.7,\"#b8e186\"],[0.8,\"#7fbc41\"],[0.9,\"#4d9221\"],[1,\"#276419\"]]},\"xaxis\":{\"gridcolor\":\"white\",\"linecolor\":\"white\",\"ticks\":\"\",\"title\":{\"standoff\":15},\"zerolinecolor\":\"white\",\"automargin\":true,\"zerolinewidth\":2},\"yaxis\":{\"gridcolor\":\"white\",\"linecolor\":\"white\",\"ticks\":\"\",\"title\":{\"standoff\":15},\"zerolinecolor\":\"white\",\"automargin\":true,\"zerolinewidth\":2},\"scene\":{\"xaxis\":{\"backgroundcolor\":\"#E5ECF6\",\"gridcolor\":\"white\",\"linecolor\":\"white\",\"showbackground\":true,\"ticks\":\"\",\"zerolinecolor\":\"white\",\"gridwidth\":2},\"yaxis\":{\"backgroundcolor\":\"#E5ECF6\",\"gridcolor\":\"white\",\"linecolor\":\"white\",\"showbackground\":true,\"ticks\":\"\",\"zerolinecolor\":\"white\",\"gridwidth\":2},\"zaxis\":{\"backgroundcolor\":\"#E5ECF6\",\"gridcolor\":\"white\",\"linecolor\":\"white\",\"showbackground\":true,\"ticks\":\"\",\"zerolinecolor\":\"white\",\"gridwidth\":2}},\"shapedefaults\":{\"line\":{\"color\":\"#2a3f5f\"}},\"annotationdefaults\":{\"arrowcolor\":\"#2a3f5f\",\"arrowhead\":0,\"arrowwidth\":1},\"geo\":{\"bgcolor\":\"white\",\"landcolor\":\"#E5ECF6\",\"subunitcolor\":\"white\",\"showland\":true,\"showlakes\":true,\"lakecolor\":\"white\"},\"title\":{\"x\":0.05},\"mapbox\":{\"style\":\"light\"}}},\"xaxis\":{\"anchor\":\"y\",\"domain\":[0.0,1.0],\"title\":{\"text\":\"prs_quantile\"},\"categoryorder\":\"array\",\"categoryarray\":[\"(0, 0.1]\",\"(0.1, 0.2]\",\"(0.2, 0.4]\",\"(0.4, 0.6]\",\"(0.6, 0.8]\",\"(0.8, 0.9]\",\"(0.9, 0.95]\",\"(0.95, 0.99]\",\"(0.99, 1.0]\"],\"tickangle\":45},\"yaxis\":{\"anchor\":\"x\",\"domain\":[0.0,1.0],\"title\":{\"text\":\"imc\"}},\"legend\":{\"title\":{\"text\":\"imc_cat\"},\"tracegroupgap\":0},\"margin\":{\"t\":60},\"boxmode\":\"overlay\"},                        {\"responsive\": true}                    ).then(function(){\n",
              "                            \n",
              "var gd = document.getElementById('3b9015f7-5bf2-4d1a-8547-996fcb5aa1c0');\n",
              "var x = new MutationObserver(function (mutations, observer) {{\n",
              "        var display = window.getComputedStyle(gd).display;\n",
              "        if (!display || display === 'none') {{\n",
              "            console.log([gd, 'removed!']);\n",
              "            Plotly.purge(gd);\n",
              "            observer.disconnect();\n",
              "        }}\n",
              "}});\n",
              "\n",
              "// Listen for the removal of the full notebook cells\n",
              "var notebookContainer = gd.closest('#notebook-container');\n",
              "if (notebookContainer) {{\n",
              "    x.observe(notebookContainer, {childList: true});\n",
              "}}\n",
              "\n",
              "// Listen for the clearing of the current output cell\n",
              "var outputEl = gd.closest('.output');\n",
              "if (outputEl) {{\n",
              "    x.observe(outputEl, {childList: true});\n",
              "}}\n",
              "\n",
              "                        })                };                            </script>        </div>\n",
              "</body>\n",
              "</html>"
            ]
          },
          "metadata": {}
        }
      ]
    },
    {
      "cell_type": "code",
      "source": [
        "fig.write_html(\"bmi_strata_plot.html\")"
      ],
      "metadata": {
        "id": "lQfWmrvQst2k"
      },
      "execution_count": 26,
      "outputs": []
    },
    {
      "cell_type": "markdown",
      "source": [
        "## BMI per quantile (boxplot)"
      ],
      "metadata": {
        "id": "zKFRhDMuVrcw"
      }
    },
    {
      "cell_type": "code",
      "source": [
        "#Neste gráfico, os valores de PRS são dividios em 20 quantis (eixo x) e, no eixo y, os valores de IMC são plotados no formato boxplot.\n",
        "#PRSs com bom desempenho para IMC teriam os valores de IMC aumentando de acordo com os quantis\n",
        "labels = [f\"{n}\" for n in range(1, 21)]\n",
        "\n",
        "prs_data_q20 = prs_data.copy()\n",
        "\n",
        "prs_data_q20[\"prs_quantile\"] = pd.qcut(prs_data_q20[\"prs\"], q=20, labels=labels)"
      ],
      "metadata": {
        "id": "LFlnhFzh4WUN"
      },
      "execution_count": 27,
      "outputs": []
    },
    {
      "cell_type": "code",
      "source": [
        "fig = sns.boxplot(data=prs_data_q20, x=\"prs_quantile\", y=\"imc\").set(title='Quantile Plot (Quantiles versus BMI)', xlabel='Quantiles for BMI PRS', ylabel='BMI (kg/m²)')\n",
        "\n",
        "plt.savefig(\"quantile_plot.png\")"
      ],
      "metadata": {
        "colab": {
          "base_uri": "https://localhost:8080/",
          "height": 0
        },
        "id": "gu8BgE_k8rbY",
        "outputId": "9c4d7e5b-585f-44a1-c25f-94bbb1b19c12"
      },
      "execution_count": 28,
      "outputs": [
        {
          "output_type": "display_data",
          "data": {
            "text/plain": [
              "<Figure size 640x480 with 1 Axes>"
            ],
            "image/png": "[encoded data removed]"
          },
          "metadata": {}
        }
      ]
    },
    {
      "cell_type": "code",
      "source": [
        "#PRS com um melhor desempenho\n",
        "labels = [f\"{n}\" for n in range(1, 21)]\n",
        "\n",
        "prs_data_q20_good = prs_good_of.copy()\n",
        "\n",
        "prs_data_q20_good[\"prs_quantile\"] = pd.qcut(prs_data_q20_good[\"prs\"], q=20, labels=labels)\n",
        "\n",
        "fig = sns.boxplot(data=prs_data_q20_good, x=\"prs_quantile\", y=\"imc\", showcaps=False, showfliers=False).set(title='Quantile Plot (Quantiles versus BMI)', xlabel='Quantiles for BMI PRS', ylabel='BMI (kg/m²)')\n",
        "\n",
        "plt.savefig(\"quantile_plot_2.png\")"
      ],
      "metadata": {
        "colab": {
          "base_uri": "https://localhost:8080/",
          "height": 0
        },
        "id": "VmrVICRS_J64",
        "outputId": "cbb297ae-f1cd-46f6-a854-2a7e19c9edfd"
      },
      "execution_count": 29,
      "outputs": [
        {
          "output_type": "display_data",
          "data": {
            "text/plain": [
              "<Figure size 640x480 with 1 Axes>"
            ],
            "image/png": "[encoded data removed]"
          },
          "metadata": {}
        }
      ]
    },
    {
      "cell_type": "markdown",
      "source": [
        "## Prevalence of obesity per quantile "
      ],
      "metadata": {
        "id": "fL9eBEGoWHev"
      }
    },
    {
      "cell_type": "code",
      "source": [
        "#Os valores de PRS também podem ser comparados com a prevalência de obesidade naquele quantil\n",
        "prs_data"
      ],
      "metadata": {
        "colab": {
          "base_uri": "https://localhost:8080/",
          "height": 0
        },
        "id": "oUj-qAjHbACO",
        "outputId": "6b9f3d21-c934-45fc-e062-1f35b3096427"
      },
      "execution_count": 30,
      "outputs": [
        {
          "output_type": "execute_result",
          "data": {
            "text/plain": [
              "           imc       prs    imc_cat prs_quantile\n",
              "0    25.581212  1.190600     Normal     (0, 0.1]\n",
              "1    22.889882  3.456974     Normal   (0.8, 0.9]\n",
              "2    23.894118  1.523977     Normal   (0.1, 0.2]\n",
              "3    28.758104  3.789539     Normal  (0.9, 0.95]\n",
              "4    29.613595  3.229053     Normal   (0.6, 0.8]\n",
              "..         ...       ...        ...          ...\n",
              "995  30.377202  1.890787  Obesidade   (0.2, 0.4]\n",
              "996  25.898121  3.177605     Normal   (0.6, 0.8]\n",
              "997  27.086962  2.858559     Normal   (0.6, 0.8]\n",
              "998  28.444945  2.101281     Normal   (0.2, 0.4]\n",
              "999  27.043901  2.296545     Normal   (0.4, 0.6]\n",
              "\n",
              "[1000 rows x 4 columns]"
            ],
            "text/html": [
              "\n",
              "  <div id=\"df-6e641c8b-af62-491f-9613-33a191d24f79\">\n",
              "    <div class=\"colab-df-container\">\n",
              "      <div>\n",
              "<style scoped>\n",
              "    .dataframe tbody tr th:only-of-type {\n",
              "        vertical-align: middle;\n",
              "    }\n",
              "\n",
              "    .dataframe tbody tr th {\n",
              "        vertical-align: top;\n",
              "    }\n",
              "\n",
              "    .dataframe thead th {\n",
              "        text-align: right;\n",
              "    }\n",
              "</style>\n",
              "<table border=\"1\" class=\"dataframe\">\n",
              "  <thead>\n",
              "    <tr style=\"text-align: right;\">\n",
              "      <th></th>\n",
              "      <th>imc</th>\n",
              "      <th>prs</th>\n",
              "      <th>imc_cat</th>\n",
              "      <th>prs_quantile</th>\n",
              "    </tr>\n",
              "  </thead>\n",
              "  <tbody>\n",
              "    <tr>\n",
              "      <th>0</th>\n",
              "      <td>25.581212</td>\n",
              "      <td>1.190600</td>\n",
              "      <td>Normal</td>\n",
              "      <td>(0, 0.1]</td>\n",
              "    </tr>\n",
              "    <tr>\n",
              "      <th>1</th>\n",
              "      <td>22.889882</td>\n",
              "      <td>3.456974</td>\n",
              "      <td>Normal</td>\n",
              "      <td>(0.8, 0.9]</td>\n",
              "    </tr>\n",
              "    <tr>\n",
              "      <th>2</th>\n",
              "      <td>23.894118</td>\n",
              "      <td>1.523977</td>\n",
              "      <td>Normal</td>\n",
              "      <td>(0.1, 0.2]</td>\n",
              "    </tr>\n",
              "    <tr>\n",
              "      <th>3</th>\n",
              "      <td>28.758104</td>\n",
              "      <td>3.789539</td>\n",
              "      <td>Normal</td>\n",
              "      <td>(0.9, 0.95]</td>\n",
              "    </tr>\n",
              "    <tr>\n",
              "      <th>4</th>\n",
              "      <td>29.613595</td>\n",
              "      <td>3.229053</td>\n",
              "      <td>Normal</td>\n",
              "      <td>(0.6, 0.8]</td>\n",
              "    </tr>\n",
              "    <tr>\n",
              "      <th>...</th>\n",
              "      <td>...</td>\n",
              "      <td>...</td>\n",
              "      <td>...</td>\n",
              "      <td>...</td>\n",
              "    </tr>\n",
              "    <tr>\n",
              "      <th>995</th>\n",
              "      <td>30.377202</td>\n",
              "      <td>1.890787</td>\n",
              "      <td>Obesidade</td>\n",
              "      <td>(0.2, 0.4]</td>\n",
              "    </tr>\n",
              "    <tr>\n",
              "      <th>996</th>\n",
              "      <td>25.898121</td>\n",
              "      <td>3.177605</td>\n",
              "      <td>Normal</td>\n",
              "      <td>(0.6, 0.8]</td>\n",
              "    </tr>\n",
              "    <tr>\n",
              "      <th>997</th>\n",
              "      <td>27.086962</td>\n",
              "      <td>2.858559</td>\n",
              "      <td>Normal</td>\n",
              "      <td>(0.6, 0.8]</td>\n",
              "    </tr>\n",
              "    <tr>\n",
              "      <th>998</th>\n",
              "      <td>28.444945</td>\n",
              "      <td>2.101281</td>\n",
              "      <td>Normal</td>\n",
              "      <td>(0.2, 0.4]</td>\n",
              "    </tr>\n",
              "    <tr>\n",
              "      <th>999</th>\n",
              "      <td>27.043901</td>\n",
              "      <td>2.296545</td>\n",
              "      <td>Normal</td>\n",
              "      <td>(0.4, 0.6]</td>\n",
              "    </tr>\n",
              "  </tbody>\n",
              "</table>\n",
              "<p>1000 rows × 4 columns</p>\n",
              "</div>\n",
              "      <button class=\"colab-df-convert\" onclick=\"convertToInteractive('df-6e641c8b-af62-491f-9613-33a191d24f79')\"\n",
              "              title=\"Convert this dataframe to an interactive table.\"\n",
              "              style=\"display:none;\">\n",
              "        \n",
              "  <svg xmlns=\"http://www.w3.org/2000/svg\" height=\"24px\"viewBox=\"0 0 24 24\"\n",
              "       width=\"24px\">\n",
              "    <path d=\"M0 0h24v24H0V0z\" fill=\"none\"/>\n",
              "    <path d=\"M18.56 5.44l.94 2.06.94-2.06 2.06-.94-2.06-.94-.94-2.06-.94 2.06-2.06.94zm-11 1L8.5 8.5l.94-2.06 2.06-.94-2.06-.94L8.5 2.5l-.94 2.06-2.06.94zm10 10l.94 2.06.94-2.06 2.06-.94-2.06-.94-.94-2.06-.94 2.06-2.06.94z\"/><path d=\"M17.41 7.96l-1.37-1.37c-.4-.4-.92-.59-1.43-.59-.52 0-1.04.2-1.43.59L10.3 9.45l-7.72 7.72c-.78.78-.78 2.05 0 2.83L4 21.41c.39.39.9.59 1.41.59.51 0 1.02-.2 1.41-.59l7.78-7.78 2.81-2.81c.8-.78.8-2.07 0-2.86zM5.41 20L4 18.59l7.72-7.72 1.47 1.35L5.41 20z\"/>\n",
              "  </svg>\n",
              "      </button>\n",
              "      \n",
              "  <style>\n",
              "    .colab-df-container {\n",
              "      display:flex;\n",
              "      flex-wrap:wrap;\n",
              "      gap: 12px;\n",
              "    }\n",
              "\n",
              "    .colab-df-convert {\n",
              "      background-color: #E8F0FE;\n",
              "      border: none;\n",
              "      border-radius: 50%;\n",
              "      cursor: pointer;\n",
              "      display: none;\n",
              "      fill: #1967D2;\n",
              "      height: 32px;\n",
              "      padding: 0 0 0 0;\n",
              "      width: 32px;\n",
              "    }\n",
              "\n",
              "    .colab-df-convert:hover {\n",
              "      background-color: #E2EBFA;\n",
              "      box-shadow: 0px 1px 2px rgba(60, 64, 67, 0.3), 0px 1px 3px 1px rgba(60, 64, 67, 0.15);\n",
              "      fill: #174EA6;\n",
              "    }\n",
              "\n",
              "    [theme=dark] .colab-df-convert {\n",
              "      background-color: #3B4455;\n",
              "      fill: #D2E3FC;\n",
              "    }\n",
              "\n",
              "    [theme=dark] .colab-df-convert:hover {\n",
              "      background-color: #434B5C;\n",
              "      box-shadow: 0px 1px 3px 1px rgba(0, 0, 0, 0.15);\n",
              "      filter: drop-shadow(0px 1px 2px rgba(0, 0, 0, 0.3));\n",
              "      fill: #FFFFFF;\n",
              "    }\n",
              "  </style>\n",
              "\n",
              "      <script>\n",
              "        const buttonEl =\n",
              "          document.querySelector('#df-6e641c8b-af62-491f-9613-33a191d24f79 button.colab-df-convert');\n",
              "        buttonEl.style.display =\n",
              "          google.colab.kernel.accessAllowed ? 'block' : 'none';\n",
              "\n",
              "        async function convertToInteractive(key) {\n",
              "          const element = document.querySelector('#df-6e641c8b-af62-491f-9613-33a191d24f79');\n",
              "          const dataTable =\n",
              "            await google.colab.kernel.invokeFunction('convertToInteractive',\n",
              "                                                     [key], {});\n",
              "          if (!dataTable) return;\n",
              "\n",
              "          const docLinkHtml = 'Like what you see? Visit the ' +\n",
              "            '<a target=\"_blank\" href=https://colab.research.google.com/notebooks/data_table.ipynb>data table notebook</a>'\n",
              "            + ' to learn more about interactive tables.';\n",
              "          element.innerHTML = '';\n",
              "          dataTable['output_type'] = 'display_data';\n",
              "          await google.colab.output.renderOutput(dataTable, element);\n",
              "          const docLink = document.createElement('div');\n",
              "          docLink.innerHTML = docLinkHtml;\n",
              "          element.appendChild(docLink);\n",
              "        }\n",
              "      </script>\n",
              "    </div>\n",
              "  </div>\n",
              "  "
            ]
          },
          "metadata": {},
          "execution_count": 30
        }
      ]
    },
    {
      "cell_type": "code",
      "source": [
        "prs_data.groupby([\"prs_quantile\", \"imc_cat\"]).size()"
      ],
      "metadata": {
        "colab": {
          "base_uri": "https://localhost:8080/"
        },
        "id": "D5Yi7J6rbKd0",
        "outputId": "4655f0a2-ff79-4552-f34a-80d67d6584ec"
      },
      "execution_count": 31,
      "outputs": [
        {
          "output_type": "execute_result",
          "data": {
            "text/plain": [
              "prs_quantile  imc_cat  \n",
              "(0, 0.1]      Normal        83\n",
              "              Obesidade     17\n",
              "(0.1, 0.2]    Normal        91\n",
              "              Obesidade      9\n",
              "(0.2, 0.4]    Normal       167\n",
              "              Obesidade     33\n",
              "(0.4, 0.6]    Normal       175\n",
              "              Obesidade     25\n",
              "(0.6, 0.8]    Normal       171\n",
              "              Obesidade     29\n",
              "(0.8, 0.9]    Normal        87\n",
              "              Obesidade     13\n",
              "(0.9, 0.95]   Normal        43\n",
              "              Obesidade      7\n",
              "(0.95, 0.99]  Normal        30\n",
              "              Obesidade     10\n",
              "(0.99, 1.0]   Normal         8\n",
              "              Obesidade      2\n",
              "dtype: int64"
            ]
          },
          "metadata": {},
          "execution_count": 31
        }
      ]
    },
    {
      "cell_type": "code",
      "source": [
        "prs_data.groupby([\"prs_quantile\"]).size()"
      ],
      "metadata": {
        "id": "5pI6i4UM2zh_",
        "colab": {
          "base_uri": "https://localhost:8080/"
        },
        "outputId": "556babf3-afb2-426a-c9da-ab30706a4994"
      },
      "execution_count": 32,
      "outputs": [
        {
          "output_type": "execute_result",
          "data": {
            "text/plain": [
              "prs_quantile\n",
              "(0, 0.1]        100\n",
              "(0.1, 0.2]      100\n",
              "(0.2, 0.4]      200\n",
              "(0.4, 0.6]      200\n",
              "(0.6, 0.8]      200\n",
              "(0.8, 0.9]      100\n",
              "(0.9, 0.95]      50\n",
              "(0.95, 0.99]     40\n",
              "(0.99, 1.0]      10\n",
              "dtype: int64"
            ]
          },
          "metadata": {},
          "execution_count": 32
        }
      ]
    },
    {
      "cell_type": "code",
      "source": [
        "prevalences_1 = prs_data.groupby([\"prs_quantile\", \"imc_cat\"]).size() / prs_data.groupby([\"prs_quantile\"]).size()"
      ],
      "metadata": {
        "id": "LbonPz7FkE9y"
      },
      "execution_count": 33,
      "outputs": []
    },
    {
      "cell_type": "code",
      "source": [
        "prevalences_1.loc[:, \"Obesidade\"].reset_index()"
      ],
      "metadata": {
        "colab": {
          "base_uri": "https://localhost:8080/",
          "height": 0
        },
        "id": "coA0hq9dg9g3",
        "outputId": "97164a56-a610-4463-925e-f842abccd190"
      },
      "execution_count": 34,
      "outputs": [
        {
          "output_type": "execute_result",
          "data": {
            "text/plain": [
              "   prs_quantile      0\n",
              "0      (0, 0.1]  0.170\n",
              "1    (0.1, 0.2]  0.090\n",
              "2    (0.2, 0.4]  0.165\n",
              "3    (0.4, 0.6]  0.125\n",
              "4    (0.6, 0.8]  0.145\n",
              "5    (0.8, 0.9]  0.130\n",
              "6   (0.9, 0.95]  0.140\n",
              "7  (0.95, 0.99]  0.250\n",
              "8   (0.99, 1.0]  0.200"
            ],
            "text/html": [
              "\n",
              "  <div id=\"df-2b27941a-35f0-4acf-9494-2e5bc6620b75\">\n",
              "    <div class=\"colab-df-container\">\n",
              "      <div>\n",
              "<style scoped>\n",
              "    .dataframe tbody tr th:only-of-type {\n",
              "        vertical-align: middle;\n",
              "    }\n",
              "\n",
              "    .dataframe tbody tr th {\n",
              "        vertical-align: top;\n",
              "    }\n",
              "\n",
              "    .dataframe thead th {\n",
              "        text-align: right;\n",
              "    }\n",
              "</style>\n",
              "<table border=\"1\" class=\"dataframe\">\n",
              "  <thead>\n",
              "    <tr style=\"text-align: right;\">\n",
              "      <th></th>\n",
              "      <th>prs_quantile</th>\n",
              "      <th>0</th>\n",
              "    </tr>\n",
              "  </thead>\n",
              "  <tbody>\n",
              "    <tr>\n",
              "      <th>0</th>\n",
              "      <td>(0, 0.1]</td>\n",
              "      <td>0.170</td>\n",
              "    </tr>\n",
              "    <tr>\n",
              "      <th>1</th>\n",
              "      <td>(0.1, 0.2]</td>\n",
              "      <td>0.090</td>\n",
              "    </tr>\n",
              "    <tr>\n",
              "      <th>2</th>\n",
              "      <td>(0.2, 0.4]</td>\n",
              "      <td>0.165</td>\n",
              "    </tr>\n",
              "    <tr>\n",
              "      <th>3</th>\n",
              "      <td>(0.4, 0.6]</td>\n",
              "      <td>0.125</td>\n",
              "    </tr>\n",
              "    <tr>\n",
              "      <th>4</th>\n",
              "      <td>(0.6, 0.8]</td>\n",
              "      <td>0.145</td>\n",
              "    </tr>\n",
              "    <tr>\n",
              "      <th>5</th>\n",
              "      <td>(0.8, 0.9]</td>\n",
              "      <td>0.130</td>\n",
              "    </tr>\n",
              "    <tr>\n",
              "      <th>6</th>\n",
              "      <td>(0.9, 0.95]</td>\n",
              "      <td>0.140</td>\n",
              "    </tr>\n",
              "    <tr>\n",
              "      <th>7</th>\n",
              "      <td>(0.95, 0.99]</td>\n",
              "      <td>0.250</td>\n",
              "    </tr>\n",
              "    <tr>\n",
              "      <th>8</th>\n",
              "      <td>(0.99, 1.0]</td>\n",
              "      <td>0.200</td>\n",
              "    </tr>\n",
              "  </tbody>\n",
              "</table>\n",
              "</div>\n",
              "      <button class=\"colab-df-convert\" onclick=\"convertToInteractive('df-2b27941a-35f0-4acf-9494-2e5bc6620b75')\"\n",
              "              title=\"Convert this dataframe to an interactive table.\"\n",
              "              style=\"display:none;\">\n",
              "        \n",
              "  <svg xmlns=\"http://www.w3.org/2000/svg\" height=\"24px\"viewBox=\"0 0 24 24\"\n",
              "       width=\"24px\">\n",
              "    <path d=\"M0 0h24v24H0V0z\" fill=\"none\"/>\n",
              "    <path d=\"M18.56 5.44l.94 2.06.94-2.06 2.06-.94-2.06-.94-.94-2.06-.94 2.06-2.06.94zm-11 1L8.5 8.5l.94-2.06 2.06-.94-2.06-.94L8.5 2.5l-.94 2.06-2.06.94zm10 10l.94 2.06.94-2.06 2.06-.94-2.06-.94-.94-2.06-.94 2.06-2.06.94z\"/><path d=\"M17.41 7.96l-1.37-1.37c-.4-.4-.92-.59-1.43-.59-.52 0-1.04.2-1.43.59L10.3 9.45l-7.72 7.72c-.78.78-.78 2.05 0 2.83L4 21.41c.39.39.9.59 1.41.59.51 0 1.02-.2 1.41-.59l7.78-7.78 2.81-2.81c.8-.78.8-2.07 0-2.86zM5.41 20L4 18.59l7.72-7.72 1.47 1.35L5.41 20z\"/>\n",
              "  </svg>\n",
              "      </button>\n",
              "      \n",
              "  <style>\n",
              "    .colab-df-container {\n",
              "      display:flex;\n",
              "      flex-wrap:wrap;\n",
              "      gap: 12px;\n",
              "    }\n",
              "\n",
              "    .colab-df-convert {\n",
              "      background-color: #E8F0FE;\n",
              "      border: none;\n",
              "      border-radius: 50%;\n",
              "      cursor: pointer;\n",
              "      display: none;\n",
              "      fill: #1967D2;\n",
              "      height: 32px;\n",
              "      padding: 0 0 0 0;\n",
              "      width: 32px;\n",
              "    }\n",
              "\n",
              "    .colab-df-convert:hover {\n",
              "      background-color: #E2EBFA;\n",
              "      box-shadow: 0px 1px 2px rgba(60, 64, 67, 0.3), 0px 1px 3px 1px rgba(60, 64, 67, 0.15);\n",
              "      fill: #174EA6;\n",
              "    }\n",
              "\n",
              "    [theme=dark] .colab-df-convert {\n",
              "      background-color: #3B4455;\n",
              "      fill: #D2E3FC;\n",
              "    }\n",
              "\n",
              "    [theme=dark] .colab-df-convert:hover {\n",
              "      background-color: #434B5C;\n",
              "      box-shadow: 0px 1px 3px 1px rgba(0, 0, 0, 0.15);\n",
              "      filter: drop-shadow(0px 1px 2px rgba(0, 0, 0, 0.3));\n",
              "      fill: #FFFFFF;\n",
              "    }\n",
              "  </style>\n",
              "\n",
              "      <script>\n",
              "        const buttonEl =\n",
              "          document.querySelector('#df-2b27941a-35f0-4acf-9494-2e5bc6620b75 button.colab-df-convert');\n",
              "        buttonEl.style.display =\n",
              "          google.colab.kernel.accessAllowed ? 'block' : 'none';\n",
              "\n",
              "        async function convertToInteractive(key) {\n",
              "          const element = document.querySelector('#df-2b27941a-35f0-4acf-9494-2e5bc6620b75');\n",
              "          const dataTable =\n",
              "            await google.colab.kernel.invokeFunction('convertToInteractive',\n",
              "                                                     [key], {});\n",
              "          if (!dataTable) return;\n",
              "\n",
              "          const docLinkHtml = 'Like what you see? Visit the ' +\n",
              "            '<a target=\"_blank\" href=https://colab.research.google.com/notebooks/data_table.ipynb>data table notebook</a>'\n",
              "            + ' to learn more about interactive tables.';\n",
              "          element.innerHTML = '';\n",
              "          dataTable['output_type'] = 'display_data';\n",
              "          await google.colab.output.renderOutput(dataTable, element);\n",
              "          const docLink = document.createElement('div');\n",
              "          docLink.innerHTML = docLinkHtml;\n",
              "          element.appendChild(docLink);\n",
              "        }\n",
              "      </script>\n",
              "    </div>\n",
              "  </div>\n",
              "  "
            ]
          },
          "metadata": {},
          "execution_count": 34
        }
      ]
    },
    {
      "cell_type": "code",
      "source": [
        "fig = plt.subplots(figsize=(10, 5))\n",
        "\n",
        "ax = sns.lineplot(prevalences_1.loc[:, \"Obesidade\"], marker=\".\", markersize=15, color=\"black\").set( xlabel='Strata for BMI PRS', ylabel='Prevalence')\n",
        "\n",
        "plt.savefig(\"prev_per_quantile_good.png\")"
      ],
      "metadata": {
        "colab": {
          "base_uri": "https://localhost:8080/",
          "height": 0
        },
        "id": "oG0WUZnekUbq",
        "outputId": "ffaede9f-bc37-461d-e1b2-80f22464eb1c"
      },
      "execution_count": 35,
      "outputs": [
        {
          "output_type": "display_data",
          "data": {
            "text/plain": [
              "<Figure size 1000x500 with 1 Axes>"
            ],
            "image/png": "[encoded data removed]"
          },
          "metadata": {}
        }
      ]
    },
    {
      "cell_type": "code",
      "source": [
        "prevalences_2 = prs_good_of.groupby([\"prs_quantile\", \"imc_cat\"]).size() / prs_good_of.groupby([\"prs_quantile\"]).size()"
      ],
      "metadata": {
        "id": "7w_inpF_au41"
      },
      "execution_count": 36,
      "outputs": []
    },
    {
      "cell_type": "code",
      "source": [
        "fig = plt.subplots(figsize=(10, 5))\n",
        "\n",
        "ax = sns.lineplot(prevalences_2.loc[:, \"Obesidade\"], marker=\".\", markersize=15, color=\"black\").set( xlabel='Strata for BMI PRS', ylabel='Prevalence')\n",
        "plt.savefig(\"prev_per_quantile_bad.png\")"
      ],
      "metadata": {
        "colab": {
          "base_uri": "https://localhost:8080/",
          "height": 0
        },
        "id": "uAn86bT8f-bg",
        "outputId": "7a291679-9b81-4bf8-9443-b2745206a338"
      },
      "execution_count": 37,
      "outputs": [
        {
          "output_type": "display_data",
          "data": {
            "text/plain": [
              "<Figure size 1000x500 with 1 Axes>"
            ],
            "image/png": "[encoded data removed]"
          },
          "metadata": {}
        }
      ]
    }
  ]
}